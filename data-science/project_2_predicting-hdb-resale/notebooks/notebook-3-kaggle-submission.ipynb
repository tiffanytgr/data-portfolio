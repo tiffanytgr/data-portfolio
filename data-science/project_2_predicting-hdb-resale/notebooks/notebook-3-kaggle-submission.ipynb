{
 "cells": [
  {
   "cell_type": "markdown",
   "id": "9bf8c93c-9d7a-4c26-bc0a-847c7d23e4c9",
   "metadata": {},
   "source": [
    "## Project 2 - Housing Project"
   ]
  },
  {
   "cell_type": "markdown",
   "id": "b5015ce0-946e-47a2-87bf-3d5afa8a3bdc",
   "metadata": {},
   "source": [
    "### Kaggle Submission"
   ]
  },
  {
   "cell_type": "markdown",
   "id": "c907164e-b9dc-40f1-89a1-b185f67ba76e",
   "metadata": {},
   "source": [
    "This notebook will replicate all the cleaning, processing and other necessary steps done in notebook 1. However, now we will be working on the \"text.csv\"."
   ]
  },
  {
   "cell_type": "code",
   "execution_count": 1,
   "id": "361d63c7-0353-4981-9b83-74734830e30c",
   "metadata": {
    "tags": []
   },
   "outputs": [
    {
     "name": "stderr",
     "output_type": "stream",
     "text": [
      "C:\\Users\\tiffa\\anaconda3\\lib\\site-packages\\scipy\\__init__.py:146: UserWarning: A NumPy version >=1.17.3 and <1.25.0 is required for this version of SciPy (detected version 1.25.2\n",
      "  warnings.warn(f\"A NumPy version >={np_minversion} and <{np_maxversion}\"\n"
     ]
    }
   ],
   "source": [
    "import pandas as pd\n",
    "import numpy as np\n",
    "import seaborn as sns\n",
    "from sklearn.preprocessing import OneHotEncoder\n",
    "%matplotlib inline"
   ]
  },
  {
   "cell_type": "code",
   "execution_count": 26,
   "id": "552203f7-e6b8-4178-af24-487702c7b4fe",
   "metadata": {
    "tags": []
   },
   "outputs": [],
   "source": [
    "test = pd.read_csv(\"./datasets/test.csv\", low_memory = False)\n",
    "hdb_cpi = pd.read_csv(\"./datasets/hdb_cpi.csv\", skiprows = 9) "
   ]
  },
  {
   "cell_type": "code",
   "execution_count": 27,
   "id": "bc792cf3-19cb-4414-b85b-8d59ab301e30",
   "metadata": {},
   "outputs": [
    {
     "name": "stdout",
     "output_type": "stream",
     "text": [
      "(16737, 76)\n",
      "id                     int64\n",
      "Tranc_YearMonth       object\n",
      "town                  object\n",
      "flat_type             object\n",
      "block                 object\n",
      "                      ...   \n",
      "sec_sch_name          object\n",
      "cutoff_point           int64\n",
      "affiliation            int64\n",
      "sec_sch_latitude     float64\n",
      "sec_sch_longitude    float64\n",
      "Length: 76, dtype: object\n"
     ]
    }
   ],
   "source": [
    "print(test.shape)\n",
    "print(test.dtypes)"
   ]
  },
  {
   "cell_type": "code",
   "execution_count": 30,
   "id": "43d20435-3e69-4cd2-a7e8-e8a8792b076b",
   "metadata": {
    "tags": []
   },
   "outputs": [
    {
     "data": {
      "text/html": [
       "<div>\n",
       "<style scoped>\n",
       "    .dataframe tbody tr th:only-of-type {\n",
       "        vertical-align: middle;\n",
       "    }\n",
       "\n",
       "    .dataframe tbody tr th {\n",
       "        vertical-align: top;\n",
       "    }\n",
       "\n",
       "    .dataframe thead th {\n",
       "        text-align: right;\n",
       "    }\n",
       "</style>\n",
       "<table border=\"1\" class=\"dataframe\">\n",
       "  <thead>\n",
       "    <tr style=\"text-align: right;\">\n",
       "      <th></th>\n",
       "      <th>Data Series</th>\n",
       "      <th>Total (Index)</th>\n",
       "      <th>year</th>\n",
       "      <th>quarter</th>\n",
       "    </tr>\n",
       "  </thead>\n",
       "  <tbody>\n",
       "    <tr>\n",
       "      <th>0</th>\n",
       "      <td>2023 2Q</td>\n",
       "      <td>176.2</td>\n",
       "      <td>2023</td>\n",
       "      <td>2</td>\n",
       "    </tr>\n",
       "    <tr>\n",
       "      <th>1</th>\n",
       "      <td>2023 1Q</td>\n",
       "      <td>173.6</td>\n",
       "      <td>2023</td>\n",
       "      <td>1</td>\n",
       "    </tr>\n",
       "    <tr>\n",
       "      <th>2</th>\n",
       "      <td>2022 4Q</td>\n",
       "      <td>171.9</td>\n",
       "      <td>2022</td>\n",
       "      <td>4</td>\n",
       "    </tr>\n",
       "    <tr>\n",
       "      <th>3</th>\n",
       "      <td>2022 3Q</td>\n",
       "      <td>168.1</td>\n",
       "      <td>2022</td>\n",
       "      <td>3</td>\n",
       "    </tr>\n",
       "    <tr>\n",
       "      <th>4</th>\n",
       "      <td>2022 2Q</td>\n",
       "      <td>163.9</td>\n",
       "      <td>2022</td>\n",
       "      <td>2</td>\n",
       "    </tr>\n",
       "  </tbody>\n",
       "</table>\n",
       "</div>"
      ],
      "text/plain": [
       "  Data Series  Total (Index)  year  quarter\n",
       "0     2023 2Q          176.2  2023        2\n",
       "1     2023 1Q          173.6  2023        1\n",
       "2     2022 4Q          171.9  2022        4\n",
       "3     2022 3Q          168.1  2022        3\n",
       "4     2022 2Q          163.9  2022        2"
      ]
     },
     "execution_count": 30,
     "metadata": {},
     "output_type": "execute_result"
    }
   ],
   "source": [
    "# Repeat the same cleaning processes\n",
    "hdb_cpi = hdb_cpi.head(130)\n",
    "hdb_cpi[['year', 'quarter']] = hdb_cpi['Data Series'].str.split(expand=True)\n",
    "hdb_cpi['year'] = pd.to_numeric(hdb_cpi['year'])\n",
    "hdb_cpi['quarter'] = hdb_cpi['Data Series'].str.extract(r'(\\d+)Q').astype(int)\n",
    "hdb_cpi.head()"
   ]
  },
  {
   "cell_type": "code",
   "execution_count": 31,
   "id": "3a9c4519-6e24-4514-8a21-b5e27846f269",
   "metadata": {
    "tags": []
   },
   "outputs": [],
   "source": [
    "# Add quarter to data set for merging of cpi\n",
    "test['date'] = pd.to_datetime(test['Tranc_YearMonth'])\n",
    "test['quarter'] = test['date'].dt.quarter"
   ]
  },
  {
   "cell_type": "code",
   "execution_count": 32,
   "id": "061d18fa-b60e-4697-86e3-ff937ff7d263",
   "metadata": {},
   "outputs": [],
   "source": [
    "# merge HDB resale prices dataset with cpi and computing adjusted prices with price index (Q1 2009 = 100)\n",
    "\n",
    "test_merged = test.merge(hdb_cpi, left_on=['Tranc_Year', 'quarter'],\n",
    "                      right_on=['year', 'quarter'], how='left')\n",
    "test_merged = test_merged.drop(columns = [\"date\", \"Data Series\"])\n"
   ]
  },
  {
   "cell_type": "code",
   "execution_count": null,
   "id": "50501288-59b0-4ecd-ae9f-7267d32e552c",
   "metadata": {
    "tags": []
   },
   "outputs": [],
   "source": [
    "test.head()"
   ]
  },
  {
   "cell_type": "code",
   "execution_count": 33,
   "id": "70ccd619-85e5-46ce-9ab1-fcd8988766a0",
   "metadata": {
    "tags": []
   },
   "outputs": [],
   "source": [
    "# convert columns with \"Y\" or \"N\" to \"1\" and \"0\"\n",
    "\n",
    "test['commercial'] = test['commercial'].apply(lambda x:1 if x == \"Y\" else 0)\n",
    "test['market_hawker'] = test['market_hawker'].apply(lambda x:1 if x == \"Y\" else 0)\n",
    "test['multistorey_carpark'] = test['multistorey_carpark'].apply(lambda x:1 if x == \"Y\" else 0)\n",
    "test['precinct_pavilion'] = test['precinct_pavilion'].apply(lambda x:1 if x == \"Y\" else 0)"
   ]
  },
  {
   "cell_type": "code",
   "execution_count": 34,
   "id": "99e8b951-3154-42b4-8d16-ae570c73b179",
   "metadata": {
    "tags": []
   },
   "outputs": [],
   "source": [
    "# Read through data dictionary and manually remove redundant variables by dropping columns. Explanation in appendix\n",
    "\n",
    "# columns to drop\n",
    "drop_col = ['block', 'street_name','floor_area_sqft','Mall_Within_500m', 'Mall_Within_1km',\n",
    "       'Mall_Within_2km','full_flat_type',  'Hawker_Within_500m', 'residential','multistorey_carpark',\n",
    "       'Hawker_Within_1km', 'Hawker_Within_2km','1room_sold', '2room_sold',\n",
    "       '3room_sold', '4room_sold', '5room_sold', 'exec_sold', 'multigen_sold',\n",
    "       'studio_apartment_sold', '1room_rental', '2room_rental', '3room_rental',\n",
    "       'other_room_rental','pri_sch_latitude', 'bus_interchange',\n",
    "       'pri_sch_longitude', 'sec_sch_nearest_dist', 'sec_sch_name',\n",
    "       'cutoff_point', 'affiliation', 'sec_sch_latitude','bus_stop_name','postal','mid_storey','lower','upper', 'sec_sch_longitude','bus_stop_longitude','bus_stop_latitude','vacancy','storey_range']\n",
    "\n",
    "test.drop(drop_col, axis = 1, inplace=True)"
   ]
  },
  {
   "cell_type": "code",
   "execution_count": 35,
   "id": "df346962-6869-4f51-93fe-ef447d0f22cf",
   "metadata": {
    "tags": []
   },
   "outputs": [
    {
     "data": {
      "text/plain": [
       "Mall_Nearest_Distance        84\n",
       "id                            0\n",
       "Tranc_YearMonth               0\n",
       "planning_area                 0\n",
       "Hawker_Nearest_Distance       0\n",
       "hawker_food_stalls            0\n",
       "hawker_market_stalls          0\n",
       "mrt_nearest_distance          0\n",
       "mrt_name                      0\n",
       "mrt_interchange               0\n",
       "mrt_latitude                  0\n",
       "mrt_longitude                 0\n",
       "bus_stop_nearest_distance     0\n",
       "pri_sch_nearest_distance      0\n",
       "pri_sch_name                  0\n",
       "pri_sch_affiliation           0\n",
       "date                          0\n",
       "Longitude                     0\n",
       "Latitude                      0\n",
       "total_dwelling_units          0\n",
       "Tranc_Month                   0\n",
       "town                          0\n",
       "flat_type                     0\n",
       "floor_area_sqm                0\n",
       "flat_model                    0\n",
       "lease_commence_date           0\n",
       "Tranc_Year                    0\n",
       "mid                           0\n",
       "precinct_pavilion             0\n",
       "address                       0\n",
       "hdb_age                       0\n",
       "max_floor_lvl                 0\n",
       "year_completed                0\n",
       "commercial                    0\n",
       "market_hawker                 0\n",
       "quarter                       0\n",
       "dtype: int64"
      ]
     },
     "execution_count": 35,
     "metadata": {},
     "output_type": "execute_result"
    }
   ],
   "source": [
    "test.isna().sum().sort_values(ascending = False)"
   ]
  },
  {
   "cell_type": "code",
   "execution_count": 36,
   "id": "e91e69e8-5e3f-47a8-a975-db464c58ac0a",
   "metadata": {
    "tags": []
   },
   "outputs": [],
   "source": [
    "median = test.Mall_Nearest_Distance.median\n",
    "test['Mall_Nearest_Distance']=test['Mall_Nearest_Distance'].fillna(median)\n",
    "test['Mall_Nearest_Distance'] = pd.to_numeric(test['Mall_Nearest_Distance'], errors='coerce')\n",
    "\n",
    "# Check for NaN values\n",
    "nan_mask = test['Mall_Nearest_Distance'].isna()\n",
    "\n",
    "# Check for Inf values (positive and negative infinity)\n",
    "inf_mask = np.isinf(test['Mall_Nearest_Distance'])\n",
    "\n",
    "# Replace NaN values with 0 in the 'Mall_Nearest_Distance' column\n",
    "test['Mall_Nearest_Distance'].fillna(0, inplace=True)"
   ]
  },
  {
   "cell_type": "code",
   "execution_count": 37,
   "id": "87504060-766b-4036-97f3-da6caf50b50d",
   "metadata": {
    "tags": []
   },
   "outputs": [
    {
     "data": {
      "text/plain": [
       "(16737, 36)"
      ]
     },
     "execution_count": 37,
     "metadata": {},
     "output_type": "execute_result"
    }
   ],
   "source": [
    "test.shape"
   ]
  },
  {
   "cell_type": "code",
   "execution_count": 38,
   "id": "4112eb54-c8c4-4524-ad0d-49338313b582",
   "metadata": {
    "tags": []
   },
   "outputs": [],
   "source": [
    "# combine flat_types with 1 or 2 ROOMs to the same column\n",
    "test['flat_type'] = test['flat_type'].apply(lambda x: '1-2 ROOM' if x in ('1 ROOM', '2 ROOM') else x)"
   ]
  },
  {
   "cell_type": "code",
   "execution_count": 39,
   "id": "69c26f61-b3a7-4164-a68e-625569097185",
   "metadata": {
    "tags": []
   },
   "outputs": [],
   "source": [
    "# convert to numeric terms\n",
    "for x in ['floor_area_sqm','mid']:\n",
    "    test[x] = pd.to_numeric(test[x])"
   ]
  },
  {
   "cell_type": "code",
   "execution_count": 40,
   "id": "f0f49d24-f63e-42c4-a8a4-6e254038ae9e",
   "metadata": {
    "tags": []
   },
   "outputs": [],
   "source": [
    "# map towns according to region\n",
    "\n",
    "town_mapping = {'KALLANG/WHAMPOA':'RCR' , \n",
    "                'BISHAN':'RCR', \n",
    "                'BUKIT BATOK':'OCR', \n",
    "                'YISHUN':'OCR', \n",
    "                'GEYLANG':'RCR',\n",
    "               'HOUGANG':'OCR', \n",
    "                'BEDOK':'OCR', \n",
    "                'SENGKANG':'OCR',\n",
    "                'TAMPINES':'OCR', \n",
    "                'SERANGOON':'RCR',\n",
    "               'BUKIT MERAH':'CCR', \n",
    "                'BUKIT PANJANG':'OCR', \n",
    "                'WOODLANDS':'OCR',\n",
    "                'JURONG WEST':'OCR',\n",
    "                'TOA PAYOH':'RCR', \n",
    "                'CHOA CHU KANG':'OCR', \n",
    "                'SEMBAWANG':'OCR',\n",
    "                'ANG MO KIO':'OCR',\n",
    "               'PASIR RIS':'OCR', \n",
    "                'CLEMENTI':'OCR', \n",
    "                'PUNGGOL':'OCR', \n",
    "                'JURONG EAST':'OCR',\n",
    "                'CENTRAL AREA':'CCR',\n",
    "                'QUEENSTOWN':'CCR', \n",
    "                'BUKIT TIMAH':'CCR', \n",
    "                'MARINE PARADE':'OCR'}\n",
    "test['town_region'] = test['town'].map(town_mapping)\n"
   ]
  },
  {
   "cell_type": "code",
   "execution_count": 41,
   "id": "c1539496-905e-424d-84eb-d988fc270662",
   "metadata": {
    "tags": []
   },
   "outputs": [],
   "source": [
    "# remaining lease\n",
    "test['remaining_lease'] = 99-(test['Tranc_Year']- test['lease_commence_date'])"
   ]
  },
  {
   "cell_type": "code",
   "execution_count": 44,
   "id": "0b2f2fcf-0230-4f58-84c2-5e496745837b",
   "metadata": {
    "scrolled": true,
    "tags": []
   },
   "outputs": [],
   "source": [
    "# top pri sch\n",
    "\n",
    "top_pri_schools = ['Ai Tong School',\n",
    "'Anglo-Chinese School (Junior)',\n",
    "'Anglo-Chinese School (Primary)*',\n",
    "'Catholic High School',\n",
    "'CHIJ Saint Nicholas Girls\\' School',\n",
    "'Nan Hua Primary School',\n",
    "'Nanyang Primary School',\n",
    "'Raffles Girls’ Primary School',\n",
    "'Rosyth School', 'Henry Park Primary School','Saint Joseph\\'s Institution Junior'\n",
    "'Saint Hilda\\'s Primary School',\n",
    "'Tao Nan School',\n",
    "'Maha Bodhi School',\n",
    "'Pei Hwa Presbyterian Primary School']\n",
    "\n",
    "test['top_pri_sch'] = test.pri_sch_name.isin(top_pri_schools).astype(int)\n",
    "\n",
    "# drop pri sch name column as not needed anymore\n",
    "test = test.drop(['pri_sch_name'], axis=1)\n"
   ]
  },
  {
   "cell_type": "code",
   "execution_count": 45,
   "id": "8e67b7f5-ac9c-438a-a1dc-e9f72c28daf5",
   "metadata": {
    "tags": []
   },
   "outputs": [
    {
     "data": {
      "text/plain": [
       "(16737, 38)"
      ]
     },
     "execution_count": 45,
     "metadata": {},
     "output_type": "execute_result"
    }
   ],
   "source": [
    "test.shape"
   ]
  },
  {
   "cell_type": "code",
   "execution_count": 46,
   "id": "cf10a813-f45b-48ef-9435-45c09c768c64",
   "metadata": {
    "tags": []
   },
   "outputs": [
    {
     "data": {
      "text/plain": [
       "Index(['id', 'Tranc_YearMonth', 'town', 'flat_type', 'floor_area_sqm',\n",
       "       'flat_model', 'lease_commence_date', 'Tranc_Year', 'Tranc_Month', 'mid',\n",
       "       'address', 'hdb_age', 'max_floor_lvl', 'year_completed', 'commercial',\n",
       "       'market_hawker', 'precinct_pavilion', 'total_dwelling_units',\n",
       "       'Latitude', 'Longitude', 'planning_area', 'Mall_Nearest_Distance',\n",
       "       'Hawker_Nearest_Distance', 'hawker_food_stalls', 'hawker_market_stalls',\n",
       "       'mrt_nearest_distance', 'mrt_name', 'mrt_interchange', 'mrt_latitude',\n",
       "       'mrt_longitude', 'bus_stop_nearest_distance',\n",
       "       'pri_sch_nearest_distance', 'pri_sch_affiliation', 'date', 'quarter',\n",
       "       'town_region', 'remaining_lease', 'top_pri_sch'],\n",
       "      dtype='object')"
      ]
     },
     "execution_count": 46,
     "metadata": {},
     "output_type": "execute_result"
    }
   ],
   "source": [
    "test.columns"
   ]
  },
  {
   "cell_type": "code",
   "execution_count": 47,
   "id": "ccf3bedf-2a27-4427-a2a6-7100cb6963e0",
   "metadata": {
    "tags": []
   },
   "outputs": [
    {
     "name": "stderr",
     "output_type": "stream",
     "text": [
      "C:\\Users\\tiffa\\anaconda3\\lib\\site-packages\\sklearn\\preprocessing\\_encoders.py:972: FutureWarning: `sparse` was renamed to `sparse_output` in version 1.2 and will be removed in 1.4. `sparse_output` is ignored unless you leave `sparse` to its default value.\n",
      "  warnings.warn(\n"
     ]
    }
   ],
   "source": [
    "from sklearn.preprocessing import OneHotEncoder\n",
    "\n",
    "columns_to_encode = ['town_region', 'flat_type', 'flat_model','town', 'mrt_name']\n",
    "encoder = OneHotEncoder(sparse=False, dtype=int, handle_unknown='ignore')\n",
    "encoded_features = encoder.fit_transform(test[columns_to_encode])\n",
    "encoded_column_names = encoder.get_feature_names_out(input_features=columns_to_encode) \n",
    "encoded_df = pd.DataFrame(encoded_features, columns=encoded_column_names)\n",
    "test = test.drop(columns=columns_to_encode) \n",
    "test = pd.concat([test, encoded_df], axis=1) "
   ]
  },
  {
   "cell_type": "code",
   "execution_count": 48,
   "id": "8f049f4d-2056-4112-a7d2-91baefa191bb",
   "metadata": {
    "tags": []
   },
   "outputs": [],
   "source": [
    "# create bins for remaining lease based on summary stats of test data (as above)\n",
    "bins = [45,66,74,84,98]\n",
    "bins_lease = pd.cut(test['remaining_lease'],bins)\n",
    "lease_dummy = pd.get_dummies(bins_lease, prefix='lease', dtype = 'int', drop_first=True)\n",
    "test1 = pd.merge(test, lease_dummy, left_index=True, right_index=True)\n",
    "test1 = test1.drop(columns=\"remaining_lease\")"
   ]
  },
  {
   "cell_type": "code",
   "execution_count": 49,
   "id": "40491bd0-8614-4464-86d5-7f65699a22a8",
   "metadata": {
    "tags": []
   },
   "outputs": [],
   "source": [
    "# create bins based on summary stats \n",
    "bins = [49,80,96,113,280]\n",
    "bins_floor_area = pd.cut(test1['floor_area_sqm'],bins)\n",
    "floor_dummy = pd.get_dummies(bins_floor_area, prefix='floor_area_', dtype = 'int', drop_first=True)\n",
    "test2 = pd.merge(test1, floor_dummy, left_index=True, right_index=True)\n",
    "test2 = test2.drop(columns=\"floor_area_sqm\")"
   ]
  },
  {
   "cell_type": "code",
   "execution_count": 51,
   "id": "b8c84a97-4b27-454d-9f98-a95f53c1f9fc",
   "metadata": {
    "tags": []
   },
   "outputs": [],
   "source": [
    "test_cleaned = test2[['mid',\n",
    " 'max_floor_lvl',\n",
    " 'commercial',\n",
    " 'market_hawker',\n",
    " 'precinct_pavilion',\n",
    " 'total_dwelling_units',\n",
    " 'Mall_Nearest_Distance',\n",
    " 'Hawker_Nearest_Distance',\n",
    " 'hawker_food_stalls',\n",
    " 'hawker_market_stalls',\n",
    " 'mrt_nearest_distance',\n",
    " 'bus_stop_nearest_distance',\n",
    " 'pri_sch_nearest_distance',\n",
    " 'pri_sch_affiliation',\n",
    " 'top_pri_sch',\n",
    " 'town_region_OCR',\n",
    " 'flat_type_1-2 ROOM',\n",
    " 'flat_type_3 ROOM',\n",
    " 'flat_type_4 ROOM',\n",
    " 'flat_type_5 ROOM',\n",
    " 'flat_model_Apartment',\n",
    " 'flat_model_DBSS',\n",
    " 'flat_model_Improved-Maisonette',\n",
    " 'flat_model_Maisonette',\n",
    " 'flat_model_Model A-Maisonette',\n",
    " 'flat_model_Model A2',\n",
    " 'flat_model_New Generation',\n",
    " 'flat_model_Premium Apartment',\n",
    " 'flat_model_Premium Apartment Loft',\n",
    " 'flat_model_Premium Maisonette',\n",
    " 'flat_model_Simplified',\n",
    " 'flat_model_Standard',\n",
    " 'flat_model_Terrace',\n",
    " 'flat_model_Type S1',\n",
    " 'flat_model_Type S2',\n",
    " 'town_BEDOK',\n",
    " 'town_BUKIT BATOK',\n",
    " 'town_BUKIT MERAH',\n",
    " 'town_CENTRAL AREA',\n",
    " 'town_CLEMENTI',\n",
    " 'town_HOUGANG',\n",
    " 'town_JURONG EAST',\n",
    " 'town_MARINE PARADE',\n",
    " 'town_PUNGGOL',\n",
    " 'town_QUEENSTOWN',\n",
    " 'town_SENGKANG',\n",
    " 'mrt_name_Aljunied',\n",
    " 'mrt_name_Ang Mo Kio',\n",
    " 'mrt_name_Bartley',\n",
    " 'mrt_name_Bedok',\n",
    " 'mrt_name_Bedok North',\n",
    " 'mrt_name_Bedok Reservoir',\n",
    " 'mrt_name_Bencoolen',\n",
    " 'mrt_name_Bendemeer',\n",
    " 'mrt_name_Boon Keng',\n",
    " 'mrt_name_Braddell',\n",
    " 'mrt_name_Bras Basah',\n",
    " 'mrt_name_Buangkok',\n",
    " 'mrt_name_Bukit Batok',\n",
    " 'mrt_name_Bukit Gombak',\n",
    " 'mrt_name_Caldecott',\n",
    " 'mrt_name_Chinese Garden',\n",
    " 'mrt_name_Clarke Quay',\n",
    " 'mrt_name_Clementi',\n",
    " 'mrt_name_Commonwealth',\n",
    " 'mrt_name_Dakota',\n",
    " 'mrt_name_Dover',\n",
    " 'mrt_name_Eunos',\n",
    " 'mrt_name_Farrer Park',\n",
    " 'mrt_name_Geylang Bahru',\n",
    " 'mrt_name_Hillview',\n",
    " 'mrt_name_Holland Village',\n",
    " 'mrt_name_Hougang',\n",
    " 'mrt_name_Jalan Besar',\n",
    " 'mrt_name_Kaki Bukit',\n",
    " 'mrt_name_Kallang',\n",
    " 'mrt_name_Kembangan',\n",
    " 'mrt_name_Kovan',\n",
    " 'mrt_name_Labrador Park',\n",
    " 'mrt_name_Lavender',\n",
    " 'mrt_name_Lorong Chuan',\n",
    " 'mrt_name_Marymount',\n",
    " 'mrt_name_Mattar',\n",
    " 'mrt_name_Mountbatten',\n",
    " 'mrt_name_Nicoll Highway',\n",
    " 'mrt_name_Novena',\n",
    " 'mrt_name_Potong Pasir',\n",
    " 'mrt_name_Queenstown',\n",
    " 'mrt_name_Redhill',\n",
    " 'mrt_name_Rochor',\n",
    " 'mrt_name_Tai Seng',\n",
    " 'mrt_name_Tanjong Pagar',\n",
    " 'mrt_name_Telok Blangah',\n",
    " 'mrt_name_Tiong Bahru',\n",
    " 'mrt_name_Toa Payoh',\n",
    " 'mrt_name_Ubi',\n",
    " 'mrt_name_Woodleigh',\n",
    " 'mrt_name_Yio Chu Kang',\n",
    " 'lease_(66, 74]',\n",
    " 'lease_(74, 84]',\n",
    " 'lease_(84, 98]',\n",
    " 'floor_area__(80, 96]',\n",
    " 'floor_area__(96, 113]',\n",
    " 'floor_area__(113, 280]']]"
   ]
  },
  {
   "cell_type": "code",
   "execution_count": 52,
   "id": "f05c8e87-d776-4247-8b05-ceb822de0380",
   "metadata": {
    "tags": []
   },
   "outputs": [
    {
     "data": {
      "text/plain": [
       "(16737, 104)"
      ]
     },
     "execution_count": 52,
     "metadata": {},
     "output_type": "execute_result"
    }
   ],
   "source": [
    "test_cleaned.shape"
   ]
  },
  {
   "cell_type": "code",
   "execution_count": 53,
   "id": "efc0bca5-8500-4a63-88ad-1e3fd127096a",
   "metadata": {
    "tags": []
   },
   "outputs": [
    {
     "data": {
      "text/plain": [
       "(16737, 104)"
      ]
     },
     "execution_count": 53,
     "metadata": {},
     "output_type": "execute_result"
    }
   ],
   "source": [
    "test_cleaned.shape"
   ]
  },
  {
   "cell_type": "code",
   "execution_count": 54,
   "id": "dc1da246-08ed-4f83-870c-c636fa396b59",
   "metadata": {
    "tags": []
   },
   "outputs": [],
   "source": [
    "test_cleaned.to_csv(\"./datasets/test_cleaned.csv\")"
   ]
  },
  {
   "cell_type": "code",
   "execution_count": null,
   "id": "45dba4ca-0592-436a-aa49-d8f8ba587f6a",
   "metadata": {},
   "outputs": [],
   "source": []
  }
 ],
 "metadata": {
  "kernelspec": {
   "display_name": "Python 3 (ipykernel)",
   "language": "python",
   "name": "python3"
  },
  "language_info": {
   "codemirror_mode": {
    "name": "ipython",
    "version": 3
   },
   "file_extension": ".py",
   "mimetype": "text/x-python",
   "name": "python",
   "nbconvert_exporter": "python",
   "pygments_lexer": "ipython3",
   "version": "3.10.12"
  }
 },
 "nbformat": 4,
 "nbformat_minor": 5
}
