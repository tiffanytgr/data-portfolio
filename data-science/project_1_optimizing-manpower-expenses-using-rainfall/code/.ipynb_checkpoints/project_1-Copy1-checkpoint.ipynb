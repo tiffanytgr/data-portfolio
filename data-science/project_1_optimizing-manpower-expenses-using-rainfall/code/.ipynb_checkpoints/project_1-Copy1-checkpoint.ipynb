{
 "cells": [
  {
   "cell_type": "markdown",
   "metadata": {},
   "source": [
    "<img src=\"http://imgur.com/1ZcRyrc.png\" style=\"float: left; margin: 20px; height: 55px\">\n",
    "\n",
    "# Project 1: Data Analysis of Singapore Rainfall"
   ]
  },
  {
   "cell_type": "markdown",
   "metadata": {},
   "source": [
    "--- \n",
    "# Part 1\n",
    "\n",
    "Part 1 requires knowledge of basic Python.\n",
    "\n",
    "---"
   ]
  },
  {
   "cell_type": "markdown",
   "metadata": {},
   "source": [
    "### Contents:\n",
    "- [Background](#Background)\n",
    "- [Data Import & Cleaning](#Data-Import-and-Cleaning)\n",
    "- [Exploratory Data Analysis](#Exploratory-Data-Analysis)\n",
    "- [Data Visualization](#Visualize-the-Data)\n",
    "- [Conclusions and Recommendations](#Conclusions-and-Recommendations)"
   ]
  },
  {
   "cell_type": "markdown",
   "metadata": {},
   "source": [
    "## Background"
   ]
  },
  {
   "cell_type": "markdown",
   "metadata": {},
   "source": [
    "According to the [Meteorological Services Singapore](http://www.weather.gov.sg/climate-climate-of-singapore/#:~:text=Singapore%20is%20situated%20near%20the,month%2Dto%2Dmonth%20variation.), Singapore has typical tropical climate with adundant rainfall, high and uniform temperatures and high humidity all year round, since its situated near the equator. There are many factors that help us understand the climate of a country and in this project we are going to look into a few, especially rainfall.\n",
    "\n",
    "Singapore’s climate is characterised by two main monsoon seasons separated by inter-monsoonal periods.  The **Northeast Monsoon** occurs from December to early March, and the **Southwest Monsoon** from June to September.\n",
    "\n",
    "The major weather systems affecting Singapore that can lead to heavy rainfall are:\n",
    "\n",
    "-Monsoon surges, or strong wind episodes in the Northeast Monsoon flow bringing about major rainfall events;\n",
    "\n",
    "-Sumatra squalls, an organised line of thunderstorms travelling eastward across Singapore, having developed over the island of Sumatra or Straits of Malacca west of us;\n",
    "\n",
    "-Afternoon and evening thunderstorms caused by strong surface heating and by the sea breeze circulation that develops in the afternoon.\n",
    "\n",
    "Singapore’s climate station has been located at several different sites in the past 140 years. The station had been decommissioned at various points in the past due to changes to local land use in the site’s vicinity, and had to be relocated. Since 1984, the climate station has been located at **Changi**.\n",
    "\n",
    "There are other metrics of climate such as temperature, humidity, sun shine duration, wind speed, cloud cover etc. All the dataset used in the project comes from [data.gov.sg](data.gov.sg), as recorded at the Changi climate station \n"
   ]
  },
  {
   "cell_type": "markdown",
   "metadata": {},
   "source": [
    "### Choose your Data\n",
    "\n",
    "There are 2 datasets included in the [`data`](./data/) folder for this project. These correponds to rainfall information. \n",
    "\n",
    "* [`rainfall-monthly-number-of-rain-days.csv`](./data/rainfall-monthly-number-of-rain-days.csv): Monthly number of rain days from 1982 to 2022. A day is considered to have “rained” if the total rainfall for that day is 0.2mm or more.\n",
    "* [`rainfall-monthly-total.csv`](./data/rainfall-monthly-total.csv): Monthly total rain recorded in mm(millimeters) from 1982 to 2022\n",
    "\n",
    "Other relevant weather datasets from [data.gov.sg](data.gov.sg) that you can download and use are as follows:\n",
    "\n",
    "* [Relative Humidity](https://data.gov.sg/dataset/relative-humidity-monthly-mean)\n",
    "* [Monthly Maximum Daily Rainfall](https://data.gov.sg/dataset/rainfall-monthly-maximum-daily-total)\n",
    "* [Hourly wet buld temperature](https://data.gov.sg/dataset/wet-bulb-temperature-hourly)\n",
    "* [Monthly mean sunshine hours](https://data.gov.sg/dataset/sunshine-duration-monthly-mean-daily-duration)\n",
    "* [Surface Air Temperature](https://data.gov.sg/dataset/surface-air-temperature-mean-daily-minimum)\n",
    "\n",
    "You can also use other datasets for your analysis, make sure to cite the source when you are using them"
   ]
  },
  {
   "cell_type": "markdown",
   "metadata": {},
   "source": [
    "**To-Do:** *Fill out this cell with the datasets you will use for your analysis. Write a brief description of the contents for each dataset that you choose.*"
   ]
  },
  {
   "cell_type": "markdown",
   "metadata": {},
   "source": [
    "## Problem Statement"
   ]
  },
  {
   "cell_type": "markdown",
   "metadata": {},
   "source": [
    "Decide on your problem statement that will guide your analysis for this project. For guidelines, sample prompts, or inspiration, check out the README.\n",
    "\n",
    "This project aims to find out 1) which **month in a calendar year is best suitable to host a series of outdoor football matches to be played daily** and 2) **time of day** that is optimal for athletes' performance.\n",
    "<br> As this is a kid's football competition, matches cannot proceed if it rains at all due to precautionary reasons.\n",
    "<br> Therefore, the most suitable month is defined as the month with the **lowest % of rainy days**\n",
    "\n",
    "Target Variable: Month of calendar year\n",
    "\n",
    "% of rainy days (no. of rainy days / total no. of days in month)\n",
    "predictors: months, windspeed \n",
    "<br> Scope: use data from 1982 vs past 10 years\n",
    "<br> Add on: do time series forecasting / find optimal time of day to host (low humidity)\n",
    "\n",
    "\n",
    "\n",
    "Notes from Anannya:\n",
    "<br> modular\n",
    "<br> specific\n",
    "<br> Seasonality / outdoor trips\n",
    "<br> sub-modular questions should be able to allow me to do EDA\n",
    "<br> rain vs sunshine hours\n",
    "<br> of rainy days in a year vs outdoor activities\n",
    "\n",
    "\n",
    "<br> humidity vs athlete's performance\n",
    "<br> label encoder\n",
    "<br> One hot encoder"
   ]
  },
  {
   "cell_type": "markdown",
   "metadata": {},
   "source": [
    "Rainfall affects daily activities of Singapore population, hence it is worth analysing rainfall data to identify trends "
   ]
  },
  {
   "cell_type": "markdown",
   "metadata": {},
   "source": [
    "### Outside Research"
   ]
  },
  {
   "cell_type": "markdown",
   "metadata": {},
   "source": [
    "Based on your problem statement and your chosen datasets, spend some time doing outside research on how climate change is affecting different industries or additional information that might be relevant. Summarize your findings below. If you bring in any outside tables or charts, make sure you are explicit about having borrowed them. If you quote any text, make sure that it renders as being quoted. **Make sure that you cite your sources.**"
   ]
  },
  {
   "cell_type": "markdown",
   "metadata": {},
   "source": [
    "**To-Do:** *Fill out this cell with outside research or any additional background information that will support your analysis.*"
   ]
  },
  {
   "cell_type": "markdown",
   "metadata": {},
   "source": []
  },
  {
   "cell_type": "markdown",
   "metadata": {},
   "source": [
    "### Coding Challenges\n",
    "\n",
    "1. Manually calculate mean:\n",
    "\n",
    "    Write a function that takes in values and returns the mean of the values. Create a list of numbers that you test on your function to check to make sure your function works!\n",
    "    \n",
    "    *Note*: Do not use any mean methods built-in to any Python libraries to do this! This should be done without importing any additional libraries."
   ]
  },
  {
   "cell_type": "code",
   "execution_count": 1,
   "metadata": {},
   "outputs": [
    {
     "name": "stdout",
     "output_type": "stream",
     "text": [
      "2.3333333333333335\n"
     ]
    }
   ],
   "source": [
    "# Code:\n",
    "\n",
    "def calc_mean(values):\n",
    "    n = len(values)\n",
    "    print(sum(values)/n)\n",
    "    \n",
    "    \n",
    "calc_mean([1,2,4])"
   ]
  },
  {
   "cell_type": "markdown",
   "metadata": {},
   "source": [
    "2. Manually calculate standard deviation:\n",
    "\n",
    "    The formula for standard deviation is below:\n",
    "\n",
    "    $$\\sigma = \\sqrt{\\frac{1}{n}\\sum_{i=1}^n(x_i - \\mu)^2}$$\n",
    "\n",
    "    Where $x_i$ represents each value in the dataset, $\\mu$ represents the mean of all values in the dataset and $n$ represents the number of values in the dataset.\n",
    "\n",
    "    Write a function that takes in values and returns the standard deviation of the values using the formula above. Hint: use the function you wrote above to calculate the mean! Use the list of numbers you created above to test on your function.\n",
    "    \n",
    "    *Note*: Do not use any standard deviation methods built-in to any Python libraries to do this! This should be done without importing any additional libraries."
   ]
  },
  {
   "cell_type": "code",
   "execution_count": 2,
   "metadata": {},
   "outputs": [],
   "source": [
    "values = [1,2,4]"
   ]
  },
  {
   "cell_type": "code",
   "execution_count": 3,
   "metadata": {},
   "outputs": [
    {
     "name": "stdout",
     "output_type": "stream",
     "text": [
      "1.247219128924647\n"
     ]
    }
   ],
   "source": [
    "# Code:\n",
    "\n",
    "def calc_std(values):\n",
    "    n = len(values)\n",
    "    mean = sum(values)/n\n",
    "    var = sum((x - mean)**2 for x in values) / n\n",
    "    std = var**0.5\n",
    "    print(std)\n",
    "    \n",
    "calc_std(values)"
   ]
  },
  {
   "cell_type": "markdown",
   "metadata": {},
   "source": [
    "--- \n",
    "# Part 2\n",
    "\n",
    "Part 2 requires knowledge of Pandas, EDA, data cleaning, and data visualization.\n",
    "\n",
    "---"
   ]
  },
  {
   "cell_type": "markdown",
   "metadata": {},
   "source": [
    "*All libraries used should be added here*"
   ]
  },
  {
   "cell_type": "code",
   "execution_count": 4,
   "metadata": {},
   "outputs": [],
   "source": [
    "# Imports:\n",
    "\n",
    "import pandas as pd\n",
    "import numpy as np\n",
    "import matplotlib.pyplot as plt\n",
    "import seaborn as sns\n",
    "import statsmodels.formula.api as sm\n"
   ]
  },
  {
   "cell_type": "markdown",
   "metadata": {},
   "source": [
    "## Data Import and Cleaning"
   ]
  },
  {
   "cell_type": "markdown",
   "metadata": {
    "tags": []
   },
   "source": [
    "### Data Import & Cleaning\n",
    "\n",
    "Import all the datasets that you selected for this project and go through the following steps at a minimum. You are welcome to do further cleaning as you feel necessary. Make sure to comment your code to showcase the intent behind the data processing step.\n",
    "1. Display the data: print the first 5 rows of each dataframe to your Jupyter notebook.\n",
    "2. Check for missing values and datatype.\n",
    "3. Check for any obvious issues with the observations.\n",
    "4. Fix any errors you identified in steps 2-3.\n",
    "6. Fix any incorrect data types found in step 5.\n",
    "    - Fix any individual values preventing other columns from being the appropriate type.\n",
    "    - If the month column data is better analyzed as month and year, create new columns for the same\n",
    "7. Rename Columns.\n",
    "    - Column names should be all lowercase.\n",
    "    - Column names should not contain spaces (underscores will suffice--this allows for using the `df.column_name` method to access columns in addition to `df['column_name']`).\n",
    "    - Column names should be unique and informative.\n",
    "8. Drop unnecessary rows (if needed).\n",
    "9. Merge dataframes that can be merged.\n",
    "    - Since different climate metrics are in month format, you can merge them into one single dataframe for easier analysis\n",
    "10. Perform any additional cleaning that you feel is necessary.\n",
    "11. Save your cleaned and merged dataframes as csv files."
   ]
  },
  {
   "cell_type": "code",
   "execution_count": 5,
   "metadata": {},
   "outputs": [
    {
     "name": "stdout",
     "output_type": "stream",
     "text": [
      "<class 'pandas.core.frame.DataFrame'>\n",
      "RangeIndex: 497 entries, 0 to 496\n",
      "Data columns (total 2 columns):\n",
      " #   Column            Non-Null Count  Dtype \n",
      "---  ------            --------------  ----- \n",
      " 0   month             497 non-null    object\n",
      " 1   no_of_rainy_days  497 non-null    int64 \n",
      "dtypes: int64(1), object(1)\n",
      "memory usage: 7.9+ KB\n"
     ]
    }
   ],
   "source": [
    "# Load dataset with No. of Rainy days per month:\n",
    "raindays = pd.read_csv(\"../data/RainfallMonthlyNumberofRainDays.csv\")\n",
    "raindays.info()"
   ]
  },
  {
   "cell_type": "code",
   "execution_count": 6,
   "metadata": {},
   "outputs": [
    {
     "name": "stdout",
     "output_type": "stream",
     "text": [
      "<class 'pandas.core.frame.DataFrame'>\n",
      "RangeIndex: 497 entries, 0 to 496\n",
      "Data columns (total 2 columns):\n",
      " #   Column          Non-Null Count  Dtype  \n",
      "---  ------          --------------  -----  \n",
      " 0   month           497 non-null    object \n",
      " 1   total_rainfall  497 non-null    float64\n",
      "dtypes: float64(1), object(1)\n",
      "memory usage: 7.9+ KB\n"
     ]
    }
   ],
   "source": [
    "# Load dataset with total monthly rainfall:\n",
    "rainfall = pd.read_csv(\"../data/RainfallMonthlyTotal.csv\")\n",
    "rainfall.info()"
   ]
  },
  {
   "cell_type": "code",
   "execution_count": 7,
   "metadata": {},
   "outputs": [
    {
     "name": "stdout",
     "output_type": "stream",
     "text": [
      "<class 'pandas.core.frame.DataFrame'>\n",
      "RangeIndex: 498 entries, 0 to 497\n",
      "Data columns (total 2 columns):\n",
      " #   Column               Non-Null Count  Dtype  \n",
      "---  ------               --------------  -----  \n",
      " 0   month                498 non-null    object \n",
      " 1   temp_mean_daily_min  498 non-null    float64\n",
      "dtypes: float64(1), object(1)\n",
      "memory usage: 7.9+ KB\n"
     ]
    }
   ],
   "source": [
    "# Load dataset with minimum surface air temp:\n",
    "\n",
    "temp = pd.read_csv(\"../data/surface-air-temperature-monthly-mean-daily-minimum.csv\")\n",
    "temp.info()"
   ]
  },
  {
   "cell_type": "code",
   "execution_count": 8,
   "metadata": {},
   "outputs": [
    {
     "name": "stdout",
     "output_type": "stream",
     "text": [
      "<class 'pandas.core.frame.DataFrame'>\n",
      "RangeIndex: 498 entries, 0 to 497\n",
      "Data columns (total 2 columns):\n",
      " #   Column   Non-Null Count  Dtype  \n",
      "---  ------   --------------  -----  \n",
      " 0   month    498 non-null    object \n",
      " 1   mean_rh  498 non-null    float64\n",
      "dtypes: float64(1), object(1)\n",
      "memory usage: 7.9+ KB\n"
     ]
    }
   ],
   "source": [
    "# Load dataset with relative humidity:\n",
    "\n",
    "humidity = pd.read_csv(\"../data/relative-humidity-monthly-mean.csv\")\n",
    "humidity.info()"
   ]
  },
  {
   "cell_type": "code",
   "execution_count": 9,
   "metadata": {},
   "outputs": [
    {
     "data": {
      "text/html": [
       "<div>\n",
       "<style scoped>\n",
       "    .dataframe tbody tr th:only-of-type {\n",
       "        vertical-align: middle;\n",
       "    }\n",
       "\n",
       "    .dataframe tbody tr th {\n",
       "        vertical-align: top;\n",
       "    }\n",
       "\n",
       "    .dataframe thead th {\n",
       "        text-align: right;\n",
       "    }\n",
       "</style>\n",
       "<table border=\"1\" class=\"dataframe\">\n",
       "  <thead>\n",
       "    <tr style=\"text-align: right;\">\n",
       "      <th></th>\n",
       "      <th>month</th>\n",
       "      <th>no_of_rainy_days</th>\n",
       "      <th>total_rainfall</th>\n",
       "      <th>mean_rh</th>\n",
       "      <th>temp_mean_daily_min</th>\n",
       "    </tr>\n",
       "  </thead>\n",
       "  <tbody>\n",
       "    <tr>\n",
       "      <th>492</th>\n",
       "      <td>2023-01</td>\n",
       "      <td>22</td>\n",
       "      <td>302.6</td>\n",
       "      <td>81.9</td>\n",
       "      <td>24.5</td>\n",
       "    </tr>\n",
       "    <tr>\n",
       "      <th>493</th>\n",
       "      <td>2023-02</td>\n",
       "      <td>13</td>\n",
       "      <td>324.4</td>\n",
       "      <td>79.4</td>\n",
       "      <td>24.5</td>\n",
       "    </tr>\n",
       "    <tr>\n",
       "      <th>494</th>\n",
       "      <td>2023-03</td>\n",
       "      <td>12</td>\n",
       "      <td>243.4</td>\n",
       "      <td>79.2</td>\n",
       "      <td>24.6</td>\n",
       "    </tr>\n",
       "    <tr>\n",
       "      <th>495</th>\n",
       "      <td>2023-04</td>\n",
       "      <td>19</td>\n",
       "      <td>222.8</td>\n",
       "      <td>77.4</td>\n",
       "      <td>25.8</td>\n",
       "    </tr>\n",
       "    <tr>\n",
       "      <th>496</th>\n",
       "      <td>2023-05</td>\n",
       "      <td>11</td>\n",
       "      <td>112.8</td>\n",
       "      <td>73.7</td>\n",
       "      <td>26.7</td>\n",
       "    </tr>\n",
       "  </tbody>\n",
       "</table>\n",
       "</div>"
      ],
      "text/plain": [
       "       month  no_of_rainy_days  total_rainfall  mean_rh  temp_mean_daily_min\n",
       "492  2023-01                22           302.6     81.9                 24.5\n",
       "493  2023-02                13           324.4     79.4                 24.5\n",
       "494  2023-03                12           243.4     79.2                 24.6\n",
       "495  2023-04                19           222.8     77.4                 25.8\n",
       "496  2023-05                11           112.8     73.7                 26.7"
      ]
     },
     "execution_count": 9,
     "metadata": {},
     "output_type": "execute_result"
    }
   ],
   "source": [
    "# As both dataframes begin and end in 1982-01 and 2022-08 respectively, combine both dataframes on month column\n",
    "\n",
    "df = pd.merge(raindays, rainfall, on = 'month')\n",
    "df = pd.merge(df, humidity, on = 'month')\n",
    "df = pd.merge(df, temp, on = 'month')\n",
    "df.tail()"
   ]
  },
  {
   "cell_type": "code",
   "execution_count": 10,
   "metadata": {},
   "outputs": [],
   "source": [
    "# convert month column to datetime column\n",
    "df['month']= pd.to_datetime(df['month'])"
   ]
  },
  {
   "cell_type": "code",
   "execution_count": 11,
   "metadata": {},
   "outputs": [],
   "source": [
    "# Load dataset with monthly no. of visitors across different attractions\n",
    "\n",
    "visitors = pd.read_excel(\"../data/outdoor-activites-singapore.xlsx\",skiprows=9)"
   ]
  },
  {
   "cell_type": "code",
   "execution_count": 12,
   "metadata": {},
   "outputs": [
    {
     "data": {
      "text/html": [
       "<div>\n",
       "<style scoped>\n",
       "    .dataframe tbody tr th:only-of-type {\n",
       "        vertical-align: middle;\n",
       "    }\n",
       "\n",
       "    .dataframe tbody tr th {\n",
       "        vertical-align: top;\n",
       "    }\n",
       "\n",
       "    .dataframe thead th {\n",
       "        text-align: right;\n",
       "    }\n",
       "</style>\n",
       "<table border=\"1\" class=\"dataframe\">\n",
       "  <thead>\n",
       "    <tr style=\"text-align: right;\">\n",
       "      <th></th>\n",
       "      <th>Asian Civilisations Museum (Thousand)</th>\n",
       "      <th>National Museum Of Singapore (Thousand)</th>\n",
       "      <th>Singapore Art Museum (Thousand)</th>\n",
       "      <th>Peranakan Museum (Thousand)</th>\n",
       "      <th>Science Centre Singapore (Thousand)</th>\n",
       "      <th>Jurong Birdpark (Thousand)</th>\n",
       "      <th>Night Safari (Thousand)</th>\n",
       "      <th>River Wonders (Thousand)</th>\n",
       "      <th>Singapore Zoological Gardens (Thousand)</th>\n",
       "      <th>Chinese/Japanese Gardens (Thousand)</th>\n",
       "      <th>Sun Yat Sen Nanyang Memorial Hall (Thousand)</th>\n",
       "      <th>Indian Heritage Centre (Thousand)</th>\n",
       "      <th>Malay Heritage Centre (Thousand)</th>\n",
       "      <th>Children's Museum Singapore (Thousand)</th>\n",
       "      <th>Changi Chapel And Museum (Thousand)</th>\n",
       "      <th>Reflections At Bukit Chandu (Thousand)</th>\n",
       "      <th>Date</th>\n",
       "    </tr>\n",
       "  </thead>\n",
       "  <tbody>\n",
       "    <tr>\n",
       "      <th>0</th>\n",
       "      <td>31.4</td>\n",
       "      <td>65.7</td>\n",
       "      <td>0</td>\n",
       "      <td>18.8</td>\n",
       "      <td>18.5</td>\n",
       "      <td>na</td>\n",
       "      <td>49.1</td>\n",
       "      <td>47.2</td>\n",
       "      <td>75.5</td>\n",
       "      <td>0.0</td>\n",
       "      <td>5.6</td>\n",
       "      <td>11.5</td>\n",
       "      <td>0</td>\n",
       "      <td>10.8</td>\n",
       "      <td>5</td>\n",
       "      <td>4.1</td>\n",
       "      <td>2023-02-01</td>\n",
       "    </tr>\n",
       "    <tr>\n",
       "      <th>1</th>\n",
       "      <td>33.4</td>\n",
       "      <td>71.3</td>\n",
       "      <td>0</td>\n",
       "      <td>0</td>\n",
       "      <td>25.0</td>\n",
       "      <td>18.9</td>\n",
       "      <td>56.2</td>\n",
       "      <td>57.6</td>\n",
       "      <td>83.9</td>\n",
       "      <td>0.0</td>\n",
       "      <td>8.9</td>\n",
       "      <td>21.2</td>\n",
       "      <td>0</td>\n",
       "      <td>10.5</td>\n",
       "      <td>3.4</td>\n",
       "      <td>2.7</td>\n",
       "      <td>2023-01-01</td>\n",
       "    </tr>\n",
       "    <tr>\n",
       "      <th>2</th>\n",
       "      <td>27.1</td>\n",
       "      <td>72.5</td>\n",
       "      <td>0</td>\n",
       "      <td>0</td>\n",
       "      <td>49.7</td>\n",
       "      <td>108.5</td>\n",
       "      <td>70.8</td>\n",
       "      <td>79.6</td>\n",
       "      <td>131.1</td>\n",
       "      <td>0.0</td>\n",
       "      <td>2.7</td>\n",
       "      <td>6.1</td>\n",
       "      <td>0</td>\n",
       "      <td>na</td>\n",
       "      <td>na</td>\n",
       "      <td>na</td>\n",
       "      <td>2022-12-01</td>\n",
       "    </tr>\n",
       "    <tr>\n",
       "      <th>3</th>\n",
       "      <td>32.7</td>\n",
       "      <td>73</td>\n",
       "      <td>0</td>\n",
       "      <td>0</td>\n",
       "      <td>29.8</td>\n",
       "      <td>44.3</td>\n",
       "      <td>44.9</td>\n",
       "      <td>57.4</td>\n",
       "      <td>88.1</td>\n",
       "      <td>0.0</td>\n",
       "      <td>2.8</td>\n",
       "      <td>9.9</td>\n",
       "      <td>0</td>\n",
       "      <td>na</td>\n",
       "      <td>na</td>\n",
       "      <td>na</td>\n",
       "      <td>2022-11-01</td>\n",
       "    </tr>\n",
       "    <tr>\n",
       "      <th>4</th>\n",
       "      <td>39.1</td>\n",
       "      <td>82.2</td>\n",
       "      <td>0</td>\n",
       "      <td>0</td>\n",
       "      <td>33.9</td>\n",
       "      <td>28.4</td>\n",
       "      <td>56.9</td>\n",
       "      <td>60.4</td>\n",
       "      <td>110.8</td>\n",
       "      <td>0.0</td>\n",
       "      <td>3.9</td>\n",
       "      <td>32.6</td>\n",
       "      <td>36.6</td>\n",
       "      <td>na</td>\n",
       "      <td>na</td>\n",
       "      <td>na</td>\n",
       "      <td>2022-10-01</td>\n",
       "    </tr>\n",
       "  </tbody>\n",
       "</table>\n",
       "</div>"
      ],
      "text/plain": [
       "  Asian Civilisations Museum (Thousand)  \\\n",
       "0                                  31.4   \n",
       "1                                  33.4   \n",
       "2                                  27.1   \n",
       "3                                  32.7   \n",
       "4                                  39.1   \n",
       "\n",
       "  National Museum Of Singapore (Thousand) Singapore Art Museum (Thousand)  \\\n",
       "0                                    65.7                               0   \n",
       "1                                    71.3                               0   \n",
       "2                                    72.5                               0   \n",
       "3                                      73                               0   \n",
       "4                                    82.2                               0   \n",
       "\n",
       "  Peranakan Museum (Thousand)  Science Centre Singapore (Thousand)  \\\n",
       "0                        18.8                                 18.5   \n",
       "1                           0                                 25.0   \n",
       "2                           0                                 49.7   \n",
       "3                           0                                 29.8   \n",
       "4                           0                                 33.9   \n",
       "\n",
       "  Jurong Birdpark (Thousand) Night Safari (Thousand) River Wonders (Thousand)  \\\n",
       "0                         na                    49.1                     47.2   \n",
       "1                       18.9                    56.2                     57.6   \n",
       "2                      108.5                    70.8                     79.6   \n",
       "3                       44.3                    44.9                     57.4   \n",
       "4                       28.4                    56.9                     60.4   \n",
       "\n",
       "   Singapore Zoological Gardens (Thousand)  \\\n",
       "0                                     75.5   \n",
       "1                                     83.9   \n",
       "2                                    131.1   \n",
       "3                                     88.1   \n",
       "4                                    110.8   \n",
       "\n",
       "   Chinese/Japanese Gardens (Thousand)  \\\n",
       "0                                  0.0   \n",
       "1                                  0.0   \n",
       "2                                  0.0   \n",
       "3                                  0.0   \n",
       "4                                  0.0   \n",
       "\n",
       "  Sun Yat Sen Nanyang Memorial Hall (Thousand)  \\\n",
       "0                                          5.6   \n",
       "1                                          8.9   \n",
       "2                                          2.7   \n",
       "3                                          2.8   \n",
       "4                                          3.9   \n",
       "\n",
       "  Indian Heritage Centre (Thousand) Malay Heritage Centre (Thousand)  \\\n",
       "0                              11.5                                0   \n",
       "1                              21.2                                0   \n",
       "2                               6.1                                0   \n",
       "3                               9.9                                0   \n",
       "4                              32.6                             36.6   \n",
       "\n",
       "  Children's Museum Singapore (Thousand) Changi Chapel And Museum (Thousand)  \\\n",
       "0                                   10.8                                   5   \n",
       "1                                   10.5                                 3.4   \n",
       "2                                     na                                  na   \n",
       "3                                     na                                  na   \n",
       "4                                     na                                  na   \n",
       "\n",
       "  Reflections At Bukit Chandu (Thousand)       Date  \n",
       "0                                    4.1 2023-02-01  \n",
       "1                                    2.7 2023-01-01  \n",
       "2                                     na 2022-12-01  \n",
       "3                                     na 2022-11-01  \n",
       "4                                     na 2022-10-01  "
      ]
     },
     "execution_count": 12,
     "metadata": {},
     "output_type": "execute_result"
    }
   ],
   "source": [
    "# Rename date column to date and convert it to date format\n",
    "from datetime import datetime\n",
    "\n",
    "visitors.rename(columns = {'Data Series':'year_month'}, inplace =True)\n",
    "visitors['year_month'] = visitors['year_month'].str.strip()\n",
    "visitors['Year'] = visitors['year_month'].str.extract(r'(\\d{4})')\n",
    "visitors['Month'] = visitors['year_month'].str.extract(r'([a-zA-Z]+)')\n",
    "\n",
    "# Define a dictionary mapping months to numeric values\n",
    "month_to_num = {\n",
    "    'Jan': '01',\n",
    "    'Feb': '02',\n",
    "    'Mar': '03',\n",
    "    'Apr': '04',\n",
    "    'May': '05',\n",
    "    'Jun': '06',\n",
    "    'Jul': '07',\n",
    "    'Aug': '08',\n",
    "    'Sep': '09',\n",
    "    'Oct': '10',\n",
    "    'Nov': '11',\n",
    "    'Dec': '12'\n",
    "}\n",
    "\n",
    "# Convert the 'Month' column to corresponding month values\n",
    "visitors['Month'] = visitors['Month'].map(month_to_num)\n",
    "\n",
    "# Create a new 'Date' column by combining year and month\n",
    "visitors['Date'] = visitors['Year'] + '-' + visitors['Month']\n",
    "visitors['Date']= pd.to_datetime(visitors['Date'])\n",
    "\n",
    "# Drop unwanted date columns\n",
    "visitors = visitors.drop(columns=['Month','Year', 'year_month'])\n",
    "visitors.head(5)\n",
    "\n"
   ]
  },
  {
   "cell_type": "code",
   "execution_count": 41,
   "metadata": {
    "scrolled": true
   },
   "outputs": [
    {
     "data": {
      "text/html": [
       "<div>\n",
       "<style scoped>\n",
       "    .dataframe tbody tr th:only-of-type {\n",
       "        vertical-align: middle;\n",
       "    }\n",
       "\n",
       "    .dataframe tbody tr th {\n",
       "        vertical-align: top;\n",
       "    }\n",
       "\n",
       "    .dataframe thead th {\n",
       "        text-align: right;\n",
       "    }\n",
       "</style>\n",
       "<table border=\"1\" class=\"dataframe\">\n",
       "  <thead>\n",
       "    <tr style=\"text-align: right;\">\n",
       "      <th></th>\n",
       "      <th>month</th>\n",
       "      <th>no_of_rainy_days</th>\n",
       "      <th>total_rainfall</th>\n",
       "      <th>mean_rh</th>\n",
       "      <th>temp_mean_daily_min</th>\n",
       "      <th>Asian Civilisations Museum (Thousand)</th>\n",
       "      <th>National Museum Of Singapore (Thousand)</th>\n",
       "      <th>Singapore Art Museum (Thousand)</th>\n",
       "      <th>Peranakan Museum (Thousand)</th>\n",
       "      <th>Science Centre Singapore (Thousand)</th>\n",
       "      <th>...</th>\n",
       "      <th>River Wonders (Thousand)</th>\n",
       "      <th>Singapore Zoological Gardens (Thousand)</th>\n",
       "      <th>Chinese/Japanese Gardens (Thousand)</th>\n",
       "      <th>Sun Yat Sen Nanyang Memorial Hall (Thousand)</th>\n",
       "      <th>Indian Heritage Centre (Thousand)</th>\n",
       "      <th>Malay Heritage Centre (Thousand)</th>\n",
       "      <th>Children's Museum Singapore (Thousand)</th>\n",
       "      <th>Changi Chapel And Museum (Thousand)</th>\n",
       "      <th>Reflections At Bukit Chandu (Thousand)</th>\n",
       "      <th>Date</th>\n",
       "    </tr>\n",
       "  </thead>\n",
       "  <tbody>\n",
       "    <tr>\n",
       "      <th>390</th>\n",
       "      <td>2022-10-01</td>\n",
       "      <td>27</td>\n",
       "      <td>279.0</td>\n",
       "      <td>78.7</td>\n",
       "      <td>24.7</td>\n",
       "      <td>39.1</td>\n",
       "      <td>82.2</td>\n",
       "      <td>0</td>\n",
       "      <td>0</td>\n",
       "      <td>33.9</td>\n",
       "      <td>...</td>\n",
       "      <td>60.4</td>\n",
       "      <td>110.8</td>\n",
       "      <td>0.0</td>\n",
       "      <td>3.9</td>\n",
       "      <td>32.6</td>\n",
       "      <td>36.6</td>\n",
       "      <td>na</td>\n",
       "      <td>na</td>\n",
       "      <td>na</td>\n",
       "      <td>2022-10-01</td>\n",
       "    </tr>\n",
       "    <tr>\n",
       "      <th>391</th>\n",
       "      <td>2022-11-01</td>\n",
       "      <td>26</td>\n",
       "      <td>313.8</td>\n",
       "      <td>79.9</td>\n",
       "      <td>24.4</td>\n",
       "      <td>32.7</td>\n",
       "      <td>73</td>\n",
       "      <td>0</td>\n",
       "      <td>0</td>\n",
       "      <td>29.8</td>\n",
       "      <td>...</td>\n",
       "      <td>57.4</td>\n",
       "      <td>88.1</td>\n",
       "      <td>0.0</td>\n",
       "      <td>2.8</td>\n",
       "      <td>9.9</td>\n",
       "      <td>0</td>\n",
       "      <td>na</td>\n",
       "      <td>na</td>\n",
       "      <td>na</td>\n",
       "      <td>2022-11-01</td>\n",
       "    </tr>\n",
       "    <tr>\n",
       "      <th>392</th>\n",
       "      <td>2022-12-01</td>\n",
       "      <td>19</td>\n",
       "      <td>215.4</td>\n",
       "      <td>81.2</td>\n",
       "      <td>24.5</td>\n",
       "      <td>27.1</td>\n",
       "      <td>72.5</td>\n",
       "      <td>0</td>\n",
       "      <td>0</td>\n",
       "      <td>49.7</td>\n",
       "      <td>...</td>\n",
       "      <td>79.6</td>\n",
       "      <td>131.1</td>\n",
       "      <td>0.0</td>\n",
       "      <td>2.7</td>\n",
       "      <td>6.1</td>\n",
       "      <td>0</td>\n",
       "      <td>na</td>\n",
       "      <td>na</td>\n",
       "      <td>na</td>\n",
       "      <td>2022-12-01</td>\n",
       "    </tr>\n",
       "    <tr>\n",
       "      <th>393</th>\n",
       "      <td>2023-01-01</td>\n",
       "      <td>22</td>\n",
       "      <td>302.6</td>\n",
       "      <td>81.9</td>\n",
       "      <td>24.5</td>\n",
       "      <td>33.4</td>\n",
       "      <td>71.3</td>\n",
       "      <td>0</td>\n",
       "      <td>0</td>\n",
       "      <td>25.0</td>\n",
       "      <td>...</td>\n",
       "      <td>57.6</td>\n",
       "      <td>83.9</td>\n",
       "      <td>0.0</td>\n",
       "      <td>8.9</td>\n",
       "      <td>21.2</td>\n",
       "      <td>0</td>\n",
       "      <td>10.5</td>\n",
       "      <td>3.4</td>\n",
       "      <td>2.7</td>\n",
       "      <td>2023-01-01</td>\n",
       "    </tr>\n",
       "    <tr>\n",
       "      <th>394</th>\n",
       "      <td>2023-02-01</td>\n",
       "      <td>13</td>\n",
       "      <td>324.4</td>\n",
       "      <td>79.4</td>\n",
       "      <td>24.5</td>\n",
       "      <td>31.4</td>\n",
       "      <td>65.7</td>\n",
       "      <td>0</td>\n",
       "      <td>18.8</td>\n",
       "      <td>18.5</td>\n",
       "      <td>...</td>\n",
       "      <td>47.2</td>\n",
       "      <td>75.5</td>\n",
       "      <td>0.0</td>\n",
       "      <td>5.6</td>\n",
       "      <td>11.5</td>\n",
       "      <td>0</td>\n",
       "      <td>10.8</td>\n",
       "      <td>5</td>\n",
       "      <td>4.1</td>\n",
       "      <td>2023-02-01</td>\n",
       "    </tr>\n",
       "  </tbody>\n",
       "</table>\n",
       "<p>5 rows × 22 columns</p>\n",
       "</div>"
      ],
      "text/plain": [
       "         month  no_of_rainy_days  total_rainfall  mean_rh  \\\n",
       "390 2022-10-01                27           279.0     78.7   \n",
       "391 2022-11-01                26           313.8     79.9   \n",
       "392 2022-12-01                19           215.4     81.2   \n",
       "393 2023-01-01                22           302.6     81.9   \n",
       "394 2023-02-01                13           324.4     79.4   \n",
       "\n",
       "     temp_mean_daily_min Asian Civilisations Museum (Thousand)  \\\n",
       "390                 24.7                                  39.1   \n",
       "391                 24.4                                  32.7   \n",
       "392                 24.5                                  27.1   \n",
       "393                 24.5                                  33.4   \n",
       "394                 24.5                                  31.4   \n",
       "\n",
       "    National Museum Of Singapore (Thousand) Singapore Art Museum (Thousand)  \\\n",
       "390                                    82.2                               0   \n",
       "391                                      73                               0   \n",
       "392                                    72.5                               0   \n",
       "393                                    71.3                               0   \n",
       "394                                    65.7                               0   \n",
       "\n",
       "    Peranakan Museum (Thousand)  Science Centre Singapore (Thousand)  ...  \\\n",
       "390                           0                                 33.9  ...   \n",
       "391                           0                                 29.8  ...   \n",
       "392                           0                                 49.7  ...   \n",
       "393                           0                                 25.0  ...   \n",
       "394                        18.8                                 18.5  ...   \n",
       "\n",
       "    River Wonders (Thousand) Singapore Zoological Gardens (Thousand)  \\\n",
       "390                     60.4                                   110.8   \n",
       "391                     57.4                                    88.1   \n",
       "392                     79.6                                   131.1   \n",
       "393                     57.6                                    83.9   \n",
       "394                     47.2                                    75.5   \n",
       "\n",
       "    Chinese/Japanese Gardens (Thousand)  \\\n",
       "390                                 0.0   \n",
       "391                                 0.0   \n",
       "392                                 0.0   \n",
       "393                                 0.0   \n",
       "394                                 0.0   \n",
       "\n",
       "     Sun Yat Sen Nanyang Memorial Hall (Thousand)  \\\n",
       "390                                           3.9   \n",
       "391                                           2.8   \n",
       "392                                           2.7   \n",
       "393                                           8.9   \n",
       "394                                           5.6   \n",
       "\n",
       "     Indian Heritage Centre (Thousand) Malay Heritage Centre (Thousand)  \\\n",
       "390                               32.6                             36.6   \n",
       "391                                9.9                                0   \n",
       "392                                6.1                                0   \n",
       "393                               21.2                                0   \n",
       "394                               11.5                                0   \n",
       "\n",
       "    Children's Museum Singapore (Thousand)  \\\n",
       "390                                     na   \n",
       "391                                     na   \n",
       "392                                     na   \n",
       "393                                   10.5   \n",
       "394                                   10.8   \n",
       "\n",
       "    Changi Chapel And Museum (Thousand)  \\\n",
       "390                                  na   \n",
       "391                                  na   \n",
       "392                                  na   \n",
       "393                                 3.4   \n",
       "394                                   5   \n",
       "\n",
       "    Reflections At Bukit Chandu (Thousand)       Date  \n",
       "390                                     na 2022-10-01  \n",
       "391                                     na 2022-11-01  \n",
       "392                                     na 2022-12-01  \n",
       "393                                    2.7 2023-01-01  \n",
       "394                                    4.1 2023-02-01  \n",
       "\n",
       "[5 rows x 22 columns]"
      ]
     },
     "execution_count": 41,
     "metadata": {},
     "output_type": "execute_result"
    }
   ],
   "source": [
    "# Combine both dataframes on month column\n",
    "\n",
    "df_combine = pd.merge(df, visitors, left_on = 'month', right_on = 'Date')\n",
    "df_combine['month']= pd.to_datetime(df_combine['month'])\n",
    "\n",
    "\n",
    "df_combine.tail()"
   ]
  },
  {
   "cell_type": "code",
   "execution_count": 42,
   "metadata": {},
   "outputs": [],
   "source": [
    "# Split month column into year and month for easier analysis\n",
    "df_combine['year_month'] = df_combine['month']\n",
    "df_combine['month'] = df_combine['year_month'].dt.month\n",
    "df_combine['year'] = df_combine['year_month'].dt.year\n",
    "\n",
    "# Keep relevant columns and rename them. Drop number of visitors from all the other attractions\n",
    "df_combine = df_combine[['year_month','year', 'month', 'no_of_rainy_days', 'total_rainfall','mean_rh', 'temp_mean_daily_min','Singapore Zoological Gardens (Thousand)','Science Centre Singapore (Thousand)']]\n",
    "df_combine = df_combine.rename(columns={\"Singapore Zoological Gardens (Thousand)\": \"zoo\", \"Science Centre Singapore (Thousand)\": \"sci_centre\"})\n",
    "df_combine['year_month'] = df_combine['year_month'].dt.strftime('%Y-%m')\n"
   ]
  },
  {
   "cell_type": "code",
   "execution_count": 43,
   "metadata": {},
   "outputs": [
    {
     "data": {
      "text/plain": [
       "year_month             0\n",
       "year                   0\n",
       "month                  0\n",
       "no_of_rainy_days       0\n",
       "total_rainfall         0\n",
       "mean_rh                0\n",
       "temp_mean_daily_min    0\n",
       "zoo                    0\n",
       "sci_centre             0\n",
       "dtype: int64"
      ]
     },
     "execution_count": 43,
     "metadata": {},
     "output_type": "execute_result"
    }
   ],
   "source": [
    "# Check for missing values\n",
    "df_combine.isnull().sum()"
   ]
  },
  {
   "cell_type": "code",
   "execution_count": 44,
   "metadata": {},
   "outputs": [
    {
     "name": "stdout",
     "output_type": "stream",
     "text": [
      "<class 'pandas.core.frame.DataFrame'>\n",
      "Int64Index: 395 entries, 0 to 394\n",
      "Data columns (total 9 columns):\n",
      " #   Column               Non-Null Count  Dtype  \n",
      "---  ------               --------------  -----  \n",
      " 0   year_month           395 non-null    object \n",
      " 1   year                 395 non-null    int64  \n",
      " 2   month                395 non-null    int64  \n",
      " 3   no_of_rainy_days     395 non-null    int64  \n",
      " 4   total_rainfall       395 non-null    float64\n",
      " 5   mean_rh              395 non-null    float64\n",
      " 6   temp_mean_daily_min  395 non-null    float64\n",
      " 7   zoo                  395 non-null    float64\n",
      " 8   sci_centre           395 non-null    float64\n",
      "dtypes: float64(5), int64(3), object(1)\n",
      "memory usage: 30.9+ KB\n"
     ]
    }
   ],
   "source": [
    "df_combine.info()"
   ]
  },
  {
   "cell_type": "markdown",
   "metadata": {},
   "source": [
    "Based on the above info, data is clean as there are no null values, hence no need for imputation or dropping of rows for now. "
   ]
  },
  {
   "cell_type": "markdown",
   "metadata": {},
   "source": [
    "### Data Dictionary\n",
    "\n",
    "Now that we've fixed our data, and given it appropriate names, let's create a [data dictionary](http://library.ucmerced.edu/node/10249). \n",
    "\n",
    "A data dictionary provides a quick overview of features/variables/columns, alongside data types and descriptions. The more descriptive you can be, the more useful this document is.\n",
    "\n",
    "Example of a Fictional Data Dictionary Entry: \n",
    "\n",
    "|Feature|Type|Dataset|Description|\n",
    "|---|---|---|---|\n",
    "|**county_pop**|*integer*|2010 census|The population of the county (units in thousands, where 2.5 represents 2500 people).| \n",
    "|**per_poverty**|*float*|2010 census|The percent of the county over the age of 18 living below the 200% of official US poverty rate (units percent to two decimal places 98.10 means 98.1%)|\n",
    "\n",
    "[Here's a quick link to a short guide for formatting markdown in Jupyter notebooks](https://jupyter-notebook.readthedocs.io/en/stable/examples/Notebook/Working%20With%20Markdown%20Cells.html).\n",
    "\n",
    "Provided is the skeleton for formatting a markdown table, with columns headers that will help you create a data dictionary to quickly summarize your data, as well as some examples. **This would be a great thing to copy and paste into your custom README for this project.**\n",
    "\n",
    "*Note*: if you are unsure of what a feature is, check the source of the data! This can be found in the README."
   ]
  },
  {
   "cell_type": "markdown",
   "metadata": {},
   "source": [
    "**To-Do:** *Edit the table below to create your own data dictionary for the datasets you chose.*\n",
    "\n",
    "|Feature|Type|Dataset|Description|\n",
    "|---|---|---|---|\n",
    "|total_rainfall|float|rainfall-monthly-total|Total rainfall in mm|\n",
    "|total_rainfall|float|rainfall-monthly-total|Total rainfall in mm| \n",
    "|total_rainfall|float|rainfall-monthly-total|Total rainfall in mm| \n",
    "|total_rainfall|float|rainfall-monthly-total|Total rainfall in mm| \n",
    "\n"
   ]
  },
  {
   "cell_type": "markdown",
   "metadata": {},
   "source": [
    "## Exploratory Data Analysis\n",
    "\n",
    "Complete the following steps to explore your data. You are welcome to do more EDA than the steps outlined here as you feel necessary:\n",
    "1. Summary Statistics.\n",
    "2. Use a **dictionary comprehension** to apply the standard deviation function you create in part 1 to each numeric column in the dataframe.  **No loops**.\n",
    "    - Assign the output to variable `sd` as a dictionary where: \n",
    "        - Each column name is now a key \n",
    "        - That standard deviation of the column is the value \n",
    "        - *Example Output :* `{'rainfall-monthly-total': xxx, 'no_of_rainy_days': xxx, ...}`\n",
    "3. Investigate trends in the data.\n",
    "    - Using sorting and/or masking (along with the `.head()` method to avoid printing our entire dataframe), consider questions relevant to your problem statement. Some examples are provided below (but feel free to change these questions for your specific problem):\n",
    "        - Which month have the highest and lowest total rainfall in 1990, 2000, 2010 and 2020?\n",
    "        - Which year have the highest and lowest total rainfall in the date range of analysis?\n",
    "        - Which month have the highest and lowest number of rainy days in 1990, 2000, 2010 and 2020?\n",
    "        - Which year have the highest and lowest number of rainy days in the date range of analysis?\n",
    "        - Are there any outliers months in the dataset?\n",
    "       \n",
    "    - **The above 5 questions are compulsory. Feel free to explore other trends based on the datasets that you have choosen for analysis. You should comment on your findings at each step in a markdown cell below your code block**. Make sure you include at least one example of sorting your dataframe by a column, and one example of using boolean filtering (i.e., masking) to select a subset of the dataframe."
   ]
  },
  {
   "cell_type": "markdown",
   "metadata": {},
   "source": [
    "1. Summary Statistics"
   ]
  },
  {
   "cell_type": "code",
   "execution_count": 45,
   "metadata": {},
   "outputs": [
    {
     "data": {
      "text/html": [
       "<div>\n",
       "<style scoped>\n",
       "    .dataframe tbody tr th:only-of-type {\n",
       "        vertical-align: middle;\n",
       "    }\n",
       "\n",
       "    .dataframe tbody tr th {\n",
       "        vertical-align: top;\n",
       "    }\n",
       "\n",
       "    .dataframe thead th {\n",
       "        text-align: right;\n",
       "    }\n",
       "</style>\n",
       "<table border=\"1\" class=\"dataframe\">\n",
       "  <thead>\n",
       "    <tr style=\"text-align: right;\">\n",
       "      <th></th>\n",
       "      <th>count</th>\n",
       "      <th>mean</th>\n",
       "      <th>std</th>\n",
       "      <th>min</th>\n",
       "      <th>25%</th>\n",
       "      <th>50%</th>\n",
       "      <th>75%</th>\n",
       "      <th>max</th>\n",
       "    </tr>\n",
       "    <tr>\n",
       "      <th>month</th>\n",
       "      <th></th>\n",
       "      <th></th>\n",
       "      <th></th>\n",
       "      <th></th>\n",
       "      <th></th>\n",
       "      <th></th>\n",
       "      <th></th>\n",
       "      <th></th>\n",
       "    </tr>\n",
       "  </thead>\n",
       "  <tbody>\n",
       "    <tr>\n",
       "      <th>1</th>\n",
       "      <td>33.0</td>\n",
       "      <td>13.636364</td>\n",
       "      <td>5.951986</td>\n",
       "      <td>3.0</td>\n",
       "      <td>9.0</td>\n",
       "      <td>13.0</td>\n",
       "      <td>19.0</td>\n",
       "      <td>25.0</td>\n",
       "    </tr>\n",
       "    <tr>\n",
       "      <th>2</th>\n",
       "      <td>33.0</td>\n",
       "      <td>8.696970</td>\n",
       "      <td>5.120332</td>\n",
       "      <td>1.0</td>\n",
       "      <td>5.0</td>\n",
       "      <td>8.0</td>\n",
       "      <td>11.0</td>\n",
       "      <td>22.0</td>\n",
       "    </tr>\n",
       "    <tr>\n",
       "      <th>3</th>\n",
       "      <td>32.0</td>\n",
       "      <td>12.437500</td>\n",
       "      <td>5.272800</td>\n",
       "      <td>5.0</td>\n",
       "      <td>8.0</td>\n",
       "      <td>11.0</td>\n",
       "      <td>16.0</td>\n",
       "      <td>22.0</td>\n",
       "    </tr>\n",
       "    <tr>\n",
       "      <th>4</th>\n",
       "      <td>33.0</td>\n",
       "      <td>14.818182</td>\n",
       "      <td>3.441062</td>\n",
       "      <td>9.0</td>\n",
       "      <td>13.0</td>\n",
       "      <td>14.0</td>\n",
       "      <td>18.0</td>\n",
       "      <td>21.0</td>\n",
       "    </tr>\n",
       "    <tr>\n",
       "      <th>5</th>\n",
       "      <td>33.0</td>\n",
       "      <td>14.272727</td>\n",
       "      <td>3.502434</td>\n",
       "      <td>6.0</td>\n",
       "      <td>12.0</td>\n",
       "      <td>13.0</td>\n",
       "      <td>17.0</td>\n",
       "      <td>23.0</td>\n",
       "    </tr>\n",
       "    <tr>\n",
       "      <th>6</th>\n",
       "      <td>33.0</td>\n",
       "      <td>13.363636</td>\n",
       "      <td>3.435278</td>\n",
       "      <td>8.0</td>\n",
       "      <td>11.0</td>\n",
       "      <td>13.0</td>\n",
       "      <td>16.0</td>\n",
       "      <td>21.0</td>\n",
       "    </tr>\n",
       "    <tr>\n",
       "      <th>7</th>\n",
       "      <td>33.0</td>\n",
       "      <td>13.606061</td>\n",
       "      <td>4.182847</td>\n",
       "      <td>6.0</td>\n",
       "      <td>10.0</td>\n",
       "      <td>14.0</td>\n",
       "      <td>16.0</td>\n",
       "      <td>22.0</td>\n",
       "    </tr>\n",
       "    <tr>\n",
       "      <th>8</th>\n",
       "      <td>33.0</td>\n",
       "      <td>14.121212</td>\n",
       "      <td>4.052450</td>\n",
       "      <td>6.0</td>\n",
       "      <td>12.0</td>\n",
       "      <td>13.0</td>\n",
       "      <td>18.0</td>\n",
       "      <td>24.0</td>\n",
       "    </tr>\n",
       "    <tr>\n",
       "      <th>9</th>\n",
       "      <td>33.0</td>\n",
       "      <td>12.727273</td>\n",
       "      <td>4.273996</td>\n",
       "      <td>3.0</td>\n",
       "      <td>10.0</td>\n",
       "      <td>13.0</td>\n",
       "      <td>15.0</td>\n",
       "      <td>19.0</td>\n",
       "    </tr>\n",
       "    <tr>\n",
       "      <th>10</th>\n",
       "      <td>33.0</td>\n",
       "      <td>15.272727</td>\n",
       "      <td>4.881552</td>\n",
       "      <td>5.0</td>\n",
       "      <td>12.0</td>\n",
       "      <td>16.0</td>\n",
       "      <td>19.0</td>\n",
       "      <td>27.0</td>\n",
       "    </tr>\n",
       "    <tr>\n",
       "      <th>11</th>\n",
       "      <td>33.0</td>\n",
       "      <td>19.303030</td>\n",
       "      <td>3.892981</td>\n",
       "      <td>11.0</td>\n",
       "      <td>16.0</td>\n",
       "      <td>19.0</td>\n",
       "      <td>22.0</td>\n",
       "      <td>27.0</td>\n",
       "    </tr>\n",
       "    <tr>\n",
       "      <th>12</th>\n",
       "      <td>33.0</td>\n",
       "      <td>19.030303</td>\n",
       "      <td>2.866671</td>\n",
       "      <td>14.0</td>\n",
       "      <td>17.0</td>\n",
       "      <td>19.0</td>\n",
       "      <td>21.0</td>\n",
       "      <td>24.0</td>\n",
       "    </tr>\n",
       "  </tbody>\n",
       "</table>\n",
       "</div>"
      ],
      "text/plain": [
       "       count       mean       std   min   25%   50%   75%   max\n",
       "month                                                          \n",
       "1       33.0  13.636364  5.951986   3.0   9.0  13.0  19.0  25.0\n",
       "2       33.0   8.696970  5.120332   1.0   5.0   8.0  11.0  22.0\n",
       "3       32.0  12.437500  5.272800   5.0   8.0  11.0  16.0  22.0\n",
       "4       33.0  14.818182  3.441062   9.0  13.0  14.0  18.0  21.0\n",
       "5       33.0  14.272727  3.502434   6.0  12.0  13.0  17.0  23.0\n",
       "6       33.0  13.363636  3.435278   8.0  11.0  13.0  16.0  21.0\n",
       "7       33.0  13.606061  4.182847   6.0  10.0  14.0  16.0  22.0\n",
       "8       33.0  14.121212  4.052450   6.0  12.0  13.0  18.0  24.0\n",
       "9       33.0  12.727273  4.273996   3.0  10.0  13.0  15.0  19.0\n",
       "10      33.0  15.272727  4.881552   5.0  12.0  16.0  19.0  27.0\n",
       "11      33.0  19.303030  3.892981  11.0  16.0  19.0  22.0  27.0\n",
       "12      33.0  19.030303  2.866671  14.0  17.0  19.0  21.0  24.0"
      ]
     },
     "execution_count": 45,
     "metadata": {},
     "output_type": "execute_result"
    }
   ],
   "source": [
    "# summary statistics for each year\n",
    "df_combine.groupby(['month'])['no_of_rainy_days'].describe()"
   ]
  },
  {
   "cell_type": "markdown",
   "metadata": {},
   "source": [
    "2. Standard Deviations of all columns\n"
   ]
  },
  {
   "cell_type": "code",
   "execution_count": 46,
   "metadata": {},
   "outputs": [
    {
     "data": {
      "text/html": [
       "<div>\n",
       "<style scoped>\n",
       "    .dataframe tbody tr th:only-of-type {\n",
       "        vertical-align: middle;\n",
       "    }\n",
       "\n",
       "    .dataframe tbody tr th {\n",
       "        vertical-align: top;\n",
       "    }\n",
       "\n",
       "    .dataframe thead th {\n",
       "        text-align: right;\n",
       "    }\n",
       "</style>\n",
       "<table border=\"1\" class=\"dataframe\">\n",
       "  <thead>\n",
       "    <tr style=\"text-align: right;\">\n",
       "      <th></th>\n",
       "      <th>year</th>\n",
       "      <th>month</th>\n",
       "      <th>no_of_rainy_days</th>\n",
       "      <th>total_rainfall</th>\n",
       "      <th>mean_rh</th>\n",
       "      <th>temp_mean_daily_min</th>\n",
       "      <th>zoo</th>\n",
       "      <th>sci_centre</th>\n",
       "    </tr>\n",
       "  </thead>\n",
       "  <tbody>\n",
       "    <tr>\n",
       "      <th>count</th>\n",
       "      <td>395.000000</td>\n",
       "      <td>395.000000</td>\n",
       "      <td>395.000000</td>\n",
       "      <td>395.000000</td>\n",
       "      <td>395.000000</td>\n",
       "      <td>395.000000</td>\n",
       "      <td>395.000000</td>\n",
       "      <td>395.000000</td>\n",
       "    </tr>\n",
       "    <tr>\n",
       "      <th>mean</th>\n",
       "      <td>2006.207595</td>\n",
       "      <td>6.508861</td>\n",
       "      <td>14.278481</td>\n",
       "      <td>177.973924</td>\n",
       "      <td>81.975949</td>\n",
       "      <td>25.031899</td>\n",
       "      <td>122.850633</td>\n",
       "      <td>59.228608</td>\n",
       "    </tr>\n",
       "    <tr>\n",
       "      <th>std</th>\n",
       "      <td>9.518480</td>\n",
       "      <td>3.456297</td>\n",
       "      <td>5.052357</td>\n",
       "      <td>112.569972</td>\n",
       "      <td>3.556663</td>\n",
       "      <td>0.699344</td>\n",
       "      <td>35.703841</td>\n",
       "      <td>30.878761</td>\n",
       "    </tr>\n",
       "    <tr>\n",
       "      <th>min</th>\n",
       "      <td>1990.000000</td>\n",
       "      <td>1.000000</td>\n",
       "      <td>1.000000</td>\n",
       "      <td>0.200000</td>\n",
       "      <td>72.000000</td>\n",
       "      <td>23.400000</td>\n",
       "      <td>0.000000</td>\n",
       "      <td>0.000000</td>\n",
       "    </tr>\n",
       "    <tr>\n",
       "      <th>25%</th>\n",
       "      <td>1998.000000</td>\n",
       "      <td>4.000000</td>\n",
       "      <td>11.000000</td>\n",
       "      <td>96.300000</td>\n",
       "      <td>79.700000</td>\n",
       "      <td>24.500000</td>\n",
       "      <td>100.500000</td>\n",
       "      <td>36.450000</td>\n",
       "    </tr>\n",
       "    <tr>\n",
       "      <th>50%</th>\n",
       "      <td>2006.000000</td>\n",
       "      <td>7.000000</td>\n",
       "      <td>14.000000</td>\n",
       "      <td>162.000000</td>\n",
       "      <td>82.300000</td>\n",
       "      <td>25.000000</td>\n",
       "      <td>123.600000</td>\n",
       "      <td>54.600000</td>\n",
       "    </tr>\n",
       "    <tr>\n",
       "      <th>75%</th>\n",
       "      <td>2014.000000</td>\n",
       "      <td>9.500000</td>\n",
       "      <td>18.000000</td>\n",
       "      <td>239.700000</td>\n",
       "      <td>84.600000</td>\n",
       "      <td>25.500000</td>\n",
       "      <td>144.050000</td>\n",
       "      <td>78.350000</td>\n",
       "    </tr>\n",
       "    <tr>\n",
       "      <th>max</th>\n",
       "      <td>2023.000000</td>\n",
       "      <td>12.000000</td>\n",
       "      <td>27.000000</td>\n",
       "      <td>765.900000</td>\n",
       "      <td>90.700000</td>\n",
       "      <td>27.100000</td>\n",
       "      <td>250.400000</td>\n",
       "      <td>191.400000</td>\n",
       "    </tr>\n",
       "  </tbody>\n",
       "</table>\n",
       "</div>"
      ],
      "text/plain": [
       "              year       month  no_of_rainy_days  total_rainfall     mean_rh  \\\n",
       "count   395.000000  395.000000        395.000000      395.000000  395.000000   \n",
       "mean   2006.207595    6.508861         14.278481      177.973924   81.975949   \n",
       "std       9.518480    3.456297          5.052357      112.569972    3.556663   \n",
       "min    1990.000000    1.000000          1.000000        0.200000   72.000000   \n",
       "25%    1998.000000    4.000000         11.000000       96.300000   79.700000   \n",
       "50%    2006.000000    7.000000         14.000000      162.000000   82.300000   \n",
       "75%    2014.000000    9.500000         18.000000      239.700000   84.600000   \n",
       "max    2023.000000   12.000000         27.000000      765.900000   90.700000   \n",
       "\n",
       "       temp_mean_daily_min         zoo  sci_centre  \n",
       "count           395.000000  395.000000  395.000000  \n",
       "mean             25.031899  122.850633   59.228608  \n",
       "std               0.699344   35.703841   30.878761  \n",
       "min              23.400000    0.000000    0.000000  \n",
       "25%              24.500000  100.500000   36.450000  \n",
       "50%              25.000000  123.600000   54.600000  \n",
       "75%              25.500000  144.050000   78.350000  \n",
       "max              27.100000  250.400000  191.400000  "
      ]
     },
     "execution_count": 46,
     "metadata": {},
     "output_type": "execute_result"
    }
   ],
   "source": [
    "summary_stats = df_combine.describe()\n",
    "summary_stats"
   ]
  },
  {
   "cell_type": "markdown",
   "metadata": {},
   "source": [
    "Based on the above summary statistics, we can see that minimum number of visitors for both zoo and science centre are 0 - this will be addressed later on"
   ]
  },
  {
   "cell_type": "markdown",
   "metadata": {},
   "source": [
    "3a) Which month have the highest and lowest total rainfall in 1990, 2000, 2010 and 2020?"
   ]
  },
  {
   "cell_type": "code",
   "execution_count": 47,
   "metadata": {},
   "outputs": [],
   "source": [
    "# Filter to only years 1990, 2000, 2010, 2020\n",
    "\n",
    "df_filtered = df_combine.loc[df_combine['year'].isin([1990, 2000, 2010, 2020])]\n",
    "df_filtered = df_filtered[['year','month','total_rainfall']].reset_index(drop=True)\n",
    "\n",
    "# months with max rainfall\n",
    "idx = df_filtered.groupby(['year'])['total_rainfall'].transform(max) == df_filtered['total_rainfall']\n",
    "max_rainfall_months = df_filtered[idx].reset_index(drop=True).rename(columns={\"month\": \"max_month\", \"total_rainfall\":\"max_rainfall\"})\n",
    "\n",
    "\n",
    "# months with min rainfall\n",
    "idx = df_filtered.groupby(['year'])['total_rainfall'].transform(min) == df_filtered['total_rainfall']\n",
    "min_rainfall_months = df_filtered[idx].reset_index(drop=True).rename(columns={\"month\": \"min_month\",\"total_rainfall\":\"min_rainfall\"})\n"
   ]
  },
  {
   "cell_type": "code",
   "execution_count": 48,
   "metadata": {},
   "outputs": [
    {
     "data": {
      "text/html": [
       "<div>\n",
       "<style scoped>\n",
       "    .dataframe tbody tr th:only-of-type {\n",
       "        vertical-align: middle;\n",
       "    }\n",
       "\n",
       "    .dataframe tbody tr th {\n",
       "        vertical-align: top;\n",
       "    }\n",
       "\n",
       "    .dataframe thead th {\n",
       "        text-align: right;\n",
       "    }\n",
       "</style>\n",
       "<table border=\"1\" class=\"dataframe\">\n",
       "  <thead>\n",
       "    <tr style=\"text-align: right;\">\n",
       "      <th></th>\n",
       "      <th>year</th>\n",
       "      <th>min_month</th>\n",
       "      <th>min_rainfall</th>\n",
       "      <th>max_month</th>\n",
       "      <th>max_rainfall</th>\n",
       "    </tr>\n",
       "  </thead>\n",
       "  <tbody>\n",
       "    <tr>\n",
       "      <th>0</th>\n",
       "      <td>1990</td>\n",
       "      <td>4</td>\n",
       "      <td>52.4</td>\n",
       "      <td>9</td>\n",
       "      <td>204.5</td>\n",
       "    </tr>\n",
       "    <tr>\n",
       "      <th>1</th>\n",
       "      <td>2000</td>\n",
       "      <td>9</td>\n",
       "      <td>81.1</td>\n",
       "      <td>11</td>\n",
       "      <td>385.7</td>\n",
       "    </tr>\n",
       "    <tr>\n",
       "      <th>2</th>\n",
       "      <td>2010</td>\n",
       "      <td>2</td>\n",
       "      <td>6.3</td>\n",
       "      <td>7</td>\n",
       "      <td>298.5</td>\n",
       "    </tr>\n",
       "    <tr>\n",
       "      <th>3</th>\n",
       "      <td>2020</td>\n",
       "      <td>2</td>\n",
       "      <td>65.0</td>\n",
       "      <td>5</td>\n",
       "      <td>255.6</td>\n",
       "    </tr>\n",
       "  </tbody>\n",
       "</table>\n",
       "</div>"
      ],
      "text/plain": [
       "   year  min_month  min_rainfall  max_month  max_rainfall\n",
       "0  1990          4          52.4          9         204.5\n",
       "1  2000          9          81.1         11         385.7\n",
       "2  2010          2           6.3          7         298.5\n",
       "3  2020          2          65.0          5         255.6"
      ]
     },
     "execution_count": 48,
     "metadata": {},
     "output_type": "execute_result"
    }
   ],
   "source": [
    "# Join the two tables together to present findings\n",
    "\n",
    "df_rainfall = pd.merge(min_rainfall_months,max_rainfall_months, on = 'year')\n",
    "df_rainfall"
   ]
  },
  {
   "cell_type": "markdown",
   "metadata": {},
   "source": [
    "3b) Which year have the highest and lowest total rainfall in the date range of analysis?"
   ]
  },
  {
   "cell_type": "code",
   "execution_count": 49,
   "metadata": {},
   "outputs": [
    {
     "name": "stdout",
     "output_type": "stream",
     "text": [
      "Year with highest rainfall is 2023 with 2886.2 mm and year with lowest rainfall is 1990 with 627.0 mm\n"
     ]
    }
   ],
   "source": [
    "min_year = df_combine.groupby(['year']).agg(total_rainfall= ('total_rainfall', 'sum')).reset_index(). min()\n",
    "max_year = df_combine.groupby(['year']).agg(total_rainfall= ('total_rainfall', 'sum')).reset_index().max()\n",
    "\n",
    "min_year[0]\n",
    "\n",
    "print(f\"Year with highest rainfall is {round(max_year[0])} with {max_year[1]} mm and year with lowest rainfall is {round(min_year[0])} with {min_year[1]} mm\")"
   ]
  },
  {
   "cell_type": "markdown",
   "metadata": {},
   "source": [
    "3c) Which month have the highest and lowest number of rainy days in 1990, 2000, 2010 and 2020?"
   ]
  },
  {
   "cell_type": "code",
   "execution_count": 50,
   "metadata": {},
   "outputs": [
    {
     "data": {
      "text/html": [
       "<div>\n",
       "<style scoped>\n",
       "    .dataframe tbody tr th:only-of-type {\n",
       "        vertical-align: middle;\n",
       "    }\n",
       "\n",
       "    .dataframe tbody tr th {\n",
       "        vertical-align: top;\n",
       "    }\n",
       "\n",
       "    .dataframe thead th {\n",
       "        text-align: right;\n",
       "    }\n",
       "</style>\n",
       "<table border=\"1\" class=\"dataframe\">\n",
       "  <thead>\n",
       "    <tr style=\"text-align: right;\">\n",
       "      <th></th>\n",
       "      <th>year_month</th>\n",
       "      <th>year</th>\n",
       "      <th>month</th>\n",
       "      <th>no_of_rainy_days</th>\n",
       "      <th>total_rainfall</th>\n",
       "      <th>mean_rh</th>\n",
       "      <th>temp_mean_daily_min</th>\n",
       "      <th>zoo</th>\n",
       "      <th>sci_centre</th>\n",
       "    </tr>\n",
       "  </thead>\n",
       "  <tbody>\n",
       "    <tr>\n",
       "      <th>0</th>\n",
       "      <td>1990-04</td>\n",
       "      <td>1990</td>\n",
       "      <td>4</td>\n",
       "      <td>10</td>\n",
       "      <td>52.4</td>\n",
       "      <td>81.2</td>\n",
       "      <td>25.3</td>\n",
       "      <td>100.9</td>\n",
       "      <td>41.8</td>\n",
       "    </tr>\n",
       "    <tr>\n",
       "      <th>1</th>\n",
       "      <td>1990-05</td>\n",
       "      <td>1990</td>\n",
       "      <td>5</td>\n",
       "      <td>11</td>\n",
       "      <td>180.1</td>\n",
       "      <td>81.1</td>\n",
       "      <td>25.6</td>\n",
       "      <td>115.6</td>\n",
       "      <td>56.3</td>\n",
       "    </tr>\n",
       "    <tr>\n",
       "      <th>2</th>\n",
       "      <td>1990-06</td>\n",
       "      <td>1990</td>\n",
       "      <td>6</td>\n",
       "      <td>9</td>\n",
       "      <td>112.6</td>\n",
       "      <td>80.7</td>\n",
       "      <td>25.4</td>\n",
       "      <td>107.3</td>\n",
       "      <td>84.1</td>\n",
       "    </tr>\n",
       "    <tr>\n",
       "      <th>3</th>\n",
       "      <td>1990-07</td>\n",
       "      <td>1990</td>\n",
       "      <td>7</td>\n",
       "      <td>12</td>\n",
       "      <td>124.0</td>\n",
       "      <td>82.7</td>\n",
       "      <td>24.6</td>\n",
       "      <td>98.7</td>\n",
       "      <td>40.4</td>\n",
       "    </tr>\n",
       "    <tr>\n",
       "      <th>4</th>\n",
       "      <td>1990-08</td>\n",
       "      <td>1990</td>\n",
       "      <td>8</td>\n",
       "      <td>13</td>\n",
       "      <td>146.6</td>\n",
       "      <td>82.3</td>\n",
       "      <td>25.1</td>\n",
       "      <td>102.4</td>\n",
       "      <td>44.6</td>\n",
       "    </tr>\n",
       "  </tbody>\n",
       "</table>\n",
       "</div>"
      ],
      "text/plain": [
       "  year_month  year  month  no_of_rainy_days  total_rainfall  mean_rh  \\\n",
       "0    1990-04  1990      4                10            52.4     81.2   \n",
       "1    1990-05  1990      5                11           180.1     81.1   \n",
       "2    1990-06  1990      6                 9           112.6     80.7   \n",
       "3    1990-07  1990      7                12           124.0     82.7   \n",
       "4    1990-08  1990      8                13           146.6     82.3   \n",
       "\n",
       "   temp_mean_daily_min    zoo  sci_centre  \n",
       "0                 25.3  100.9        41.8  \n",
       "1                 25.6  115.6        56.3  \n",
       "2                 25.4  107.3        84.1  \n",
       "3                 24.6   98.7        40.4  \n",
       "4                 25.1  102.4        44.6  "
      ]
     },
     "execution_count": 50,
     "metadata": {},
     "output_type": "execute_result"
    }
   ],
   "source": [
    "df_combine.head()"
   ]
  },
  {
   "cell_type": "code",
   "execution_count": 51,
   "metadata": {},
   "outputs": [],
   "source": [
    "# Filter to only years 1990, 2000, 2010, 2020\n",
    "\n",
    "df2_filtered = df_combine.loc[df_combine['year'].isin([1990, 2000, 2010, 2020])]\n",
    "df2_filtered = df2_filtered[['year','month','no_of_rainy_days']].reset_index(drop=True)\n",
    "\n",
    "# months with highest no. of rainy days\n",
    "idx = df2_filtered.groupby(['year'])['no_of_rainy_days'].transform(max) == df2_filtered['no_of_rainy_days']\n",
    "max_rain_days = df2_filtered[idx].reset_index(drop=True).rename(columns={\"month\": \"max_month\", \"no_of_rainy_days\":\"max_rainy_days\"})\n",
    "\n",
    "\n",
    "# months with lowest no. of rainy days\n",
    "idx = df2_filtered.groupby(['year'])['no_of_rainy_days'].transform(min) == df2_filtered['no_of_rainy_days']\n",
    "min_rain_days = df2_filtered[idx].reset_index(drop=True).rename(columns={\"month\": \"min_month\",\"no_of_rainy_days\":\"min_rainy_days\"})\n"
   ]
  },
  {
   "cell_type": "code",
   "execution_count": 52,
   "metadata": {},
   "outputs": [
    {
     "data": {
      "text/html": [
       "<div>\n",
       "<style scoped>\n",
       "    .dataframe tbody tr th:only-of-type {\n",
       "        vertical-align: middle;\n",
       "    }\n",
       "\n",
       "    .dataframe tbody tr th {\n",
       "        vertical-align: top;\n",
       "    }\n",
       "\n",
       "    .dataframe thead th {\n",
       "        text-align: right;\n",
       "    }\n",
       "</style>\n",
       "<table border=\"1\" class=\"dataframe\">\n",
       "  <thead>\n",
       "    <tr style=\"text-align: right;\">\n",
       "      <th></th>\n",
       "      <th>year</th>\n",
       "      <th>min_month</th>\n",
       "      <th>min_rainy_days</th>\n",
       "      <th>max_month</th>\n",
       "      <th>max_rainy_days</th>\n",
       "    </tr>\n",
       "  </thead>\n",
       "  <tbody>\n",
       "    <tr>\n",
       "      <th>0</th>\n",
       "      <td>1990</td>\n",
       "      <td>6</td>\n",
       "      <td>9</td>\n",
       "      <td>9</td>\n",
       "      <td>17</td>\n",
       "    </tr>\n",
       "    <tr>\n",
       "      <th>1</th>\n",
       "      <td>1990</td>\n",
       "      <td>6</td>\n",
       "      <td>9</td>\n",
       "      <td>11</td>\n",
       "      <td>17</td>\n",
       "    </tr>\n",
       "    <tr>\n",
       "      <th>2</th>\n",
       "      <td>2000</td>\n",
       "      <td>5</td>\n",
       "      <td>10</td>\n",
       "      <td>11</td>\n",
       "      <td>21</td>\n",
       "    </tr>\n",
       "    <tr>\n",
       "      <th>3</th>\n",
       "      <td>2010</td>\n",
       "      <td>2</td>\n",
       "      <td>4</td>\n",
       "      <td>11</td>\n",
       "      <td>21</td>\n",
       "    </tr>\n",
       "    <tr>\n",
       "      <th>4</th>\n",
       "      <td>2020</td>\n",
       "      <td>1</td>\n",
       "      <td>6</td>\n",
       "      <td>7</td>\n",
       "      <td>22</td>\n",
       "    </tr>\n",
       "  </tbody>\n",
       "</table>\n",
       "</div>"
      ],
      "text/plain": [
       "   year  min_month  min_rainy_days  max_month  max_rainy_days\n",
       "0  1990          6               9          9              17\n",
       "1  1990          6               9         11              17\n",
       "2  2000          5              10         11              21\n",
       "3  2010          2               4         11              21\n",
       "4  2020          1               6          7              22"
      ]
     },
     "execution_count": 52,
     "metadata": {},
     "output_type": "execute_result"
    }
   ],
   "source": [
    "# Just like above in 3a, merge dataframes to present findings clearly\n",
    "\n",
    "df_rainy_days = pd.merge(min_rain_days,max_rain_days, on = 'year')\n",
    "df_rainy_days"
   ]
  },
  {
   "cell_type": "markdown",
   "metadata": {},
   "source": [
    "In 1990, there were 2 months (Sep and Nov) that tied in place for the most number of rainy days."
   ]
  },
  {
   "cell_type": "markdown",
   "metadata": {},
   "source": [
    "3d) Which year have the highest and lowest number of rainy days in the date range of analysis?\n",
    " "
   ]
  },
  {
   "cell_type": "code",
   "execution_count": 53,
   "metadata": {
    "scrolled": true
   },
   "outputs": [
    {
     "name": "stdout",
     "output_type": "stream",
     "text": [
      "Year with highest no. of rainy days is 2023 with 210 days and year with lowest no. of rainy days is 1990 with 35 days\n"
     ]
    }
   ],
   "source": [
    "min_year = df_combine.groupby(['year']).agg(total_rainfall= ('no_of_rainy_days', 'sum')).reset_index(). min()\n",
    "max_year = df_combine.groupby(['year']).agg(total_rainfall= ('no_of_rainy_days', 'sum')).reset_index().max()\n",
    "\n",
    "min_year[0]\n",
    "\n",
    "print(f\"Year with highest no. of rainy days is {round(max_year[0])} with {max_year[1]} days and year with lowest no. of rainy days is {round(min_year[0])} with {min_year[1]} days\")"
   ]
  },
  {
   "cell_type": "markdown",
   "metadata": {},
   "source": [
    "## Visualize the Data\n",
    "\n",
    "There's not a magic bullet recommendation for the right number of plots to understand a given dataset, but visualizing your data is *always* a good idea. Not only does it allow you to quickly convey your findings (even if you have a non-technical audience), it will often reveal trends in your data that escaped you when you were looking only at numbers. It is important to not only create visualizations, but to **interpret your visualizations** as well.\n",
    "\n",
    "**Every plot should**:\n",
    "- Have a title\n",
    "- Have axis labels\n",
    "- Have appropriate tick labels\n",
    "- Text is legible in a plot\n",
    "- Plots demonstrate meaningful and valid relationships\n",
    "- Have an interpretation to aid understanding\n",
    "\n",
    "Here is an example of what your plots should look like following the above guidelines. Note that while the content of this example is unrelated, the principles of visualization hold:\n",
    "\n",
    "![](https://snag.gy/hCBR1U.jpg)\n",
    "*Interpretation: The above image shows that as we increase our spending on advertising, our sales numbers also tend to increase. There is a positive correlation between advertising spending and sales.*\n",
    "\n",
    "---\n",
    "\n",
    "Here are some prompts to get you started with visualizations. Feel free to add additional visualizations as you see fit:\n",
    "1. Use Seaborn's heatmap with pandas `.corr()` to visualize correlations between all numeric features.\n",
    "    - Heatmaps are generally not appropriate for presentations, and should often be excluded from reports as they can be visually overwhelming. **However**, they can be extremely useful in identify relationships of potential interest (as well as identifying potential collinearity before modeling).\n",
    "    - Please take time to format your output, adding a title. Look through some of the additional arguments and options. (Axis labels aren't really necessary, as long as the title is informative).\n",
    "2. Visualize distributions using histograms. If you have a lot, consider writing a custom function and use subplots.\n",
    "    - *OPTIONAL*: Summarize the underlying distributions of your features (in words & statistics)\n",
    "         - Be thorough in your verbal description of these distributions.\n",
    "         - Be sure to back up these summaries with statistics.\n",
    "         - We generally assume that data we sample from a population will be normally distributed. Do we observe this trend? Explain your answers for each distribution and how you think this will affect estimates made from these data.\n",
    "3. Plot and interpret boxplots. \n",
    "    - Boxplots demonstrate central tendency and spread in variables. In a certain sense, these are somewhat redundant with histograms, but you may be better able to identify clear outliers or differences in IQR, etc.\n",
    "    - Multiple values can be plotted to a single boxplot as long as they are of the same relative scale (meaning they have similar min/max values).\n",
    "    - Each boxplot should:\n",
    "        - Only include variables of a similar scale\n",
    "        - Have clear labels for each variable\n",
    "        - Have appropriate titles and labels\n",
    "4. Plot and interpret scatter plots to view relationships between features. Feel free to write a custom function, and subplot if you'd like. Functions save both time and space.\n",
    "    - Your plots should have:\n",
    "        - Two clearly labeled axes\n",
    "        - A proper title\n",
    "        - Colors and symbols that are clear and unmistakable\n",
    "5. Additional plots of your choosing.\n",
    "    - Are there any additional trends or relationships you haven't explored? Was there something interesting you saw that you'd like to dive further into? It's likely that there are a few more plots you might want to generate to support your narrative and recommendations that you are building toward. **As always, make sure you're interpreting your plots as you go**."
   ]
  },
  {
   "cell_type": "markdown",
   "metadata": {},
   "source": [
    "Some ideas for plots that can be generated:\n",
    "\n",
    "- Plot the histogram of the rainfall data with various bins and comment on the distribution of the data - is it centered, skewed?\n",
    "- Plot the box-and-whiskers plot. Comment on the different quartiles and identify any outliers in the dataset. \n",
    "- Is there a correlation between the number of rainy days and total rainfall in the month? What kind of correlation do your suspect? Does the graph show the same?\n"
   ]
  },
  {
   "cell_type": "markdown",
   "metadata": {},
   "source": [
    "### Data Visualization"
   ]
  },
  {
   "cell_type": "markdown",
   "metadata": {},
   "source": [
    "#### 1. Cleaning data and dropping rows that were impacted due to Covid\n",
    "\n",
    "The data set includes number of visitors from 1990 to 2023. However, during the heightened Covid period, tourist attractions, including the Zoo and Science Centre was closed. Hence, there are months where count of visitors is 0 which is undern on-normal conditions and skews the dataset. Hence, I will visualise the number of visitors during 2020 to 2021 to understand which rows need to be dropped.\n",
    "\n",
    "*Circuit Breaker was from 7 Apr to 4 May 2020\n"
   ]
  },
  {
   "cell_type": "code",
   "execution_count": 54,
   "metadata": {},
   "outputs": [
    {
     "data": {
      "text/plain": [
       "Text(0.5, 1.0, 'No. of visitors to attractions during Covid period')"
      ]
     },
     "execution_count": 54,
     "metadata": {},
     "output_type": "execute_result"
    },
    {
     "data": {
      "image/png": "[encoded data removed]",
      "text/plain": [
       "<Figure size 640x480 with 1 Axes>"
      ]
     },
     "metadata": {},
     "output_type": "display_data"
    }
   ],
   "source": [
    "# Filter the DataFrame to only 2020 to 2021, during heightened Covid period\n",
    "df_combine_2020 = df_combine[df_combine['year_month'].str.contains('2020|2021')]\n",
    "\n",
    "# Plot line chart to show number of visitors across the months\n",
    "sns.lineplot(data = df_combine_2020, x = 'year_month', y = 'zoo', marker = 'o', label = 'zoo')\n",
    "sns.lineplot(data = df_combine_2020, x = 'year_month', y = 'sci_centre', marker = 'o', label = 'science centre')\n",
    "\n",
    "\n",
    "plt.xlabel('Month', fontsize=12, labelpad=15)\n",
    "plt.ylabel('No. of visitors (thousands)', fontsize=12, labelpad=15)\n",
    "plt.xticks(df_combine_2020['year_month'], rotation=80, ha='right', fontsize=8)\n",
    "plt.title('No. of visitors to attractions during Covid period')\n"
   ]
  },
  {
   "cell_type": "code",
   "execution_count": 55,
   "metadata": {},
   "outputs": [
    {
     "data": {
      "text/plain": [
       "(392, 9)"
      ]
     },
     "execution_count": 55,
     "metadata": {},
     "output_type": "execute_result"
    }
   ],
   "source": [
    "# Based on above chart, the no. of visitors for period from Apr 2020 to June 2020 was close to zero, meaning the attractions were closed to public. \n",
    "# Therefore will drop these rows using mask.\n",
    "\n",
    "# Create a mask\n",
    "mask = df_combine['year_month'].isin(['2020-04', '2020-05', '2020-06'])\n",
    "\n",
    "# Drop rows where mask is True\n",
    "df_combine = df_combine[~mask]\n",
    "\n",
    "# check shape of data to confirm that 3 rows were dropped\n",
    "df_combine.shape"
   ]
  },
  {
   "cell_type": "markdown",
   "metadata": {},
   "source": [
    "#### 2. Encoding of months column based on whether or not it is a School Holiday month\n",
    "\n",
    "The number of visitors to the attraction is probably related to the month - for example: whether or not the month has school holidays.\n",
    "First, I will see the spread of visitors across the months to see if this column should be encoded."
   ]
  },
  {
   "cell_type": "code",
   "execution_count": 56,
   "metadata": {},
   "outputs": [
    {
     "data": {
      "text/plain": [
       "Text(0.5, 1.0, 'Spread of visitors to zoo across different months')"
      ]
     },
     "execution_count": 56,
     "metadata": {},
     "output_type": "execute_result"
    },
    {
     "data": {
      "image/png": "[encoded data removed]",
      "text/plain": [
       "<Figure size 640x480 with 1 Axes>"
      ]
     },
     "metadata": {},
     "output_type": "display_data"
    }
   ],
   "source": [
    "# plot boxplot to see distribution of visitors, along with overall median line\n",
    "\n",
    "sns.boxplot(data = df_combine, y = \"zoo\", x = 'month')\n",
    "plt.axhline(np.median(df_combine['zoo']), color='black', linestyle='--')\n",
    "plt.title('Spread of visitors to zoo across different months')\n"
   ]
  },
  {
   "cell_type": "code",
   "execution_count": 57,
   "metadata": {},
   "outputs": [],
   "source": [
    "# Based on above boxplot, it seems like the number of visitors in June and December are above the median line. \n",
    "# This is expected as these are school holiday months and the zoo is a popular local attraction, hence an increase in number of visitors.\n",
    "\n",
    "# Therefore, perform label encoding to indicate if month is in school holiday or not.\n",
    "\n",
    "df_combine['IsHoliday'] = df_combine['month'].isin([1,6]).astype(int)"
   ]
  },
  {
   "cell_type": "code",
   "execution_count": 58,
   "metadata": {},
   "outputs": [],
   "source": [
    "# Drop science centre, month, year column\n",
    "\n",
    "df_combine = df_combine.drop(columns = ['sci_centre', 'year','month'])"
   ]
  },
  {
   "cell_type": "markdown",
   "metadata": {},
   "source": [
    "#### 3. Visualizing distributions of weather data"
   ]
  },
  {
   "cell_type": "code",
   "execution_count": 59,
   "metadata": {},
   "outputs": [
    {
     "data": {
      "text/plain": [
       "Text(0.5, 1.0, 'Daily minimum temperature')"
      ]
     },
     "execution_count": 59,
     "metadata": {},
     "output_type": "execute_result"
    },
    {
     "data": {
      "image/png": "[encoded data removed]",
      "text/plain": [
       "<Figure size 1200x400 with 4 Axes>"
      ]
     },
     "metadata": {},
     "output_type": "display_data"
    }
   ],
   "source": [
    "# Create subplots with 1 row and 3 columns\n",
    "fig, axs = plt.subplots(1, 4, figsize=(12, 4))\n",
    "\n",
    "axs[0].hist(df_combine['no_of_rainy_days'], edgecolor='black', linewidth=1.2)\n",
    "axs[0].set_title('No of. rainy days')\n",
    "\n",
    "axs[1].hist(df_combine['total_rainfall'], edgecolor='black', linewidth=1.2)\n",
    "axs[1].set_title('Total Rainfall')\n",
    "\n",
    "axs[2].hist(df_combine['mean_rh'], edgecolor='black', linewidth=1.2)\n",
    "axs[2].set_title('Mean Relative Humidity')\n",
    "\n",
    "axs[3].hist(df_combine['temp_mean_daily_min'], edgecolor='black', linewidth=1.2)\n",
    "axs[3].set_title('Daily minimum temperature')\n",
    "\n"
   ]
  },
  {
   "cell_type": "code",
   "execution_count": 60,
   "metadata": {},
   "outputs": [
    {
     "data": {
      "text/html": [
       "<div>\n",
       "<style scoped>\n",
       "    .dataframe tbody tr th:only-of-type {\n",
       "        vertical-align: middle;\n",
       "    }\n",
       "\n",
       "    .dataframe tbody tr th {\n",
       "        vertical-align: top;\n",
       "    }\n",
       "\n",
       "    .dataframe thead th {\n",
       "        text-align: right;\n",
       "    }\n",
       "</style>\n",
       "<table border=\"1\" class=\"dataframe\">\n",
       "  <thead>\n",
       "    <tr style=\"text-align: right;\">\n",
       "      <th></th>\n",
       "      <th>no_of_rainy_days</th>\n",
       "      <th>total_rainfall</th>\n",
       "      <th>mean_rh</th>\n",
       "      <th>temp_mean_daily_min</th>\n",
       "      <th>zoo</th>\n",
       "      <th>IsHoliday</th>\n",
       "    </tr>\n",
       "  </thead>\n",
       "  <tbody>\n",
       "    <tr>\n",
       "      <th>no_of_rainy_days</th>\n",
       "      <td>1.000000</td>\n",
       "      <td>0.689432</td>\n",
       "      <td>0.546523</td>\n",
       "      <td>-0.350799</td>\n",
       "      <td>0.069364</td>\n",
       "      <td>-0.077500</td>\n",
       "    </tr>\n",
       "    <tr>\n",
       "      <th>total_rainfall</th>\n",
       "      <td>0.689432</td>\n",
       "      <td>1.000000</td>\n",
       "      <td>0.584991</td>\n",
       "      <td>-0.509429</td>\n",
       "      <td>-0.020256</td>\n",
       "      <td>0.026839</td>\n",
       "    </tr>\n",
       "    <tr>\n",
       "      <th>mean_rh</th>\n",
       "      <td>0.546523</td>\n",
       "      <td>0.584991</td>\n",
       "      <td>1.000000</td>\n",
       "      <td>-0.645839</td>\n",
       "      <td>-0.116194</td>\n",
       "      <td>0.003414</td>\n",
       "    </tr>\n",
       "    <tr>\n",
       "      <th>temp_mean_daily_min</th>\n",
       "      <td>-0.350799</td>\n",
       "      <td>-0.509429</td>\n",
       "      <td>-0.645839</td>\n",
       "      <td>1.000000</td>\n",
       "      <td>0.201947</td>\n",
       "      <td>-0.029115</td>\n",
       "    </tr>\n",
       "    <tr>\n",
       "      <th>zoo</th>\n",
       "      <td>0.069364</td>\n",
       "      <td>-0.020256</td>\n",
       "      <td>-0.116194</td>\n",
       "      <td>0.201947</td>\n",
       "      <td>1.000000</td>\n",
       "      <td>-0.019557</td>\n",
       "    </tr>\n",
       "    <tr>\n",
       "      <th>IsHoliday</th>\n",
       "      <td>-0.077500</td>\n",
       "      <td>0.026839</td>\n",
       "      <td>0.003414</td>\n",
       "      <td>-0.029115</td>\n",
       "      <td>-0.019557</td>\n",
       "      <td>1.000000</td>\n",
       "    </tr>\n",
       "  </tbody>\n",
       "</table>\n",
       "</div>"
      ],
      "text/plain": [
       "                     no_of_rainy_days  total_rainfall   mean_rh  \\\n",
       "no_of_rainy_days             1.000000        0.689432  0.546523   \n",
       "total_rainfall               0.689432        1.000000  0.584991   \n",
       "mean_rh                      0.546523        0.584991  1.000000   \n",
       "temp_mean_daily_min         -0.350799       -0.509429 -0.645839   \n",
       "zoo                          0.069364       -0.020256 -0.116194   \n",
       "IsHoliday                   -0.077500        0.026839  0.003414   \n",
       "\n",
       "                     temp_mean_daily_min       zoo  IsHoliday  \n",
       "no_of_rainy_days               -0.350799  0.069364  -0.077500  \n",
       "total_rainfall                 -0.509429 -0.020256   0.026839  \n",
       "mean_rh                        -0.645839 -0.116194   0.003414  \n",
       "temp_mean_daily_min             1.000000  0.201947  -0.029115  \n",
       "zoo                             0.201947  1.000000  -0.019557  \n",
       "IsHoliday                      -0.029115 -0.019557   1.000000  "
      ]
     },
     "execution_count": 60,
     "metadata": {},
     "output_type": "execute_result"
    }
   ],
   "source": [
    "df_combine.corr(numeric_only=True)"
   ]
  },
  {
   "cell_type": "markdown",
   "metadata": {},
   "source": [
    "### Linear Regression Feasibility Check\n",
    "\n",
    "Before proceeding, we need to check for key assumptions for a multilinear regression analysis."
   ]
  },
  {
   "cell_type": "code",
   "execution_count": 71,
   "metadata": {
    "scrolled": true
   },
   "outputs": [
    {
     "data": {
      "image/png": "[encoded data removed]",
      "text/plain": [
       "<Figure size 640x480 with 2 Axes>"
      ]
     },
     "metadata": {},
     "output_type": "display_data"
    }
   ],
   "source": [
    "import matplotlib.pyplot as plt\n",
    "%matplotlib inline\n",
    "\n",
    "mask = np.triu(np.ones_like(df_combine.corr(numeric_only = True), dtype=np.bool_))\n",
    "heatmap = sns.heatmap(df_combine.corr(numeric_only = True), mask=mask, vmin=-1, vmax=1, annot=True, cmap='GnBu')\n",
    "heatmap.set_title('Triangle Correlation Heatmap', fontdict={'fontsize':13}, pad=16);\n"
   ]
  },
  {
   "cell_type": "code",
   "execution_count": null,
   "metadata": {},
   "outputs": [],
   "source": []
  },
  {
   "cell_type": "markdown",
   "metadata": {},
   "source": [
    "#### Checking for multicollinearing using Variance Inflation Factor (VIF)"
   ]
  },
  {
   "cell_type": "code",
   "execution_count": null,
   "metadata": {},
   "outputs": [],
   "source": [
    "X"
   ]
  },
  {
   "cell_type": "markdown",
   "metadata": {},
   "source": [
    "### Building the Model"
   ]
  },
  {
   "cell_type": "code",
   "execution_count": null,
   "metadata": {
    "scrolled": true
   },
   "outputs": [],
   "source": [
    "from sklearn.linear_model import LinearRegression\n",
    "import statsmodels.api as sm\n",
    "\n",
    "\n",
    "# Defining target and feature variables\n",
    "y = df_combine['zoo']\n",
    "X = df_combine[['no_of_rainy_days', 'total_rainfall','mean_rh', 'temp_mean_daily_min', 'IsHoliday']]\n",
    "\n",
    "# Fitting the OLS on data\n",
    "model = sm.OLS(y, X).fit()\n",
    "\n",
    "print(model.summary2())\n"
   ]
  },
  {
   "cell_type": "markdown",
   "metadata": {},
   "source": [
    "Evaluate models with single predictors one by one"
   ]
  },
  {
   "cell_type": "code",
   "execution_count": null,
   "metadata": {},
   "outputs": [],
   "source": [
    "# Defining a function to evaluate a model\n",
    "def evaluateModel(model):\n",
    "    print(\"RSS = \", ((df_combine['zoo'] - model.predict())**2).sum())\n",
    "    print(\"R2 = \", model.rsquared)"
   ]
  },
  {
   "cell_type": "code",
   "execution_count": null,
   "metadata": {},
   "outputs": [],
   "source": [
    "# For no. of rainy days\n",
    "\n",
    "model_no_of_rainy_days = sm.OLS(df_combine['zoo'], df_combine['no_of_rainy_days']).fit()\n",
    "evaluateModel(model_no_of_rainy_days)"
   ]
  },
  {
   "cell_type": "code",
   "execution_count": null,
   "metadata": {},
   "outputs": [],
   "source": [
    "# For total rainfall\n",
    "\n",
    "model_total_rainfall = sm.OLS(df_combine['zoo'], df_combine['total_rainfall']).fit()\n",
    "evaluateModel(model_total_rainfall)"
   ]
  },
  {
   "cell_type": "markdown",
   "metadata": {},
   "source": [
    "## Conclusions and Recommendations"
   ]
  },
  {
   "cell_type": "markdown",
   "metadata": {},
   "source": [
    "Based on your exploration of the data, what are you key takeaways and recommendations? Make sure to answer your question of interest or address your problem statement here."
   ]
  },
  {
   "cell_type": "markdown",
   "metadata": {},
   "source": [
    "**To-Do:** *Edit this cell with your conclusions and recommendations.*"
   ]
  },
  {
   "cell_type": "markdown",
   "metadata": {},
   "source": [
    "Don't forget to create your README!\n",
    "\n",
    "**To-Do:** *If you combine your problem statement, data dictionary, brief summary of your analysis, and conclusions/recommendations, you have an amazing README.md file that quickly aligns your audience to the contents of your project.* Don't forget to cite your data sources!"
   ]
  }
 ],
 "metadata": {
  "anaconda-cloud": {},
  "kernelspec": {
   "display_name": "Python 3 (ipykernel)",
   "language": "python",
   "name": "python3"
  },
  "language_info": {
   "codemirror_mode": {
    "name": "ipython",
    "version": 3
   },
   "file_extension": ".py",
   "mimetype": "text/x-python",
   "name": "python",
   "nbconvert_exporter": "python",
   "pygments_lexer": "ipython3",
   "version": "3.10.9"
  }
 },
 "nbformat": 4,
 "nbformat_minor": 4
}
