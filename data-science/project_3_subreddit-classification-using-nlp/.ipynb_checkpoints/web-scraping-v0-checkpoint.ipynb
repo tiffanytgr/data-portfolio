{
 "cells": [
  {
   "cell_type": "code",
   "execution_count": 1,
   "id": "a5d38b99",
   "metadata": {},
   "outputs": [],
   "source": [
    "import requests\n",
    "import time\n",
    "import pandas as pd"
   ]
  },
  {
   "cell_type": "markdown",
   "id": "d00948e3-ee8f-43f8-909e-604a8cfa3528",
   "metadata": {},
   "source": [
    "#### 2. Scraping Using PRAW API"
   ]
  },
  {
   "cell_type": "code",
   "execution_count": 2,
   "id": "35579762-edee-4ac0-8a17-4acdfdffea95",
   "metadata": {
    "tags": []
   },
   "outputs": [],
   "source": [
    "# pip install praw\n",
    "# https://www.youtube.com/watch?v=NRgfgtzIhBQ&t=530\n",
    "# https://praw.readthedocs.io/en/latest/code_overview/models/submission.html\n",
    "import praw"
   ]
  },
  {
   "cell_type": "code",
   "execution_count": 3,
   "id": "dd3dea30-2e95-47c7-a13e-ae48d8b75f11",
   "metadata": {
    "tags": []
   },
   "outputs": [],
   "source": [
    "# client id: assgnxQ_xl3vDcnijLsTuw\n",
    "# secret: YE9jFCFSwjWCQ81hh-1cczz1oc-zoQ\n",
    "\n",
    "reddit = praw.Reddit(client_id = 'assgnxQ_xl3vDcnijLsTuw' ,\n",
    "                    client_secret = 'YE9jFCFSwjWCQ81hh-1cczz1oc-zoQ',\n",
    "                    username = 'intelligentstraw',\n",
    "                    password = 'intelligentpassword',\n",
    "                    user_agent = 'tiffanyt')"
   ]
  },
  {
   "cell_type": "code",
   "execution_count": 14,
   "id": "9124260f-3fde-4f77-a5fc-933e07d76907",
   "metadata": {
    "tags": []
   },
   "outputs": [
    {
     "name": "stdout",
     "output_type": "stream",
     "text": [
      "intelligentstraw\n"
     ]
    }
   ],
   "source": [
    "# check if can access API\n",
    "print(reddit.user.me())"
   ]
  },
  {
   "cell_type": "code",
   "execution_count": 99,
   "id": "7a588634-3792-4675-9f5d-0831a984f1ea",
   "metadata": {
    "tags": []
   },
   "outputs": [],
   "source": [
    "subreddit_nvidia = reddit.subreddit('nvidia')\n",
    "hot_nvidia = subreddit_nvidia.new(limit=200) # get what is the hot news in reddit"
   ]
  },
  {
   "cell_type": "code",
   "execution_count": 100,
   "id": "9f380329-cef0-4c0a-874e-5cce6b0367dc",
   "metadata": {
    "tags": []
   },
   "outputs": [],
   "source": [
    "# Initialize lists to store data\n",
    "# Initialize lists to store data\n",
    "data = []\n",
    "\n",
    "for post in hot_nvidia:\n",
    "    try:\n",
    "        if not post.stickied:\n",
    "            post_data = {\n",
    "                'date': post.created_utc,\n",
    "                'title': post.title,\n",
    "                'is_self': post.is_self,\n",
    "                'selftext': post.selftext,\n",
    "                'upvotes': post.score,\n",
    "                'downvotes': post.downs,\n",
    "                'upvote_ratio': post.upvote_ratio,\n",
    "                'n_comments': post.num_comments,\n",
    "                'permalink': post.permalink,\n",
    "                'author': post.author,\n",
    "                'distinguished': post.distinguished,\n",
    "            }\n",
    "\n",
    "            post.comments.replace_more(limit=None)  # Fetch all comments, including additional ones\n",
    "            for comment in post.comments.list():\n",
    "                try:\n",
    "                    comment_text = comment.body.encode(\"utf-8\", errors='ignore').decode(\"utf-8\", errors='ignore')\n",
    "                    comment_data = post_data.copy()  # Copy post data for each comment\n",
    "                    comment_data['comment'] = comment_text\n",
    "                    data.append(comment_data)\n",
    "                except Exception as e:\n",
    "                    print(f\"Error processing comment: {e}\")\n",
    "    except Exception as e:\n",
    "        print(f\"Error processing post: {e}\")\n",
    "\n",
    "# Create a DataFrame\n",
    "df_amd = pd.DataFrame(data)\n",
    "df_amd['Subreddit'] = \"Nvidia\""
   ]
  },
  {
   "cell_type": "code",
   "execution_count": 101,
   "id": "754b2218-091e-4804-964b-1c4b0cc4cb94",
   "metadata": {
    "tags": []
   },
   "outputs": [
    {
     "data": {
      "text/html": [
       "<div>\n",
       "<style scoped>\n",
       "    .dataframe tbody tr th:only-of-type {\n",
       "        vertical-align: middle;\n",
       "    }\n",
       "\n",
       "    .dataframe tbody tr th {\n",
       "        vertical-align: top;\n",
       "    }\n",
       "\n",
       "    .dataframe thead th {\n",
       "        text-align: right;\n",
       "    }\n",
       "</style>\n",
       "<table border=\"1\" class=\"dataframe\">\n",
       "  <thead>\n",
       "    <tr style=\"text-align: right;\">\n",
       "      <th></th>\n",
       "      <th>date</th>\n",
       "      <th>title</th>\n",
       "      <th>is_self</th>\n",
       "      <th>selftext</th>\n",
       "      <th>upvotes</th>\n",
       "      <th>downvotes</th>\n",
       "      <th>upvote_ratio</th>\n",
       "      <th>n_comments</th>\n",
       "      <th>permalink</th>\n",
       "      <th>author</th>\n",
       "      <th>distinguished</th>\n",
       "      <th>comment</th>\n",
       "      <th>Subreddit</th>\n",
       "    </tr>\n",
       "  </thead>\n",
       "  <tbody>\n",
       "    <tr>\n",
       "      <th>0</th>\n",
       "      <td>1.693917e+09</td>\n",
       "      <td>What kind of 3070 is this? On windows it shows...</td>\n",
       "      <td>False</td>\n",
       "      <td></td>\n",
       "      <td>4</td>\n",
       "      <td>0</td>\n",
       "      <td>0.64</td>\n",
       "      <td>26</td>\n",
       "      <td>/r/nvidia/comments/16amt2i/what_kind_of_3070_i...</td>\n",
       "      <td>CrazyLOLgamer361</td>\n",
       "      <td>None</td>\n",
       "      <td>Had something like this in my Dell Alienware R...</td>\n",
       "      <td>Nvidia</td>\n",
       "    </tr>\n",
       "    <tr>\n",
       "      <th>1</th>\n",
       "      <td>1.693917e+09</td>\n",
       "      <td>What kind of 3070 is this? On windows it shows...</td>\n",
       "      <td>False</td>\n",
       "      <td></td>\n",
       "      <td>4</td>\n",
       "      <td>0</td>\n",
       "      <td>0.64</td>\n",
       "      <td>26</td>\n",
       "      <td>/r/nvidia/comments/16amt2i/what_kind_of_3070_i...</td>\n",
       "      <td>CrazyLOLgamer361</td>\n",
       "      <td>None</td>\n",
       "      <td>oh, a blower-style gpu, those are fucking dogs...</td>\n",
       "      <td>Nvidia</td>\n",
       "    </tr>\n",
       "    <tr>\n",
       "      <th>2</th>\n",
       "      <td>1.693917e+09</td>\n",
       "      <td>What kind of 3070 is this? On windows it shows...</td>\n",
       "      <td>False</td>\n",
       "      <td></td>\n",
       "      <td>4</td>\n",
       "      <td>0</td>\n",
       "      <td>0.64</td>\n",
       "      <td>26</td>\n",
       "      <td>/r/nvidia/comments/16amt2i/what_kind_of_3070_i...</td>\n",
       "      <td>CrazyLOLgamer361</td>\n",
       "      <td>None</td>\n",
       "      <td>it OEM card</td>\n",
       "      <td>Nvidia</td>\n",
       "    </tr>\n",
       "    <tr>\n",
       "      <th>3</th>\n",
       "      <td>1.693917e+09</td>\n",
       "      <td>What kind of 3070 is this? On windows it shows...</td>\n",
       "      <td>False</td>\n",
       "      <td></td>\n",
       "      <td>4</td>\n",
       "      <td>0</td>\n",
       "      <td>0.64</td>\n",
       "      <td>26</td>\n",
       "      <td>/r/nvidia/comments/16amt2i/what_kind_of_3070_i...</td>\n",
       "      <td>CrazyLOLgamer361</td>\n",
       "      <td>None</td>\n",
       "      <td>It’s a turbo version of rtx 3070 designed to b...</td>\n",
       "      <td>Nvidia</td>\n",
       "    </tr>\n",
       "    <tr>\n",
       "      <th>4</th>\n",
       "      <td>1.693917e+09</td>\n",
       "      <td>What kind of 3070 is this? On windows it shows...</td>\n",
       "      <td>False</td>\n",
       "      <td></td>\n",
       "      <td>4</td>\n",
       "      <td>0</td>\n",
       "      <td>0.64</td>\n",
       "      <td>26</td>\n",
       "      <td>/r/nvidia/comments/16amt2i/what_kind_of_3070_i...</td>\n",
       "      <td>CrazyLOLgamer361</td>\n",
       "      <td>None</td>\n",
       "      <td>Yeah I have the noise issue😭</td>\n",
       "      <td>Nvidia</td>\n",
       "    </tr>\n",
       "  </tbody>\n",
       "</table>\n",
       "</div>"
      ],
      "text/plain": [
       "           date                                              title  is_self  \\\n",
       "0  1.693917e+09  What kind of 3070 is this? On windows it shows...    False   \n",
       "1  1.693917e+09  What kind of 3070 is this? On windows it shows...    False   \n",
       "2  1.693917e+09  What kind of 3070 is this? On windows it shows...    False   \n",
       "3  1.693917e+09  What kind of 3070 is this? On windows it shows...    False   \n",
       "4  1.693917e+09  What kind of 3070 is this? On windows it shows...    False   \n",
       "\n",
       "  selftext  upvotes  downvotes  upvote_ratio  n_comments  \\\n",
       "0                 4          0          0.64          26   \n",
       "1                 4          0          0.64          26   \n",
       "2                 4          0          0.64          26   \n",
       "3                 4          0          0.64          26   \n",
       "4                 4          0          0.64          26   \n",
       "\n",
       "                                           permalink            author  \\\n",
       "0  /r/nvidia/comments/16amt2i/what_kind_of_3070_i...  CrazyLOLgamer361   \n",
       "1  /r/nvidia/comments/16amt2i/what_kind_of_3070_i...  CrazyLOLgamer361   \n",
       "2  /r/nvidia/comments/16amt2i/what_kind_of_3070_i...  CrazyLOLgamer361   \n",
       "3  /r/nvidia/comments/16amt2i/what_kind_of_3070_i...  CrazyLOLgamer361   \n",
       "4  /r/nvidia/comments/16amt2i/what_kind_of_3070_i...  CrazyLOLgamer361   \n",
       "\n",
       "  distinguished                                            comment Subreddit  \n",
       "0          None  Had something like this in my Dell Alienware R...    Nvidia  \n",
       "1          None  oh, a blower-style gpu, those are fucking dogs...    Nvidia  \n",
       "2          None                                        it OEM card    Nvidia  \n",
       "3          None  It’s a turbo version of rtx 3070 designed to b...    Nvidia  \n",
       "4          None                       Yeah I have the noise issue😭    Nvidia  "
      ]
     },
     "execution_count": 101,
     "metadata": {},
     "output_type": "execute_result"
    }
   ],
   "source": [
    "df_amd.head()"
   ]
  },
  {
   "cell_type": "code",
   "execution_count": 102,
   "id": "1f4751bd-f411-4e14-b551-76f63535a625",
   "metadata": {
    "tags": []
   },
   "outputs": [],
   "source": [
    "df_amd.to_csv('amd_reddit.csv')"
   ]
  },
  {
   "cell_type": "code",
   "execution_count": null,
   "id": "89d0cbfd-b5bf-458b-9f18-8e9aab8d90f6",
   "metadata": {},
   "outputs": [],
   "source": []
  }
 ],
 "metadata": {
  "kernelspec": {
   "display_name": "Python 3 (ipykernel)",
   "language": "python",
   "name": "python3"
  },
  "language_info": {
   "codemirror_mode": {
    "name": "ipython",
    "version": 3
   },
   "file_extension": ".py",
   "mimetype": "text/x-python",
   "name": "python",
   "nbconvert_exporter": "python",
   "pygments_lexer": "ipython3",
   "version": "3.10.12"
  }
 },
 "nbformat": 4,
 "nbformat_minor": 5
}
