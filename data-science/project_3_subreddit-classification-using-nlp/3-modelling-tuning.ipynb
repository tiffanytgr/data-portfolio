{
 "cells": [
  {
   "cell_type": "markdown",
   "metadata": {},
   "source": [
    "### III: Modelling & Tuning"
   ]
  },
  {
   "cell_type": "markdown",
   "metadata": {},
   "source": [
    "In this notebook, onece done with processing the data, EDA and sentiment analysis, we can now proceed with training our model. We will explore different type of models, evaluate them and then do hyperparameter tuning to achieve the best scores."
   ]
  },
  {
   "cell_type": "code",
   "execution_count": 1,
   "metadata": {},
   "outputs": [],
   "source": [
    "import pandas as pd\n",
    "import numpy as np\n",
    "import matplotlib.pyplot as plt\n",
    "import seaborn as sns\n",
    "from sklearn.pipeline import Pipeline\n",
    "from sklearn.linear_model import LogisticRegression\n",
    "from sklearn.metrics import confusion_matrix,  roc_auc_score, accuracy_score, precision_score, recall_score, f1_score, ConfusionMatrixDisplay, RocCurveDisplay, roc_auc_score\n",
    "from sklearn.experimental import enable_halving_search_cv\n",
    "from sklearn.model_selection import GridSearchCV, RandomizedSearchCV,HalvingGridSearchCV, train_test_split\n",
    "from sklearn.feature_extraction.text import CountVectorizer, TfidfVectorizer\n",
    "from sklearn.naive_bayes import MultinomialNB\n",
    "from sklearn.ensemble import RandomForestClassifier\n",
    "from sklearn.neighbors import KNeighborsClassifier\n",
    "from nltk.corpus import stopwords\n",
    "\n",
    "import warnings\n",
    "warnings.filterwarnings('ignore')\n"
   ]
  },
  {
   "cell_type": "code",
   "execution_count": 2,
   "metadata": {},
   "outputs": [
    {
     "data": {
      "text/plain": [
       "(60778, 12)"
      ]
     },
     "execution_count": 2,
     "metadata": {},
     "output_type": "execute_result"
    }
   ],
   "source": [
    "combined = pd.read_csv('datasets/combined.csv')\n",
    "\n",
    "combined.shape"
   ]
  },
  {
   "cell_type": "code",
   "execution_count": 3,
   "metadata": {},
   "outputs": [
    {
     "data": {
      "text/html": [
       "<div>\n",
       "<style scoped>\n",
       "    .dataframe tbody tr th:only-of-type {\n",
       "        vertical-align: middle;\n",
       "    }\n",
       "\n",
       "    .dataframe tbody tr th {\n",
       "        vertical-align: top;\n",
       "    }\n",
       "\n",
       "    .dataframe thead th {\n",
       "        text-align: right;\n",
       "    }\n",
       "</style>\n",
       "<table border=\"1\" class=\"dataframe\">\n",
       "  <thead>\n",
       "    <tr style=\"text-align: right;\">\n",
       "      <th></th>\n",
       "      <th>Unnamed: 0</th>\n",
       "      <th>id</th>\n",
       "      <th>date</th>\n",
       "      <th>title</th>\n",
       "      <th>selftext</th>\n",
       "      <th>n_comments</th>\n",
       "      <th>author</th>\n",
       "      <th>comment</th>\n",
       "      <th>Subreddit</th>\n",
       "      <th>sentences</th>\n",
       "      <th>words</th>\n",
       "      <th>preprocessed_words</th>\n",
       "    </tr>\n",
       "  </thead>\n",
       "  <tbody>\n",
       "    <tr>\n",
       "      <th>0</th>\n",
       "      <td>0</td>\n",
       "      <td>16d4gg0</td>\n",
       "      <td>2023-09-08 08:04:04</td>\n",
       "      <td>New to pc building</td>\n",
       "      <td>What’s better rtx 3090 for 700$-I’ve seen thes...</td>\n",
       "      <td>1.0</td>\n",
       "      <td>43VerLoner</td>\n",
       "      <td>3090 keeps its price from the VRAM it has. A 4...</td>\n",
       "      <td>Nvidia</td>\n",
       "      <td>['3090 keeps its price from the VRAM it has.',...</td>\n",
       "      <td>['3090', 'keeps', 'its', 'price', 'from', 'the...</td>\n",
       "      <td>keep price vram tad slower access frame genera...</td>\n",
       "    </tr>\n",
       "    <tr>\n",
       "      <th>1</th>\n",
       "      <td>1</td>\n",
       "      <td>16d46z5</td>\n",
       "      <td>2023-09-08 07:47:35</td>\n",
       "      <td>Experiences</td>\n",
       "      <td>I personally play on a typical 1080ti system(...</td>\n",
       "      <td>7.0</td>\n",
       "      <td>SEALEJ2001</td>\n",
       "      <td>It's not you, just a combo of the game running...</td>\n",
       "      <td>Nvidia</td>\n",
       "      <td>[\"It's not you, just a combo of the game runni...</td>\n",
       "      <td>['It', \"'s\", 'not', 'you', ',', 'just', 'a', '...</td>\n",
       "      <td>combo game running like pig older gpu showing ...</td>\n",
       "    </tr>\n",
       "    <tr>\n",
       "      <th>2</th>\n",
       "      <td>2</td>\n",
       "      <td>16d46z5</td>\n",
       "      <td>2023-09-08 07:47:35</td>\n",
       "      <td>Experiences</td>\n",
       "      <td>I personally play on a typical 1080ti system(...</td>\n",
       "      <td>7.0</td>\n",
       "      <td>SEALEJ2001</td>\n",
       "      <td>Starfield is CPU heavy, which one do you have?...</td>\n",
       "      <td>Nvidia</td>\n",
       "      <td>['Starfield is CPU heavy, which one do you hav...</td>\n",
       "      <td>['Starfield', 'is', 'CPU', 'heavy', ',', 'whic...</td>\n",
       "      <td>starfield cpu heavy one great ti gpu probably ...</td>\n",
       "    </tr>\n",
       "    <tr>\n",
       "      <th>3</th>\n",
       "      <td>3</td>\n",
       "      <td>16d46z5</td>\n",
       "      <td>2023-09-08 07:47:35</td>\n",
       "      <td>Experiences</td>\n",
       "      <td>I personally play on a typical 1080ti system(...</td>\n",
       "      <td>7.0</td>\n",
       "      <td>SEALEJ2001</td>\n",
       "      <td>The game is just awfully optimized. I just upg...</td>\n",
       "      <td>Nvidia</td>\n",
       "      <td>['The game is just awfully optimized.', 'I jus...</td>\n",
       "      <td>['The', 'game', 'is', 'just', 'awfully', 'opti...</td>\n",
       "      <td>game awfully optimized upgraded ti like month ...</td>\n",
       "    </tr>\n",
       "    <tr>\n",
       "      <th>4</th>\n",
       "      <td>4</td>\n",
       "      <td>16d46z5</td>\n",
       "      <td>2023-09-08 07:47:35</td>\n",
       "      <td>Experiences</td>\n",
       "      <td>I personally play on a typical 1080ti system(...</td>\n",
       "      <td>7.0</td>\n",
       "      <td>SEALEJ2001</td>\n",
       "      <td>I tried using fsr but I didn't see any noticib...</td>\n",
       "      <td>Nvidia</td>\n",
       "      <td>[\"I tried using fsr but I didn't see any notic...</td>\n",
       "      <td>['I', 'tried', 'using', 'fsr', 'but', 'I', 'di...</td>\n",
       "      <td>tried using fsr nt see noticible improvement w...</td>\n",
       "    </tr>\n",
       "  </tbody>\n",
       "</table>\n",
       "</div>"
      ],
      "text/plain": [
       "   Unnamed: 0       id                 date               title  \\\n",
       "0           0  16d4gg0  2023-09-08 08:04:04  New to pc building   \n",
       "1           1  16d46z5  2023-09-08 07:47:35         Experiences   \n",
       "2           2  16d46z5  2023-09-08 07:47:35         Experiences   \n",
       "3           3  16d46z5  2023-09-08 07:47:35         Experiences   \n",
       "4           4  16d46z5  2023-09-08 07:47:35         Experiences   \n",
       "\n",
       "                                            selftext  n_comments      author  \\\n",
       "0  What’s better rtx 3090 for 700$-I’ve seen thes...         1.0  43VerLoner   \n",
       "1   I personally play on a typical 1080ti system(...         7.0  SEALEJ2001   \n",
       "2   I personally play on a typical 1080ti system(...         7.0  SEALEJ2001   \n",
       "3   I personally play on a typical 1080ti system(...         7.0  SEALEJ2001   \n",
       "4   I personally play on a typical 1080ti system(...         7.0  SEALEJ2001   \n",
       "\n",
       "                                             comment Subreddit  \\\n",
       "0  3090 keeps its price from the VRAM it has. A 4...    Nvidia   \n",
       "1  It's not you, just a combo of the game running...    Nvidia   \n",
       "2  Starfield is CPU heavy, which one do you have?...    Nvidia   \n",
       "3  The game is just awfully optimized. I just upg...    Nvidia   \n",
       "4  I tried using fsr but I didn't see any noticib...    Nvidia   \n",
       "\n",
       "                                           sentences  \\\n",
       "0  ['3090 keeps its price from the VRAM it has.',...   \n",
       "1  [\"It's not you, just a combo of the game runni...   \n",
       "2  ['Starfield is CPU heavy, which one do you hav...   \n",
       "3  ['The game is just awfully optimized.', 'I jus...   \n",
       "4  [\"I tried using fsr but I didn't see any notic...   \n",
       "\n",
       "                                               words  \\\n",
       "0  ['3090', 'keeps', 'its', 'price', 'from', 'the...   \n",
       "1  ['It', \"'s\", 'not', 'you', ',', 'just', 'a', '...   \n",
       "2  ['Starfield', 'is', 'CPU', 'heavy', ',', 'whic...   \n",
       "3  ['The', 'game', 'is', 'just', 'awfully', 'opti...   \n",
       "4  ['I', 'tried', 'using', 'fsr', 'but', 'I', 'di...   \n",
       "\n",
       "                                  preprocessed_words  \n",
       "0  keep price vram tad slower access frame genera...  \n",
       "1  combo game running like pig older gpu showing ...  \n",
       "2  starfield cpu heavy one great ti gpu probably ...  \n",
       "3  game awfully optimized upgraded ti like month ...  \n",
       "4  tried using fsr nt see noticible improvement w...  "
      ]
     },
     "execution_count": 3,
     "metadata": {},
     "output_type": "execute_result"
    }
   ],
   "source": [
    "combined.head()"
   ]
  },
  {
   "cell_type": "code",
   "execution_count": 4,
   "metadata": {},
   "outputs": [],
   "source": [
    "# select X and y columns we need\n",
    "df =  combined[['Subreddit', 'preprocessed_words']]\n",
    "\n",
    "# add label for classification\n",
    "df['is_amd'] = df['Subreddit'].apply(lambda x: 1 if x == \"AMD\" else 0)\n",
    "df = df.drop(columns = 'Subreddit')\n",
    "df = df.rename(columns={'preprocessed_words':'text'})"
   ]
  },
  {
   "cell_type": "code",
   "execution_count": 5,
   "metadata": {},
   "outputs": [
    {
     "data": {
      "text/html": [
       "<div>\n",
       "<style scoped>\n",
       "    .dataframe tbody tr th:only-of-type {\n",
       "        vertical-align: middle;\n",
       "    }\n",
       "\n",
       "    .dataframe tbody tr th {\n",
       "        vertical-align: top;\n",
       "    }\n",
       "\n",
       "    .dataframe thead th {\n",
       "        text-align: right;\n",
       "    }\n",
       "</style>\n",
       "<table border=\"1\" class=\"dataframe\">\n",
       "  <thead>\n",
       "    <tr style=\"text-align: right;\">\n",
       "      <th></th>\n",
       "      <th>text</th>\n",
       "      <th>is_amd</th>\n",
       "    </tr>\n",
       "  </thead>\n",
       "  <tbody>\n",
       "    <tr>\n",
       "      <th>0</th>\n",
       "      <td>keep price vram tad slower access frame genera...</td>\n",
       "      <td>0</td>\n",
       "    </tr>\n",
       "    <tr>\n",
       "      <th>1</th>\n",
       "      <td>combo game running like pig older gpu showing ...</td>\n",
       "      <td>0</td>\n",
       "    </tr>\n",
       "    <tr>\n",
       "      <th>2</th>\n",
       "      <td>starfield cpu heavy one great ti gpu probably ...</td>\n",
       "      <td>0</td>\n",
       "    </tr>\n",
       "    <tr>\n",
       "      <th>3</th>\n",
       "      <td>game awfully optimized upgraded ti like month ...</td>\n",
       "      <td>0</td>\n",
       "    </tr>\n",
       "    <tr>\n",
       "      <th>4</th>\n",
       "      <td>tried using fsr nt see noticible improvement w...</td>\n",
       "      <td>0</td>\n",
       "    </tr>\n",
       "  </tbody>\n",
       "</table>\n",
       "</div>"
      ],
      "text/plain": [
       "                                                text  is_amd\n",
       "0  keep price vram tad slower access frame genera...       0\n",
       "1  combo game running like pig older gpu showing ...       0\n",
       "2  starfield cpu heavy one great ti gpu probably ...       0\n",
       "3  game awfully optimized upgraded ti like month ...       0\n",
       "4  tried using fsr nt see noticible improvement w...       0"
      ]
     },
     "execution_count": 5,
     "metadata": {},
     "output_type": "execute_result"
    }
   ],
   "source": [
    "df.head()"
   ]
  },
  {
   "cell_type": "code",
   "execution_count": 6,
   "metadata": {},
   "outputs": [],
   "source": [
    "# Specify Stopwords\n",
    "custom_stopwords = [ \"subreddit\", \"reddit\"]  # remove these words as it is not meaningful for our analysis\n",
    "stopwords_list = list(set(stopwords.words('english') + custom_stopwords))"
   ]
  },
  {
   "cell_type": "code",
   "execution_count": 7,
   "metadata": {},
   "outputs": [],
   "source": [
    "# Let's also import the top common words of both subreddits from Notebook 2\n",
    "common_words = pd.read_csv('datasets/common_words.csv',index_col=[0])\n",
    "common_words_30 = common_words.head(20)\n",
    "\n",
    "# Create an additional stopwords list that includes the top 10 common words\n",
    "stopwords_list_with_common =  list(set(stopwords.words('english') + custom_stopwords + common_words_30['0'].values.tolist()))"
   ]
  },
  {
   "cell_type": "code",
   "execution_count": 8,
   "metadata": {},
   "outputs": [
    {
     "data": {
      "text/plain": [
       "['have',\n",
       " 'didn',\n",
       " 'he',\n",
       " 'are',\n",
       " 'few',\n",
       " \"you'd\",\n",
       " 'its',\n",
       " 'itself',\n",
       " 'those',\n",
       " 'card',\n",
       " 'yours',\n",
       " 'what',\n",
       " 'such',\n",
       " \"hasn't\",\n",
       " 'some',\n",
       " 'the',\n",
       " 'on',\n",
       " 'amd',\n",
       " 'other',\n",
       " 'yourself',\n",
       " 'her',\n",
       " 'most',\n",
       " \"that'll\",\n",
       " 'through',\n",
       " \"you're\",\n",
       " 'that',\n",
       " 'like',\n",
       " 'while',\n",
       " 'one',\n",
       " 'or',\n",
       " 'than',\n",
       " 'wasn',\n",
       " 'been',\n",
       " \"hadn't\",\n",
       " 'so',\n",
       " \"doesn't\",\n",
       " 'not',\n",
       " 'wouldn',\n",
       " 'is',\n",
       " \"she's\",\n",
       " 'i',\n",
       " 'if',\n",
       " 'mustn',\n",
       " 'get',\n",
       " 'under',\n",
       " 'any',\n",
       " \"shan't\",\n",
       " 'our',\n",
       " 'good',\n",
       " 'for',\n",
       " 'hadn',\n",
       " 'own',\n",
       " 'again',\n",
       " 'why',\n",
       " 't',\n",
       " 'yourselves',\n",
       " \"needn't\",\n",
       " 'you',\n",
       " \"won't\",\n",
       " 'having',\n",
       " 'just',\n",
       " 'was',\n",
       " 'we',\n",
       " 'then',\n",
       " 'even',\n",
       " 'at',\n",
       " 'be',\n",
       " 'each',\n",
       " 'should',\n",
       " 'and',\n",
       " 'they',\n",
       " 'will',\n",
       " 'it',\n",
       " 'this',\n",
       " \"you'll\",\n",
       " 'o',\n",
       " 'down',\n",
       " 'performance',\n",
       " \"weren't\",\n",
       " 'subreddit',\n",
       " 're',\n",
       " 'haven',\n",
       " 'won',\n",
       " 'himself',\n",
       " 'until',\n",
       " 'them',\n",
       " 'these',\n",
       " 'above',\n",
       " 'by',\n",
       " 'an',\n",
       " 'only',\n",
       " 'up',\n",
       " 'of',\n",
       " 'nor',\n",
       " 'do',\n",
       " 'll',\n",
       " 'where',\n",
       " \"should've\",\n",
       " 'me',\n",
       " 'were',\n",
       " 'games',\n",
       " 'all',\n",
       " 'about',\n",
       " \"mustn't\",\n",
       " 'below',\n",
       " 'd',\n",
       " 'dlss',\n",
       " 'aren',\n",
       " 'game',\n",
       " 'has',\n",
       " \"wouldn't\",\n",
       " 'weren',\n",
       " 's',\n",
       " 'y',\n",
       " 'needn',\n",
       " 'also',\n",
       " 'would',\n",
       " 'against',\n",
       " 'doesn',\n",
       " 'being',\n",
       " 'very',\n",
       " \"don't\",\n",
       " 'better',\n",
       " 'ourselves',\n",
       " 'now',\n",
       " 'out',\n",
       " 'from',\n",
       " 'shan',\n",
       " 'can',\n",
       " \"aren't\",\n",
       " 'isn',\n",
       " 'during',\n",
       " 'with',\n",
       " \"isn't\",\n",
       " 'but',\n",
       " 'did',\n",
       " 'when',\n",
       " 'herself',\n",
       " 'once',\n",
       " 'don',\n",
       " \"wasn't\",\n",
       " 'ma',\n",
       " 'their',\n",
       " 've',\n",
       " \"mightn't\",\n",
       " 'hers',\n",
       " 'who',\n",
       " 'which',\n",
       " 'over',\n",
       " 'a',\n",
       " 'fps',\n",
       " 'shouldn',\n",
       " 'as',\n",
       " 'because',\n",
       " 'doing',\n",
       " 'between',\n",
       " 'in',\n",
       " 'whom',\n",
       " 'does',\n",
       " \"didn't\",\n",
       " 'm',\n",
       " 'am',\n",
       " 'after',\n",
       " 'she',\n",
       " 'into',\n",
       " 'reddit',\n",
       " 'ours',\n",
       " 'too',\n",
       " 'mightn',\n",
       " 'ain',\n",
       " 'xt',\n",
       " 'theirs',\n",
       " \"couldn't\",\n",
       " 'gpu',\n",
       " 'his',\n",
       " 'off',\n",
       " \"haven't\",\n",
       " \"shouldn't\",\n",
       " 'both',\n",
       " 'to',\n",
       " \"you've\",\n",
       " 'same',\n",
       " 'hasn',\n",
       " 'him',\n",
       " 'couldn',\n",
       " 'themselves',\n",
       " 'before',\n",
       " 'more',\n",
       " 'how',\n",
       " 'no',\n",
       " \"it's\",\n",
       " 'fsr',\n",
       " 'nt',\n",
       " 'myself',\n",
       " 'your',\n",
       " 'nvidia',\n",
       " 'had',\n",
       " 'further',\n",
       " 'here',\n",
       " 'there',\n",
       " 'my']"
      ]
     },
     "execution_count": 8,
     "metadata": {},
     "output_type": "execute_result"
    }
   ],
   "source": [
    "stopwords_list_with_common"
   ]
  },
  {
   "cell_type": "markdown",
   "metadata": {},
   "source": [
    "For this notebook on Modelling, I will only be considering the \"text\" column of the scraped dataset, and this has been pre-processed in notebook 2. This ensures that our model can be properly trained on the content of the subreddit posts.\n"
   ]
  },
  {
   "cell_type": "markdown",
   "metadata": {},
   "source": [
    "##### Baseline \n",
    "We always begin with creating a baseline model so that we have something to compare our model against. We can use the normalized value of y. This represents the simplest model we can use, where assigning a post randomly will give us a 63% chance of classifying it correctly."
   ]
  },
  {
   "cell_type": "code",
   "execution_count": 9,
   "metadata": {},
   "outputs": [
    {
     "data": {
      "text/plain": [
       "is_amd\n",
       "1    0.629734\n",
       "0    0.370266\n",
       "Name: proportion, dtype: float64"
      ]
     },
     "execution_count": 9,
     "metadata": {},
     "output_type": "execute_result"
    }
   ],
   "source": [
    "# Baseline model\n",
    "X = df['text']\n",
    "y = df['is_amd']\n",
    "y.value_counts(normalize=True)"
   ]
  },
  {
   "cell_type": "markdown",
   "metadata": {},
   "source": [
    "#### Model Preparation"
   ]
  },
  {
   "cell_type": "markdown",
   "metadata": {},
   "source": [
    "\n",
    "Steps I took for this section:\n",
    "1. Train Test Split\n",
    "2. Instantiating Vectorizers and Models\n",
    "3. Creating a User-Defined Function* with Scikit-learn's Pipeline tool that will help calculate the relevant classification metrics from each model (Metrics include Accuracy, Specificity and F1_Score)\n",
    "4. Evaluate best model\n",
    "5. Tune Hyper-parameters of best model\n",
    "\n"
   ]
  },
  {
   "cell_type": "code",
   "execution_count": 10,
   "metadata": {},
   "outputs": [
    {
     "name": "stdout",
     "output_type": "stream",
     "text": [
      "(48622,)\n",
      "(12156,)\n"
     ]
    }
   ],
   "source": [
    "# Train Test Split\n",
    "\n",
    "X_train, X_test, y_train, y_test = train_test_split(X, y, test_size = 0.2, random_state=42, stratify = y)\n",
    "X_train = X_train.values.astype('U')\n",
    "X_test = X_test.values.astype('U')\n",
    "print(X_train.shape)\n",
    "print(X_test.shape)"
   ]
  },
  {
   "cell_type": "code",
   "execution_count": 11,
   "metadata": {},
   "outputs": [],
   "source": [
    "cvec = CountVectorizer(stop_words=stopwords_list)\n",
    "cvec.fit(X_train)\n",
    "X_train = cvec.transform(X_train) #transform the corpus"
   ]
  },
  {
   "cell_type": "code",
   "execution_count": 12,
   "metadata": {},
   "outputs": [
    {
     "name": "stdout",
     "output_type": "stream",
     "text": [
      "['aa' 'aaa' 'aaaaa' ... 'zz' 'zzx' 'zzzzz']\n",
      "(48622, 30358)\n"
     ]
    }
   ],
   "source": [
    "print(cvec.get_feature_names_out())\n",
    "print(X_train.shape)"
   ]
  },
  {
   "cell_type": "code",
   "execution_count": 13,
   "metadata": {},
   "outputs": [],
   "source": [
    "# Transform test\n",
    "X_test = cvec.transform(X_test)"
   ]
  },
  {
   "cell_type": "markdown",
   "metadata": {},
   "source": [
    "##### 1. Train Test Split"
   ]
  },
  {
   "cell_type": "code",
   "execution_count": 14,
   "metadata": {},
   "outputs": [],
   "source": [
    "# Redefine train and test data\n",
    "\n",
    "X_train, X_test, y_train, y_test = train_test_split(X, y, test_size = 0.2, random_state=42, stratify = y)\n",
    "X_train = X_train.values.astype('U')\n",
    "X_test = X_test.values.astype('U')"
   ]
  },
  {
   "cell_type": "code",
   "execution_count": 15,
   "metadata": {},
   "outputs": [
    {
     "data": {
      "text/plain": [
       "array(['must something weird nanite sure honest maybe potato quality wanted console fps update pc guessing though',\n",
       "       'deleted', 'switch port doesnt fsr', ...,\n",
       "       'x either look x suppose since pretty much gaming mostly',\n",
       "       'yeah weird even weirder none dx advertised performance advantage ever materialised regular game guess game developer decided use freed resource make game even le optimized',\n",
       "       'got mine friday take place massive improvement wish fsr could remove jaggies shinies well dl'],\n",
       "      dtype='<U4199')"
      ]
     },
     "execution_count": 15,
     "metadata": {},
     "output_type": "execute_result"
    }
   ],
   "source": [
    "X_train"
   ]
  },
  {
   "cell_type": "markdown",
   "metadata": {},
   "source": [
    "##### 2. Instantiation of Vectorizers and Models"
   ]
  },
  {
   "cell_type": "markdown",
   "metadata": {},
   "source": [
    "2.1. I will be exploring different Classification algorithms:\n",
    "- Multinomial Naive Bayes: Based on Bayes's theorem - the assumption that each feature (in our case, each word) is independent of each other.\n",
    "- Logistic Regression:\n",
    "- Random Forest: Consists of n number of decision trees that act as an ensemble. Each decision tree makes a class prediction and the class with the most votes becomes the model's prediction.  \n",
    "- K-nearest Neighbors Classifier  \n",
    "\n",
    "2.2. I will also be evaluating the models using both Count Vectorizer or Term Frequency-Inverse Document Frequency (TFIDF) transformers:\n",
    "- Count Vectorizer: Takes every word as a token, and uses it as a feature.\n",
    "- TFIFD: accounts for frequency of a word in a given document and the frequency between documents. Word importance increases proportionally to the number of times it appears in a document, but is offset by frequency of word in entire corpus."
   ]
  },
  {
   "cell_type": "code",
   "execution_count": 16,
   "metadata": {},
   "outputs": [],
   "source": [
    "# Instiantiate models\n",
    "models = {'nb': MultinomialNB(),\n",
    "          'log_reg': LogisticRegression(max_iter=500, random_state=123),\n",
    "          'rf': RandomForestClassifier(random_state=123),\n",
    "          'knn': KNeighborsClassifier()}"
   ]
  },
  {
   "cell_type": "markdown",
   "metadata": {},
   "source": [
    "##### 3. User-Defined Function - inputs required are vectorizer and model\n",
    "\n",
    "3.1 Ngram Range option: To explore if different n-grams will give better results. I have opted to include this based on the EDA in Notebook 2 - seems like some bigrams and trigrams might be good predictors of whether or not a Subreddit is from AMD or Nvidia. <br>\n",
    "\n",
    "3.2 List of Stopwords: Explore if the standard stopword list in nltk of English words or English words + common words from both subreddits will produce better results. By removing them, I am retaining the words that are more specific to the content of each subreddit. This might enhance the model's ability to capture the distinctive language and topics associated with each community, hence improving model performance.\n",
    "\n",
    "3.3 Function will produce a dataframe of classification results: Accuracy, Specificity, F_Score, ROC_AUC"
   ]
  },
  {
   "cell_type": "code",
   "execution_count": 17,
   "metadata": {},
   "outputs": [],
   "source": [
    "from sklearn.feature_extraction.text import CountVectorizer\n",
    "\n",
    "df_results = []\n",
    "\n",
    "def clf_model(vec, mod, stopwords, ngram_range, cv_num,type):   # option to include Grid Search\n",
    "\n",
    "    vec_params={}\n",
    "    results = {}\n",
    "    vec_params['ngram_range'] = ngram_range  # Add ngram_range to the vectorizer parameters\n",
    "    vec_params['stop_words'] = stopwords\n",
    "    \n",
    "    # Instantiate Vectorizers\n",
    "    if vec == 'cvec':     \n",
    "        vectorizer = CountVectorizer(**vec_params)\n",
    "    elif vec == 'tvec':\n",
    "        vectorizer = TfidfVectorizer(**vec_params)\n",
    "    else:\n",
    "        raise ValueError(\"Invalid 'vec' parameter. Supported values are 'cvec' and 'tvec'.\")\n",
    "    \n",
    "    pipe = Pipeline([\n",
    "            (vec, vectorizer), \n",
    "            (mod, models[mod])\n",
    "            ])     # pipeline helps to automatically transform the data\n",
    "\n",
    "    pipe.fit(X_train, y_train)\n",
    "    \n",
    "    # Get predictions\n",
    "    preds = pipe.predict(X_test)\n",
    "\n",
    "    # Confusion Matrix\n",
    "    tn, fp, fn, tp = confusion_matrix(y_test, preds).ravel()\n",
    "    cm = confusion_matrix(y_test, preds)\n",
    "    tn, fp, fn, tp = cm[0, 0], cm[0, 1], cm[1, 0], cm[1, 1]\n",
    "    acc = (tp + tn)/ (tp+tn+fp+fn)\n",
    "    spec = tn / (tn + fp)\n",
    "    \n",
    "    # Retrieve metrics\n",
    "    results['Model'] = mod\n",
    "    results['Vectorizer'] = vec\n",
    "    results['Train Score'] = pipe.score(X_train, y_train)\n",
    "    results['Test Score'] = pipe.score(X_test, y_test)\n",
    "    results['Accuracy'] = acc\n",
    "    results['Specificity'] = spec\n",
    "    results['f_score'] = f1_score(y_test, preds)\n",
    "    results['ROC_AUC'] = roc_auc_score(y_test, preds)\n",
    "    results['Ngram Range'] = ngram_range\n",
    "    results['Stopword List'] = type\n",
    "        \n",
    "    df_results.append(results)\n",
    "    \n",
    "    print(f\"--- METRICS for {mod},{vec} ---\")\n",
    "    display(results)\n",
    "    \n",
    "    "
   ]
  },
  {
   "cell_type": "code",
   "execution_count": 21,
   "metadata": {},
   "outputs": [
    {
     "name": "stdout",
     "output_type": "stream",
     "text": [
      "--- METRICS for log_reg,cvec ---\n"
     ]
    },
    {
     "data": {
      "text/plain": [
       "{'Model': 'log_reg',\n",
       " 'Vectorizer': 'cvec',\n",
       " 'Train Score': 0.834005182839044,\n",
       " 'Test Score': 0.7314906219151036,\n",
       " 'Accuracy': 0.7314906219151036,\n",
       " 'Specificity': 0.5189957787158409,\n",
       " 'f_score': 0.8006839276990718,\n",
       " 'ROC_AUC': 0.6877147410888153,\n",
       " 'Ngram Range': (1, 1),\n",
       " 'Stopword List': 'Stop Words List with Common Words'}"
      ]
     },
     "metadata": {},
     "output_type": "display_data"
    },
    {
     "name": "stdout",
     "output_type": "stream",
     "text": [
      "--- METRICS for log_reg,cvec ---\n"
     ]
    },
    {
     "data": {
      "text/plain": [
       "{'Model': 'log_reg',\n",
       " 'Vectorizer': 'cvec',\n",
       " 'Train Score': 0.8421290773723829,\n",
       " 'Test Score': 0.7398815399802566,\n",
       " 'Accuracy': 0.7398815399802566,\n",
       " 'Specificity': 0.5478782492779383,\n",
       " 'f_score': 0.8050314465408805,\n",
       " 'ROC_AUC': 0.7003271063502688,\n",
       " 'Ngram Range': (1, 1),\n",
       " 'Stopword List': 'Stop Words List with English Words'}"
      ]
     },
     "metadata": {},
     "output_type": "display_data"
    },
    {
     "name": "stdout",
     "output_type": "stream",
     "text": [
      "--- METRICS for log_reg,cvec ---\n"
     ]
    },
    {
     "data": {
      "text/plain": [
       "{'Model': 'log_reg',\n",
       " 'Vectorizer': 'cvec',\n",
       " 'Train Score': 0.9741680720661429,\n",
       " 'Test Score': 0.7451464297466271,\n",
       " 'Accuracy': 0.7451464297466271,\n",
       " 'Specificity': 0.537880471006443,\n",
       " 'f_score': 0.8107744930368922,\n",
       " 'ROC_AUC': 0.7024477469336592,\n",
       " 'Ngram Range': (1, 2),\n",
       " 'Stopword List': 'Stop Words List with Common Words'}"
      ]
     },
     "metadata": {},
     "output_type": "display_data"
    },
    {
     "name": "stdout",
     "output_type": "stream",
     "text": [
      "--- METRICS for log_reg,cvec ---\n"
     ]
    },
    {
     "data": {
      "text/plain": [
       "{'Model': 'log_reg',\n",
       " 'Vectorizer': 'cvec',\n",
       " 'Train Score': 0.9783637036732343,\n",
       " 'Test Score': 0.7503290556103982,\n",
       " 'Accuracy': 0.7503290556103982,\n",
       " 'Specificity': 0.5603199289046878,\n",
       " 'f_score': 0.8130351752602724,\n",
       " 'ROC_AUC': 0.7111854379990454,\n",
       " 'Ngram Range': (1, 2),\n",
       " 'Stopword List': 'Stop Words List with English Words'}"
      ]
     },
     "metadata": {},
     "output_type": "display_data"
    },
    {
     "name": "stdout",
     "output_type": "stream",
     "text": [
      "--- METRICS for log_reg,cvec ---\n"
     ]
    },
    {
     "data": {
      "text/plain": [
       "{'Model': 'log_reg',\n",
       " 'Vectorizer': 'cvec',\n",
       " 'Train Score': 0.9784459709596479,\n",
       " 'Test Score': 0.7421026653504442,\n",
       " 'Accuracy': 0.7421026653504442,\n",
       " 'Specificity': 0.5214396800710953,\n",
       " 'f_score': 0.8098040405266032,\n",
       " 'ROC_AUC': 0.6966440725633073,\n",
       " 'Ngram Range': (1, 3),\n",
       " 'Stopword List': 'Stop Words List with Common Words'}"
      ]
     },
     "metadata": {},
     "output_type": "display_data"
    },
    {
     "name": "stdout",
     "output_type": "stream",
     "text": [
      "--- METRICS for log_reg,cvec ---\n"
     ]
    },
    {
     "data": {
      "text/plain": [
       "{'Model': 'log_reg',\n",
       " 'Vectorizer': 'cvec',\n",
       " 'Train Score': 0.9824565011723089,\n",
       " 'Test Score': 0.7508226390259954,\n",
       " 'Accuracy': 0.7508226390259954,\n",
       " 'Specificity': 0.5509886691846256,\n",
       " 'f_score': 0.8144336212705998,\n",
       " 'ROC_AUC': 0.7096550138868916,\n",
       " 'Ngram Range': (1, 3),\n",
       " 'Stopword List': 'Stop Words List with English Words'}"
      ]
     },
     "metadata": {},
     "output_type": "display_data"
    },
    {
     "name": "stdout",
     "output_type": "stream",
     "text": [
      "--- METRICS for log_reg,tvec ---\n"
     ]
    },
    {
     "data": {
      "text/plain": [
       "{'Model': 'log_reg',\n",
       " 'Vectorizer': 'tvec',\n",
       " 'Train Score': 0.7871333964049196,\n",
       " 'Test Score': 0.7375781507074696,\n",
       " 'Accuracy': 0.7375781507074696,\n",
       " 'Specificity': 0.4981115307709398,\n",
       " 'f_score': 0.8082702247866331,\n",
       " 'ROC_AUC': 0.688245837233935,\n",
       " 'Ngram Range': (1, 1),\n",
       " 'Stopword List': 'Stop Words List with Common Words'}"
      ]
     },
     "metadata": {},
     "output_type": "display_data"
    },
    {
     "name": "stdout",
     "output_type": "stream",
     "text": [
      "--- METRICS for log_reg,tvec ---\n"
     ]
    },
    {
     "data": {
      "text/plain": [
       "{'Model': 'log_reg',\n",
       " 'Vectorizer': 'tvec',\n",
       " 'Train Score': 0.7970260375961499,\n",
       " 'Test Score': 0.7475320829220138,\n",
       " 'Accuracy': 0.7475320829220138,\n",
       " 'Specificity': 0.5289935569873362,\n",
       " 'f_score': 0.8137855712638797,\n",
       " 'ROC_AUC': 0.7025111481866791,\n",
       " 'Ngram Range': (1, 1),\n",
       " 'Stopword List': 'Stop Words List with English Words'}"
      ]
     },
     "metadata": {},
     "output_type": "display_data"
    },
    {
     "name": "stdout",
     "output_type": "stream",
     "text": [
      "--- METRICS for log_reg,tvec ---\n"
     ]
    },
    {
     "data": {
      "text/plain": [
       "{'Model': 'log_reg',\n",
       " 'Vectorizer': 'tvec',\n",
       " 'Train Score': 0.8471885154868166,\n",
       " 'Test Score': 0.7362619282658769,\n",
       " 'Accuracy': 0.7362619282658769,\n",
       " 'Specificity': 0.4736725172183959,\n",
       " 'f_score': 0.8096425602660016,\n",
       " 'ROC_AUC': 0.6821661083805892,\n",
       " 'Ngram Range': (1, 2),\n",
       " 'Stopword List': 'Stop Words List with Common Words'}"
      ]
     },
     "metadata": {},
     "output_type": "display_data"
    },
    {
     "name": "stdout",
     "output_type": "stream",
     "text": [
      "--- METRICS for log_reg,tvec ---\n"
     ]
    },
    {
     "data": {
      "text/plain": [
       "{'Model': 'log_reg',\n",
       " 'Vectorizer': 'tvec',\n",
       " 'Train Score': 0.8622434289004978,\n",
       " 'Test Score': 0.7490950970714051,\n",
       " 'Accuracy': 0.7490950970714051,\n",
       " 'Specificity': 0.5027771606309709,\n",
       " 'f_score': 0.8177581261950286,\n",
       " 'ROC_AUC': 0.6983513497472293,\n",
       " 'Ngram Range': (1, 2),\n",
       " 'Stopword List': 'Stop Words List with English Words'}"
      ]
     },
     "metadata": {},
     "output_type": "display_data"
    },
    {
     "name": "stdout",
     "output_type": "stream",
     "text": [
      "--- METRICS for log_reg,tvec ---\n"
     ]
    },
    {
     "data": {
      "text/plain": [
       "{'Model': 'log_reg',\n",
       " 'Vectorizer': 'tvec',\n",
       " 'Train Score': 0.8538315988647115,\n",
       " 'Test Score': 0.7361796643632774,\n",
       " 'Accuracy': 0.7361796643632774,\n",
       " 'Specificity': 0.4823372583870251,\n",
       " 'f_score': 0.8086857960985504,\n",
       " 'ROC_AUC': 0.6838858075083395,\n",
       " 'Ngram Range': (1, 3),\n",
       " 'Stopword List': 'Stop Words List with Common Words'}"
      ]
     },
     "metadata": {},
     "output_type": "display_data"
    },
    {
     "name": "stdout",
     "output_type": "stream",
     "text": [
      "--- METRICS for log_reg,tvec ---\n"
     ]
    },
    {
     "data": {
      "text/plain": [
       "{'Model': 'log_reg',\n",
       " 'Vectorizer': 'tvec',\n",
       " 'Train Score': 0.8720743696269179,\n",
       " 'Test Score': 0.7469562356038171,\n",
       " 'Accuracy': 0.7469562356038171,\n",
       " 'Specificity': 0.5036658520328816,\n",
       " 'f_score': 0.8158304394683272,\n",
       " 'ROC_AUC': 0.6968361918557615,\n",
       " 'Ngram Range': (1, 3),\n",
       " 'Stopword List': 'Stop Words List with English Words'}"
      ]
     },
     "metadata": {},
     "output_type": "display_data"
    }
   ],
   "source": [
    "# Logistic Regression\n",
    "\n",
    "clf_model('cvec', 'log_reg', stopwords_list_with_common, (1,1), 5,\"Stop Words List with Common Words\")\n",
    "clf_model('cvec', 'log_reg', stopwords_list, (1,1), 5 ,\"Stop Words List with English Words\")\n",
    "clf_model('cvec', 'log_reg', stopwords_list_with_common, (1,2), 5,\"Stop Words List with Common Words\")\n",
    "clf_model('cvec', 'log_reg', stopwords_list, (1,2), 5 ,\"Stop Words List with English Words\")\n",
    "clf_model('cvec', 'log_reg', stopwords_list_with_common, (1,3), 5,\"Stop Words List with Common Words\")\n",
    "clf_model('cvec', 'log_reg', stopwords_list, (1,3), 5 ,\"Stop Words List with English Words\")\n",
    "clf_model('tvec', 'log_reg', stopwords_list_with_common, (1,1), 5,\"Stop Words List with Common Words\")\n",
    "clf_model('tvec', 'log_reg', stopwords_list, (1,1), 5 ,\"Stop Words List with English Words\")\n",
    "clf_model('tvec', 'log_reg', stopwords_list_with_common, (1,2), 5,\"Stop Words List with Common Words\")\n",
    "clf_model('tvec', 'log_reg', stopwords_list, (1,2), 5 ,\"Stop Words List with English Words\")\n",
    "clf_model('tvec', 'log_reg', stopwords_list_with_common, (1,3), 5,\"Stop Words List with Common Words\")\n",
    "clf_model('tvec', 'log_reg', stopwords_list, (1,3), 5 ,\"Stop Words List with English Words\")\n"
   ]
  },
  {
   "cell_type": "code",
   "execution_count": 22,
   "metadata": {},
   "outputs": [
    {
     "name": "stdout",
     "output_type": "stream",
     "text": [
      "--- METRICS for nb,cvec ---\n"
     ]
    },
    {
     "data": {
      "text/plain": [
       "{'Model': 'nb',\n",
       " 'Vectorizer': 'cvec',\n",
       " 'Train Score': 0.7838221381267739,\n",
       " 'Test Score': 0.7314083580125041,\n",
       " 'Accuracy': 0.7314083580125041,\n",
       " 'Specificity': 0.5743168184847811,\n",
       " 'f_score': 0.7943566164892613,\n",
       " 'ROC_AUC': 0.6990460643697582,\n",
       " 'Ngram Range': (1, 1),\n",
       " 'Stopword List': 'Stop Words List with Common Words'}"
      ]
     },
     "metadata": {},
     "output_type": "display_data"
    },
    {
     "name": "stdout",
     "output_type": "stream",
     "text": [
      "--- METRICS for nb,cvec ---\n"
     ]
    },
    {
     "data": {
      "text/plain": [
       "{'Model': 'nb',\n",
       " 'Vectorizer': 'cvec',\n",
       " 'Train Score': 0.7856937188926824,\n",
       " 'Test Score': 0.7370023033892728,\n",
       " 'Accuracy': 0.7370023033892728,\n",
       " 'Specificity': 0.6003110419906688,\n",
       " 'f_score': 0.7965119979632105,\n",
       " 'ROC_AUC': 0.7088426535884108,\n",
       " 'Ngram Range': (1, 1),\n",
       " 'Stopword List': 'Stop Words List with English Words'}"
      ]
     },
     "metadata": {},
     "output_type": "display_data"
    },
    {
     "name": "stdout",
     "output_type": "stream",
     "text": [
      "--- METRICS for nb,cvec ---\n"
     ]
    },
    {
     "data": {
      "text/plain": [
       "{'Model': 'nb',\n",
       " 'Vectorizer': 'cvec',\n",
       " 'Train Score': 0.9461971946855333,\n",
       " 'Test Score': 0.7357683448502796,\n",
       " 'Accuracy': 0.7357683448502796,\n",
       " 'Specificity': 0.42701621861808486,\n",
       " 'f_score': 0.8138618451553082,\n",
       " 'ROC_AUC': 0.6721625835089118,\n",
       " 'Ngram Range': (1, 2),\n",
       " 'Stopword List': 'Stop Words List with Common Words'}"
      ]
     },
     "metadata": {},
     "output_type": "display_data"
    },
    {
     "name": "stdout",
     "output_type": "stream",
     "text": [
      "--- METRICS for nb,cvec ---\n"
     ]
    },
    {
     "data": {
      "text/plain": [
       "{'Model': 'nb',\n",
       " 'Vectorizer': 'cvec',\n",
       " 'Train Score': 0.9437291760931266,\n",
       " 'Test Score': 0.7431720960842383,\n",
       " 'Accuracy': 0.7431720960842383,\n",
       " 'Specificity': 0.44990002221728503,\n",
       " 'f_score': 0.817852975495916,\n",
       " 'ROC_AUC': 0.6827553670851285,\n",
       " 'Ngram Range': (1, 2),\n",
       " 'Stopword List': 'Stop Words List with English Words'}"
      ]
     },
     "metadata": {},
     "output_type": "display_data"
    },
    {
     "name": "stdout",
     "output_type": "stream",
     "text": [
      "--- METRICS for nb,cvec ---\n"
     ]
    },
    {
     "data": {
      "text/plain": [
       "{'Model': 'nb',\n",
       " 'Vectorizer': 'cvec',\n",
       " 'Train Score': 0.9662704125704413,\n",
       " 'Test Score': 0.7272951628825272,\n",
       " 'Accuracy': 0.7272951628825272,\n",
       " 'Specificity': 0.3528104865585425,\n",
       " 'f_score': 0.8139835026092812,\n",
       " 'ROC_AUC': 0.6501478951407997,\n",
       " 'Ngram Range': (1, 3),\n",
       " 'Stopword List': 'Stop Words List with Common Words'}"
      ]
     },
     "metadata": {},
     "output_type": "display_data"
    },
    {
     "name": "stdout",
     "output_type": "stream",
     "text": [
      "--- METRICS for nb,cvec ---\n"
     ]
    },
    {
     "data": {
      "text/plain": [
       "{'Model': 'nb',\n",
       " 'Vectorizer': 'cvec',\n",
       " 'Train Score': 0.969211468059726,\n",
       " 'Test Score': 0.7305034550839091,\n",
       " 'Accuracy': 0.7305034550839091,\n",
       " 'Specificity': 0.35992001777382804,\n",
       " 'f_score': 0.815913688469319,\n",
       " 'ROC_AUC': 0.6541598782533412,\n",
       " 'Ngram Range': (1, 3),\n",
       " 'Stopword List': 'Stop Words List with English Words'}"
      ]
     },
     "metadata": {},
     "output_type": "display_data"
    },
    {
     "name": "stdout",
     "output_type": "stream",
     "text": [
      "--- METRICS for nb,tvec ---\n"
     ]
    },
    {
     "data": {
      "text/plain": [
       "{'Model': 'nb',\n",
       " 'Vectorizer': 'tvec',\n",
       " 'Train Score': 0.7479947348936695,\n",
       " 'Test Score': 0.7025337282000658,\n",
       " 'Accuracy': 0.7025337282000658,\n",
       " 'Specificity': 0.25949788935792045,\n",
       " 'f_score': 0.803050108932462,\n",
       " 'ROC_AUC': 0.6112642941237676,\n",
       " 'Ngram Range': (1, 1),\n",
       " 'Stopword List': 'Stop Words List with Common Words'}"
      ]
     },
     "metadata": {},
     "output_type": "display_data"
    },
    {
     "name": "stdout",
     "output_type": "stream",
     "text": [
      "--- METRICS for nb,tvec ---\n"
     ]
    },
    {
     "data": {
      "text/plain": [
       "{'Model': 'nb',\n",
       " 'Vectorizer': 'tvec',\n",
       " 'Train Score': 0.7494755460491136,\n",
       " 'Test Score': 0.7040144784468575,\n",
       " 'Accuracy': 0.7040144784468575,\n",
       " 'Specificity': 0.26127527216174184,\n",
       " 'f_score': 0.8040518462041172,\n",
       " 'ROC_AUC': 0.6128061533898193,\n",
       " 'Ngram Range': (1, 1),\n",
       " 'Stopword List': 'Stop Words List with English Words'}"
      ]
     },
     "metadata": {},
     "output_type": "display_data"
    },
    {
     "name": "stdout",
     "output_type": "stream",
     "text": [
      "--- METRICS for nb,tvec ---\n"
     ]
    },
    {
     "data": {
      "text/plain": [
       "{'Model': 'nb',\n",
       " 'Vectorizer': 'tvec',\n",
       " 'Train Score': 0.7715026119863436,\n",
       " 'Test Score': 0.6667489305692662,\n",
       " 'Accuracy': 0.6667489305692662,\n",
       " 'Specificity': 0.11397467229504554,\n",
       " 'f_score': 0.7893943332466857,\n",
       " 'ROC_AUC': 0.552872378603434,\n",
       " 'Ngram Range': (1, 2),\n",
       " 'Stopword List': 'Stop Words List with Common Words'}"
      ]
     },
     "metadata": {},
     "output_type": "display_data"
    },
    {
     "name": "stdout",
     "output_type": "stream",
     "text": [
      "--- METRICS for nb,tvec ---\n"
     ]
    },
    {
     "data": {
      "text/plain": [
       "{'Model': 'nb',\n",
       " 'Vectorizer': 'tvec',\n",
       " 'Train Score': 0.7636255193122455,\n",
       " 'Test Score': 0.6656794998354721,\n",
       " 'Accuracy': 0.6656794998354721,\n",
       " 'Specificity': 0.11086425238835815,\n",
       " 'f_score': 0.788883116883117,\n",
       " 'ROC_AUC': 0.5513824854365044,\n",
       " 'Ngram Range': (1, 2),\n",
       " 'Stopword List': 'Stop Words List with English Words'}"
      ]
     },
     "metadata": {},
     "output_type": "display_data"
    },
    {
     "name": "stdout",
     "output_type": "stream",
     "text": [
      "--- METRICS for nb,tvec ---\n"
     ]
    },
    {
     "data": {
      "text/plain": [
       "{'Model': 'nb',\n",
       " 'Vectorizer': 'tvec',\n",
       " 'Train Score': 0.8165850849409733,\n",
       " 'Test Score': 0.6607436656794998,\n",
       " 'Accuracy': 0.6607436656794998,\n",
       " 'Specificity': 0.09375694290157743,\n",
       " 'f_score': 0.7868072787427626,\n",
       " 'ROC_AUC': 0.5439392160621539,\n",
       " 'Ngram Range': (1, 3),\n",
       " 'Stopword List': 'Stop Words List with Common Words'}"
      ]
     },
     "metadata": {},
     "output_type": "display_data"
    },
    {
     "name": "stdout",
     "output_type": "stream",
     "text": [
      "--- METRICS for nb,tvec ---\n"
     ]
    },
    {
     "data": {
      "text/plain": [
       "{'Model': 'nb',\n",
       " 'Vectorizer': 'tvec',\n",
       " 'Train Score': 0.8051293653078854,\n",
       " 'Test Score': 0.6585225403093122,\n",
       " 'Accuracy': 0.6585225403093122,\n",
       " 'Specificity': 0.08642523883581427,\n",
       " 'f_score': 0.7858432647165041,\n",
       " 'ROC_AUC': 0.5406652647477569,\n",
       " 'Ngram Range': (1, 3),\n",
       " 'Stopword List': 'Stop Words List with English Words'}"
      ]
     },
     "metadata": {},
     "output_type": "display_data"
    }
   ],
   "source": [
    "# Multinomial Naive Bayes\n",
    "clf_model('cvec', 'nb', stopwords_list_with_common, (1,1), 10,\"Stop Words List with Common Words\")\n",
    "clf_model('cvec', 'nb', stopwords_list, (1,1), 10 ,\"Stop Words List with English Words\")\n",
    "clf_model('cvec', 'nb', stopwords_list_with_common, (1,2), 10,\"Stop Words List with Common Words\")\n",
    "clf_model('cvec', 'nb', stopwords_list, (1,2), 10 ,\"Stop Words List with English Words\")\n",
    "clf_model('cvec', 'nb', stopwords_list_with_common, (1,3), 10,\"Stop Words List with Common Words\")\n",
    "clf_model('cvec', 'nb', stopwords_list, (1,3), 10 ,\"Stop Words List with English Words\")\n",
    "clf_model('tvec', 'nb', stopwords_list_with_common, (1,1), 10,\"Stop Words List with Common Words\")\n",
    "clf_model('tvec', 'nb', stopwords_list, (1,1), 10 ,\"Stop Words List with English Words\")\n",
    "clf_model('tvec', 'nb', stopwords_list_with_common, (1,2), 10,\"Stop Words List with Common Words\")\n",
    "clf_model('tvec', 'nb', stopwords_list, (1,2), 10 ,\"Stop Words List with English Words\")\n",
    "clf_model('tvec', 'nb', stopwords_list_with_common, (1,3), 10,\"Stop Words List with Common Words\")\n",
    "clf_model('tvec', 'nb', stopwords_list, (1,3), 10 ,\"Stop Words List with English Words\")"
   ]
  },
  {
   "cell_type": "code",
   "execution_count": 23,
   "metadata": {},
   "outputs": [
    {
     "name": "stdout",
     "output_type": "stream",
     "text": [
      "--- METRICS for rf,cvec ---\n"
     ]
    },
    {
     "data": {
      "text/plain": [
       "{'Model': 'rf',\n",
       " 'Vectorizer': 'cvec',\n",
       " 'Train Score': 0.9884414462588952,\n",
       " 'Test Score': 0.7207963145771635,\n",
       " 'Accuracy': 0.7207963145771635,\n",
       " 'Specificity': 0.5181070873139303,\n",
       " 'f_score': 0.7911898609573027,\n",
       " 'ROC_AUC': 0.6790404802996822,\n",
       " 'Ngram Range': (1, 1),\n",
       " 'Stopword List': 'Stop Words List with Common Words'}"
      ]
     },
     "metadata": {},
     "output_type": "display_data"
    },
    {
     "name": "stdout",
     "output_type": "stream",
     "text": [
      "--- METRICS for rf,cvec ---\n"
     ]
    },
    {
     "data": {
      "text/plain": [
       "{'Model': 'rf',\n",
       " 'Vectorizer': 'cvec',\n",
       " 'Train Score': 0.9902513265599934,\n",
       " 'Test Score': 0.7361796643632774,\n",
       " 'Accuracy': 0.7361796643632774,\n",
       " 'Specificity': 0.5314374583425905,\n",
       " 'f_score': 0.8035046872127933,\n",
       " 'ROC_AUC': 0.6940008976886042,\n",
       " 'Ngram Range': (1, 1),\n",
       " 'Stopword List': 'Stop Words List with English Words'}"
      ]
     },
     "metadata": {},
     "output_type": "display_data"
    },
    {
     "name": "stdout",
     "output_type": "stream",
     "text": [
      "--- METRICS for rf,cvec ---\n"
     ]
    },
    {
     "data": {
      "text/plain": [
       "{'Model': 'rf',\n",
       " 'Vectorizer': 'cvec',\n",
       " 'Train Score': 0.9885442803669121,\n",
       " 'Test Score': 0.7226883843369529,\n",
       " 'Accuracy': 0.7226883843369529,\n",
       " 'Specificity': 0.4518995778715841,\n",
       " 'f_score': 0.800213358620281,\n",
       " 'ROC_AUC': 0.6669034140174379,\n",
       " 'Ngram Range': (1, 2),\n",
       " 'Stopword List': 'Stop Words List with Common Words'}"
      ]
     },
     "metadata": {},
     "output_type": "display_data"
    },
    {
     "name": "stdout",
     "output_type": "stream",
     "text": [
      "--- METRICS for rf,cvec ---\n"
     ]
    },
    {
     "data": {
      "text/plain": [
       "{'Model': 'rf',\n",
       " 'Vectorizer': 'cvec',\n",
       " 'Train Score': 0.990333593846407,\n",
       " 'Test Score': 0.7330536360644949,\n",
       " 'Accuracy': 0.7330536360644949,\n",
       " 'Specificity': 0.44123528104865584,\n",
       " 'f_score': 0.8101784147411524,\n",
       " 'ROC_AUC': 0.6729363864420288,\n",
       " 'Ngram Range': (1, 2),\n",
       " 'Stopword List': 'Stop Words List with English Words'}"
      ]
     },
     "metadata": {},
     "output_type": "display_data"
    }
   ],
   "source": [
    "# Random Forest Model\n",
    "clf_model('cvec', 'rf', stopwords_list_with_common, (1,1), 3,\"Stop Words List with Common Words\")\n",
    "clf_model('cvec', 'rf', stopwords_list, (1,1), 3 ,\"Stop Words List with English Words\")\n",
    "clf_model('cvec', 'rf', stopwords_list_with_common, (1,2), 3,\"Stop Words List with Common Words\")\n",
    "clf_model('cvec', 'rf', stopwords_list, (1,2), 3 ,\"Stop Words List with English Words\")\n"
   ]
  },
  {
   "cell_type": "code",
   "execution_count": 24,
   "metadata": {},
   "outputs": [
    {
     "name": "stdout",
     "output_type": "stream",
     "text": [
      "--- METRICS for knn,cvec ---\n"
     ]
    },
    {
     "data": {
      "text/plain": [
       "{'Model': 'knn',\n",
       " 'Vectorizer': 'cvec',\n",
       " 'Train Score': 0.7607872979309778,\n",
       " 'Test Score': 0.6307996051332675,\n",
       " 'Accuracy': 0.6307996051332675,\n",
       " 'Specificity': 0.4694512330593201,\n",
       " 'f_score': 0.7122708039492242,\n",
       " 'ROC_AUC': 0.5975603650600323,\n",
       " 'Ngram Range': (1, 1),\n",
       " 'Stopword List': 'Stop Words List with Common Words'}"
      ]
     },
     "metadata": {},
     "output_type": "display_data"
    },
    {
     "name": "stdout",
     "output_type": "stream",
     "text": [
      "--- METRICS for knn,cvec ---\n"
     ]
    },
    {
     "data": {
      "text/plain": [
       "{'Model': 'knn',\n",
       " 'Vectorizer': 'cvec',\n",
       " 'Train Score': 0.7710707087326725,\n",
       " 'Test Score': 0.6436327739387957,\n",
       " 'Accuracy': 0.6436327739387957,\n",
       " 'Specificity': 0.48878027105087757,\n",
       " 'f_score': 0.721951219512195,\n",
       " 'ROC_AUC': 0.6117317423183846,\n",
       " 'Ngram Range': (1, 1),\n",
       " 'Stopword List': 'Stop Words List with English Words'}"
      ]
     },
     "metadata": {},
     "output_type": "display_data"
    },
    {
     "name": "stdout",
     "output_type": "stream",
     "text": [
      "--- METRICS for knn,cvec ---\n"
     ]
    },
    {
     "data": {
      "text/plain": [
       "{'Model': 'knn',\n",
       " 'Vectorizer': 'cvec',\n",
       " 'Train Score': 0.7571264036855744,\n",
       " 'Test Score': 0.6179664363277394,\n",
       " 'Accuracy': 0.6179664363277394,\n",
       " 'Specificity': 0.4550099977782715,\n",
       " 'f_score': 0.7017724120215771,\n",
       " 'ROC_AUC': 0.5843959198558242,\n",
       " 'Ngram Range': (1, 2),\n",
       " 'Stopword List': 'Stop Words List with Common Words'}"
      ]
     },
     "metadata": {},
     "output_type": "display_data"
    },
    {
     "name": "stdout",
     "output_type": "stream",
     "text": [
      "--- METRICS for knn,cvec ---\n"
     ]
    },
    {
     "data": {
      "text/plain": [
       "{'Model': 'knn',\n",
       " 'Vectorizer': 'cvec',\n",
       " 'Train Score': 0.7611369338982353,\n",
       " 'Test Score': 0.6309641329384666,\n",
       " 'Accuracy': 0.6309641329384666,\n",
       " 'Specificity': 0.44256831815152187,\n",
       " 'f_score': 0.7168286832470647,\n",
       " 'ROC_AUC': 0.5921528723350686,\n",
       " 'Ngram Range': (1, 2),\n",
       " 'Stopword List': 'Stop Words List with English Words'}"
      ]
     },
     "metadata": {},
     "output_type": "display_data"
    },
    {
     "name": "stdout",
     "output_type": "stream",
     "text": [
      "--- METRICS for knn,cvec ---\n"
     ]
    },
    {
     "data": {
      "text/plain": [
       "{'Model': 'knn',\n",
       " 'Vectorizer': 'cvec',\n",
       " 'Train Score': 0.7519024309983136,\n",
       " 'Test Score': 0.6100691016781836,\n",
       " 'Accuracy': 0.6100691016781836,\n",
       " 'Specificity': 0.4527882692734948,\n",
       " 'f_score': 0.6941146102219928,\n",
       " 'ROC_AUC': 0.5776678119718225,\n",
       " 'Ngram Range': (1, 3),\n",
       " 'Stopword List': 'Stop Words List with Common Words'}"
      ]
     },
     "metadata": {},
     "output_type": "display_data"
    },
    {
     "name": "stdout",
     "output_type": "stream",
     "text": [
      "--- METRICS for knn,cvec ---\n"
     ]
    },
    {
     "data": {
      "text/plain": [
       "{'Model': 'knn',\n",
       " 'Vectorizer': 'cvec',\n",
       " 'Train Score': 0.7549668874172185,\n",
       " 'Test Score': 0.6236426456071076,\n",
       " 'Accuracy': 0.6236426456071076,\n",
       " 'Specificity': 0.4307931570762053,\n",
       " 'f_score': 0.7115202724005297,\n",
       " 'ROC_AUC': 0.5839138874865024,\n",
       " 'Ngram Range': (1, 3),\n",
       " 'Stopword List': 'Stop Words List with English Words'}"
      ]
     },
     "metadata": {},
     "output_type": "display_data"
    },
    {
     "name": "stdout",
     "output_type": "stream",
     "text": [
      "--- METRICS for knn,tvec ---\n"
     ]
    },
    {
     "data": {
      "text/plain": [
       "{'Model': 'knn',\n",
       " 'Vectorizer': 'tvec',\n",
       " 'Train Score': 0.6864793714779318,\n",
       " 'Test Score': 0.6480750246791708,\n",
       " 'Accuracy': 0.6480750246791708,\n",
       " 'Specificity': 0.119084647856032,\n",
       " 'f_score': 0.7743908870372322,\n",
       " 'ROC_AUC': 0.5390981697804001,\n",
       " 'Ngram Range': (1, 1),\n",
       " 'Stopword List': 'Stop Words List with Common Words'}"
      ]
     },
     "metadata": {},
     "output_type": "display_data"
    },
    {
     "name": "stdout",
     "output_type": "stream",
     "text": [
      "--- METRICS for knn,tvec ---\n"
     ]
    },
    {
     "data": {
      "text/plain": [
       "{'Model': 'knn',\n",
       " 'Vectorizer': 'tvec',\n",
       " 'Train Score': 0.6853687631113488,\n",
       " 'Test Score': 0.648404080289569,\n",
       " 'Accuracy': 0.648404080289569,\n",
       " 'Specificity': 0.12175072206176406,\n",
       " 'f_score': 0.7743638475345792,\n",
       " 'ROC_AUC': 0.5399086725919533,\n",
       " 'Ngram Range': (1, 1),\n",
       " 'Stopword List': 'Stop Words List with English Words'}"
      ]
     },
     "metadata": {},
     "output_type": "display_data"
    },
    {
     "name": "stdout",
     "output_type": "stream",
     "text": [
      "--- METRICS for knn,tvec ---\n"
     ]
    },
    {
     "data": {
      "text/plain": [
       "{'Model': 'knn',\n",
       " 'Vectorizer': 'tvec',\n",
       " 'Train Score': 0.64302167742997,\n",
       " 'Test Score': 0.6331029944060547,\n",
       " 'Accuracy': 0.6331029944060547,\n",
       " 'Specificity': 0.026438569206842923,\n",
       " 'f_score': 0.7726114000203935,\n",
       " 'ROC_AUC': 0.508124575263121,\n",
       " 'Ngram Range': (1, 2),\n",
       " 'Stopword List': 'Stop Words List with Common Words'}"
      ]
     },
     "metadata": {},
     "output_type": "display_data"
    },
    {
     "name": "stdout",
     "output_type": "stream",
     "text": [
      "--- METRICS for knn,tvec ---\n"
     ]
    },
    {
     "data": {
      "text/plain": [
       "{'Model': 'knn',\n",
       " 'Vectorizer': 'tvec',\n",
       " 'Train Score': 0.6427954423923327,\n",
       " 'Test Score': 0.635899967094439,\n",
       " 'Accuracy': 0.635899967094439,\n",
       " 'Specificity': 0.03354810042212841,\n",
       " 'f_score': 0.7739991830065359,\n",
       " 'ROC_AUC': 0.511809974443592,\n",
       " 'Ngram Range': (1, 2),\n",
       " 'Stopword List': 'Stop Words List with English Words'}"
      ]
     },
     "metadata": {},
     "output_type": "display_data"
    },
    {
     "name": "stdout",
     "output_type": "stream",
     "text": [
      "--- METRICS for knn,tvec ---\n"
     ]
    },
    {
     "data": {
      "text/plain": [
       "{'Model': 'knn',\n",
       " 'Vectorizer': 'tvec',\n",
       " 'Train Score': 0.6384558430340175,\n",
       " 'Test Score': 0.6322803553800592,\n",
       " 'Accuracy': 0.6322803553800592,\n",
       " 'Specificity': 0.025327704954454567,\n",
       " 'f_score': 0.7721015601101255,\n",
       " 'ROC_AUC': 0.5072425592048563,\n",
       " 'Ngram Range': (1, 3),\n",
       " 'Stopword List': 'Stop Words List with Common Words'}"
      ]
     },
     "metadata": {},
     "output_type": "display_data"
    },
    {
     "name": "stdout",
     "output_type": "stream",
     "text": [
      "--- METRICS for knn,tvec ---\n"
     ]
    },
    {
     "data": {
      "text/plain": [
       "{'Model': 'knn',\n",
       " 'Vectorizer': 'tvec',\n",
       " 'Train Score': 0.6384558430340175,\n",
       " 'Test Score': 0.6342546890424482,\n",
       " 'Accuracy': 0.6342546890424482,\n",
       " 'Specificity': 0.02710508775827594,\n",
       " 'f_score': 0.7734175924982163,\n",
       " 'ROC_AUC': 0.5091763191893928,\n",
       " 'Ngram Range': (1, 3),\n",
       " 'Stopword List': 'Stop Words List with English Words'}"
      ]
     },
     "metadata": {},
     "output_type": "display_data"
    }
   ],
   "source": [
    "# KNN\n",
    "clf_model('cvec', 'knn', stopwords_list_with_common, (1,1), 3,\"Stop Words List with Common Words\")\n",
    "clf_model('cvec', 'knn', stopwords_list, (1,1), 3 ,\"Stop Words List with English Words\")\n",
    "clf_model('cvec', 'knn', stopwords_list_with_common, (1,2), 3,\"Stop Words List with Common Words\")\n",
    "clf_model('cvec', 'knn', stopwords_list, (1,2), 3 ,\"Stop Words List with English Words\")\n",
    "clf_model('cvec', 'knn', stopwords_list_with_common, (1,3), 3,\"Stop Words List with Common Words\")\n",
    "clf_model('cvec', 'knn', stopwords_list, (1,3), 3 ,\"Stop Words List with English Words\")\n",
    "clf_model('tvec', 'knn', stopwords_list_with_common, (1,1), 3,\"Stop Words List with Common Words\")\n",
    "clf_model('tvec', 'knn', stopwords_list, (1,1), 3 ,\"Stop Words List with English Words\")\n",
    "clf_model('tvec', 'knn', stopwords_list_with_common, (1,2), 3,\"Stop Words List with Common Words\")\n",
    "clf_model('tvec', 'knn', stopwords_list, (1,2), 3 ,\"Stop Words List with English Words\")\n",
    "clf_model('tvec', 'knn', stopwords_list_with_common, (1,3), 3,\"Stop Words List with Common Words\")\n",
    "clf_model('tvec', 'knn', stopwords_list, (1,3), 3 ,\"Stop Words List with English Words\")\n"
   ]
  },
  {
   "cell_type": "code",
   "execution_count": 65,
   "metadata": {},
   "outputs": [
    {
     "data": {
      "text/html": [
       "<div>\n",
       "<style scoped>\n",
       "    .dataframe tbody tr th:only-of-type {\n",
       "        vertical-align: middle;\n",
       "    }\n",
       "\n",
       "    .dataframe tbody tr th {\n",
       "        vertical-align: top;\n",
       "    }\n",
       "\n",
       "    .dataframe thead th {\n",
       "        text-align: right;\n",
       "    }\n",
       "</style>\n",
       "<table border=\"1\" class=\"dataframe\">\n",
       "  <thead>\n",
       "    <tr style=\"text-align: right;\">\n",
       "      <th></th>\n",
       "      <th>Model</th>\n",
       "      <th>Vectorizer</th>\n",
       "      <th>Train Score</th>\n",
       "      <th>Test Score</th>\n",
       "      <th>Accuracy</th>\n",
       "      <th>Specificity</th>\n",
       "      <th>f_score</th>\n",
       "      <th>ROC_AUC</th>\n",
       "      <th>Ngram Range</th>\n",
       "      <th>Stopword List</th>\n",
       "    </tr>\n",
       "  </thead>\n",
       "  <tbody>\n",
       "    <tr>\n",
       "      <th>10</th>\n",
       "      <td>nb</td>\n",
       "      <td>cvec</td>\n",
       "      <td>0.943729</td>\n",
       "      <td>0.743172</td>\n",
       "      <td>0.743172</td>\n",
       "      <td>0.449900</td>\n",
       "      <td>0.817853</td>\n",
       "      <td>0.682755</td>\n",
       "      <td>(1, 2)</td>\n",
       "      <td>Stop Words List with English Words</td>\n",
       "    </tr>\n",
       "    <tr>\n",
       "      <th>24</th>\n",
       "      <td>log_reg</td>\n",
       "      <td>tvec</td>\n",
       "      <td>0.862243</td>\n",
       "      <td>0.749095</td>\n",
       "      <td>0.749095</td>\n",
       "      <td>0.502777</td>\n",
       "      <td>0.817758</td>\n",
       "      <td>0.698351</td>\n",
       "      <td>(1, 2)</td>\n",
       "      <td>Stop Words List with English Words</td>\n",
       "    </tr>\n",
       "    <tr>\n",
       "      <th>32</th>\n",
       "      <td>nb</td>\n",
       "      <td>cvec</td>\n",
       "      <td>0.969211</td>\n",
       "      <td>0.730503</td>\n",
       "      <td>0.730503</td>\n",
       "      <td>0.359920</td>\n",
       "      <td>0.815914</td>\n",
       "      <td>0.654160</td>\n",
       "      <td>(1, 3)</td>\n",
       "      <td>Stop Words List with English Words</td>\n",
       "    </tr>\n",
       "    <tr>\n",
       "      <th>26</th>\n",
       "      <td>log_reg</td>\n",
       "      <td>tvec</td>\n",
       "      <td>0.872074</td>\n",
       "      <td>0.746956</td>\n",
       "      <td>0.746956</td>\n",
       "      <td>0.503666</td>\n",
       "      <td>0.815830</td>\n",
       "      <td>0.696836</td>\n",
       "      <td>(1, 3)</td>\n",
       "      <td>Stop Words List with English Words</td>\n",
       "    </tr>\n",
       "    <tr>\n",
       "      <th>20</th>\n",
       "      <td>log_reg</td>\n",
       "      <td>cvec</td>\n",
       "      <td>0.982457</td>\n",
       "      <td>0.750823</td>\n",
       "      <td>0.750823</td>\n",
       "      <td>0.550989</td>\n",
       "      <td>0.814434</td>\n",
       "      <td>0.709655</td>\n",
       "      <td>(1, 3)</td>\n",
       "      <td>Stop Words List with English Words</td>\n",
       "    </tr>\n",
       "    <tr>\n",
       "      <th>31</th>\n",
       "      <td>nb</td>\n",
       "      <td>cvec</td>\n",
       "      <td>0.966270</td>\n",
       "      <td>0.727295</td>\n",
       "      <td>0.727295</td>\n",
       "      <td>0.352810</td>\n",
       "      <td>0.813984</td>\n",
       "      <td>0.650148</td>\n",
       "      <td>(1, 3)</td>\n",
       "      <td>Stop Words List with Common Words</td>\n",
       "    </tr>\n",
       "    <tr>\n",
       "      <th>29</th>\n",
       "      <td>nb</td>\n",
       "      <td>cvec</td>\n",
       "      <td>0.946197</td>\n",
       "      <td>0.735768</td>\n",
       "      <td>0.735768</td>\n",
       "      <td>0.427016</td>\n",
       "      <td>0.813862</td>\n",
       "      <td>0.672163</td>\n",
       "      <td>(1, 2)</td>\n",
       "      <td>Stop Words List with Common Words</td>\n",
       "    </tr>\n",
       "    <tr>\n",
       "      <th>22</th>\n",
       "      <td>log_reg</td>\n",
       "      <td>tvec</td>\n",
       "      <td>0.797026</td>\n",
       "      <td>0.747532</td>\n",
       "      <td>0.747532</td>\n",
       "      <td>0.528994</td>\n",
       "      <td>0.813786</td>\n",
       "      <td>0.702511</td>\n",
       "      <td>(1, 1)</td>\n",
       "      <td>Stop Words List with English Words</td>\n",
       "    </tr>\n",
       "    <tr>\n",
       "      <th>3</th>\n",
       "      <td>log_reg</td>\n",
       "      <td>cvec</td>\n",
       "      <td>0.978364</td>\n",
       "      <td>0.750329</td>\n",
       "      <td>0.750329</td>\n",
       "      <td>0.560320</td>\n",
       "      <td>0.813035</td>\n",
       "      <td>0.711185</td>\n",
       "      <td>(1, 2)</td>\n",
       "      <td>Stop Words List with English Words</td>\n",
       "    </tr>\n",
       "    <tr>\n",
       "      <th>17</th>\n",
       "      <td>log_reg</td>\n",
       "      <td>cvec</td>\n",
       "      <td>0.974168</td>\n",
       "      <td>0.745146</td>\n",
       "      <td>0.745146</td>\n",
       "      <td>0.537880</td>\n",
       "      <td>0.810774</td>\n",
       "      <td>0.702448</td>\n",
       "      <td>(1, 2)</td>\n",
       "      <td>Stop Words List with Common Words</td>\n",
       "    </tr>\n",
       "    <tr>\n",
       "      <th>42</th>\n",
       "      <td>rf</td>\n",
       "      <td>cvec</td>\n",
       "      <td>0.990334</td>\n",
       "      <td>0.733054</td>\n",
       "      <td>0.733054</td>\n",
       "      <td>0.441235</td>\n",
       "      <td>0.810178</td>\n",
       "      <td>0.672936</td>\n",
       "      <td>(1, 2)</td>\n",
       "      <td>Stop Words List with English Words</td>\n",
       "    </tr>\n",
       "    <tr>\n",
       "      <th>19</th>\n",
       "      <td>log_reg</td>\n",
       "      <td>cvec</td>\n",
       "      <td>0.978446</td>\n",
       "      <td>0.742103</td>\n",
       "      <td>0.742103</td>\n",
       "      <td>0.521440</td>\n",
       "      <td>0.809804</td>\n",
       "      <td>0.696644</td>\n",
       "      <td>(1, 3)</td>\n",
       "      <td>Stop Words List with Common Words</td>\n",
       "    </tr>\n",
       "    <tr>\n",
       "      <th>23</th>\n",
       "      <td>log_reg</td>\n",
       "      <td>tvec</td>\n",
       "      <td>0.847189</td>\n",
       "      <td>0.736262</td>\n",
       "      <td>0.736262</td>\n",
       "      <td>0.473673</td>\n",
       "      <td>0.809643</td>\n",
       "      <td>0.682166</td>\n",
       "      <td>(1, 2)</td>\n",
       "      <td>Stop Words List with Common Words</td>\n",
       "    </tr>\n",
       "    <tr>\n",
       "      <th>25</th>\n",
       "      <td>log_reg</td>\n",
       "      <td>tvec</td>\n",
       "      <td>0.853832</td>\n",
       "      <td>0.736180</td>\n",
       "      <td>0.736180</td>\n",
       "      <td>0.482337</td>\n",
       "      <td>0.808686</td>\n",
       "      <td>0.683886</td>\n",
       "      <td>(1, 3)</td>\n",
       "      <td>Stop Words List with Common Words</td>\n",
       "    </tr>\n",
       "    <tr>\n",
       "      <th>21</th>\n",
       "      <td>log_reg</td>\n",
       "      <td>tvec</td>\n",
       "      <td>0.787133</td>\n",
       "      <td>0.737578</td>\n",
       "      <td>0.737578</td>\n",
       "      <td>0.498112</td>\n",
       "      <td>0.808270</td>\n",
       "      <td>0.688246</td>\n",
       "      <td>(1, 1)</td>\n",
       "      <td>Stop Words List with Common Words</td>\n",
       "    </tr>\n",
       "    <tr>\n",
       "      <th>6</th>\n",
       "      <td>log_reg</td>\n",
       "      <td>cvec</td>\n",
       "      <td>0.842129</td>\n",
       "      <td>0.739882</td>\n",
       "      <td>0.739882</td>\n",
       "      <td>0.547878</td>\n",
       "      <td>0.805031</td>\n",
       "      <td>0.700327</td>\n",
       "      <td>(1, 1)</td>\n",
       "      <td>Stop Words List with English Words</td>\n",
       "    </tr>\n",
       "    <tr>\n",
       "      <th>14</th>\n",
       "      <td>nb</td>\n",
       "      <td>tvec</td>\n",
       "      <td>0.749476</td>\n",
       "      <td>0.704014</td>\n",
       "      <td>0.704014</td>\n",
       "      <td>0.261275</td>\n",
       "      <td>0.804052</td>\n",
       "      <td>0.612806</td>\n",
       "      <td>(1, 1)</td>\n",
       "      <td>Stop Words List with English Words</td>\n",
       "    </tr>\n",
       "    <tr>\n",
       "      <th>40</th>\n",
       "      <td>rf</td>\n",
       "      <td>cvec</td>\n",
       "      <td>0.990251</td>\n",
       "      <td>0.736180</td>\n",
       "      <td>0.736180</td>\n",
       "      <td>0.531437</td>\n",
       "      <td>0.803505</td>\n",
       "      <td>0.694001</td>\n",
       "      <td>(1, 1)</td>\n",
       "      <td>Stop Words List with English Words</td>\n",
       "    </tr>\n",
       "    <tr>\n",
       "      <th>33</th>\n",
       "      <td>nb</td>\n",
       "      <td>tvec</td>\n",
       "      <td>0.747995</td>\n",
       "      <td>0.702534</td>\n",
       "      <td>0.702534</td>\n",
       "      <td>0.259498</td>\n",
       "      <td>0.803050</td>\n",
       "      <td>0.611264</td>\n",
       "      <td>(1, 1)</td>\n",
       "      <td>Stop Words List with Common Words</td>\n",
       "    </tr>\n",
       "    <tr>\n",
       "      <th>0</th>\n",
       "      <td>log_reg</td>\n",
       "      <td>cvec</td>\n",
       "      <td>0.834005</td>\n",
       "      <td>0.731491</td>\n",
       "      <td>0.731491</td>\n",
       "      <td>0.518996</td>\n",
       "      <td>0.800684</td>\n",
       "      <td>0.687715</td>\n",
       "      <td>(1, 1)</td>\n",
       "      <td>Stop Words List with Common Words</td>\n",
       "    </tr>\n",
       "    <tr>\n",
       "      <th>41</th>\n",
       "      <td>rf</td>\n",
       "      <td>cvec</td>\n",
       "      <td>0.988544</td>\n",
       "      <td>0.722688</td>\n",
       "      <td>0.722688</td>\n",
       "      <td>0.451900</td>\n",
       "      <td>0.800213</td>\n",
       "      <td>0.666903</td>\n",
       "      <td>(1, 2)</td>\n",
       "      <td>Stop Words List with Common Words</td>\n",
       "    </tr>\n",
       "    <tr>\n",
       "      <th>28</th>\n",
       "      <td>nb</td>\n",
       "      <td>cvec</td>\n",
       "      <td>0.785694</td>\n",
       "      <td>0.737002</td>\n",
       "      <td>0.737002</td>\n",
       "      <td>0.600311</td>\n",
       "      <td>0.796512</td>\n",
       "      <td>0.708843</td>\n",
       "      <td>(1, 1)</td>\n",
       "      <td>Stop Words List with English Words</td>\n",
       "    </tr>\n",
       "    <tr>\n",
       "      <th>27</th>\n",
       "      <td>nb</td>\n",
       "      <td>cvec</td>\n",
       "      <td>0.783822</td>\n",
       "      <td>0.731408</td>\n",
       "      <td>0.731408</td>\n",
       "      <td>0.574317</td>\n",
       "      <td>0.794357</td>\n",
       "      <td>0.699046</td>\n",
       "      <td>(1, 1)</td>\n",
       "      <td>Stop Words List with Common Words</td>\n",
       "    </tr>\n",
       "    <tr>\n",
       "      <th>39</th>\n",
       "      <td>rf</td>\n",
       "      <td>cvec</td>\n",
       "      <td>0.988441</td>\n",
       "      <td>0.720796</td>\n",
       "      <td>0.720796</td>\n",
       "      <td>0.518107</td>\n",
       "      <td>0.791190</td>\n",
       "      <td>0.679040</td>\n",
       "      <td>(1, 1)</td>\n",
       "      <td>Stop Words List with Common Words</td>\n",
       "    </tr>\n",
       "    <tr>\n",
       "      <th>35</th>\n",
       "      <td>nb</td>\n",
       "      <td>tvec</td>\n",
       "      <td>0.771503</td>\n",
       "      <td>0.666749</td>\n",
       "      <td>0.666749</td>\n",
       "      <td>0.113975</td>\n",
       "      <td>0.789394</td>\n",
       "      <td>0.552872</td>\n",
       "      <td>(1, 2)</td>\n",
       "      <td>Stop Words List with Common Words</td>\n",
       "    </tr>\n",
       "    <tr>\n",
       "      <th>36</th>\n",
       "      <td>nb</td>\n",
       "      <td>tvec</td>\n",
       "      <td>0.763626</td>\n",
       "      <td>0.665679</td>\n",
       "      <td>0.665679</td>\n",
       "      <td>0.110864</td>\n",
       "      <td>0.788883</td>\n",
       "      <td>0.551382</td>\n",
       "      <td>(1, 2)</td>\n",
       "      <td>Stop Words List with English Words</td>\n",
       "    </tr>\n",
       "    <tr>\n",
       "      <th>37</th>\n",
       "      <td>nb</td>\n",
       "      <td>tvec</td>\n",
       "      <td>0.816585</td>\n",
       "      <td>0.660744</td>\n",
       "      <td>0.660744</td>\n",
       "      <td>0.093757</td>\n",
       "      <td>0.786807</td>\n",
       "      <td>0.543939</td>\n",
       "      <td>(1, 3)</td>\n",
       "      <td>Stop Words List with Common Words</td>\n",
       "    </tr>\n",
       "    <tr>\n",
       "      <th>38</th>\n",
       "      <td>nb</td>\n",
       "      <td>tvec</td>\n",
       "      <td>0.805129</td>\n",
       "      <td>0.658523</td>\n",
       "      <td>0.658523</td>\n",
       "      <td>0.086425</td>\n",
       "      <td>0.785843</td>\n",
       "      <td>0.540665</td>\n",
       "      <td>(1, 3)</td>\n",
       "      <td>Stop Words List with English Words</td>\n",
       "    </tr>\n",
       "    <tr>\n",
       "      <th>49</th>\n",
       "      <td>knn</td>\n",
       "      <td>tvec</td>\n",
       "      <td>0.686479</td>\n",
       "      <td>0.648075</td>\n",
       "      <td>0.648075</td>\n",
       "      <td>0.119085</td>\n",
       "      <td>0.774391</td>\n",
       "      <td>0.539098</td>\n",
       "      <td>(1, 1)</td>\n",
       "      <td>Stop Words List with Common Words</td>\n",
       "    </tr>\n",
       "    <tr>\n",
       "      <th>50</th>\n",
       "      <td>knn</td>\n",
       "      <td>tvec</td>\n",
       "      <td>0.685369</td>\n",
       "      <td>0.648404</td>\n",
       "      <td>0.648404</td>\n",
       "      <td>0.121751</td>\n",
       "      <td>0.774364</td>\n",
       "      <td>0.539909</td>\n",
       "      <td>(1, 1)</td>\n",
       "      <td>Stop Words List with English Words</td>\n",
       "    </tr>\n",
       "    <tr>\n",
       "      <th>52</th>\n",
       "      <td>knn</td>\n",
       "      <td>tvec</td>\n",
       "      <td>0.642795</td>\n",
       "      <td>0.635900</td>\n",
       "      <td>0.635900</td>\n",
       "      <td>0.033548</td>\n",
       "      <td>0.773999</td>\n",
       "      <td>0.511810</td>\n",
       "      <td>(1, 2)</td>\n",
       "      <td>Stop Words List with English Words</td>\n",
       "    </tr>\n",
       "    <tr>\n",
       "      <th>54</th>\n",
       "      <td>knn</td>\n",
       "      <td>tvec</td>\n",
       "      <td>0.638456</td>\n",
       "      <td>0.634255</td>\n",
       "      <td>0.634255</td>\n",
       "      <td>0.027105</td>\n",
       "      <td>0.773418</td>\n",
       "      <td>0.509176</td>\n",
       "      <td>(1, 3)</td>\n",
       "      <td>Stop Words List with English Words</td>\n",
       "    </tr>\n",
       "    <tr>\n",
       "      <th>51</th>\n",
       "      <td>knn</td>\n",
       "      <td>tvec</td>\n",
       "      <td>0.643022</td>\n",
       "      <td>0.633103</td>\n",
       "      <td>0.633103</td>\n",
       "      <td>0.026439</td>\n",
       "      <td>0.772611</td>\n",
       "      <td>0.508125</td>\n",
       "      <td>(1, 2)</td>\n",
       "      <td>Stop Words List with Common Words</td>\n",
       "    </tr>\n",
       "    <tr>\n",
       "      <th>53</th>\n",
       "      <td>knn</td>\n",
       "      <td>tvec</td>\n",
       "      <td>0.638456</td>\n",
       "      <td>0.632280</td>\n",
       "      <td>0.632280</td>\n",
       "      <td>0.025328</td>\n",
       "      <td>0.772102</td>\n",
       "      <td>0.507243</td>\n",
       "      <td>(1, 3)</td>\n",
       "      <td>Stop Words List with Common Words</td>\n",
       "    </tr>\n",
       "    <tr>\n",
       "      <th>44</th>\n",
       "      <td>knn</td>\n",
       "      <td>cvec</td>\n",
       "      <td>0.771071</td>\n",
       "      <td>0.643633</td>\n",
       "      <td>0.643633</td>\n",
       "      <td>0.488780</td>\n",
       "      <td>0.721951</td>\n",
       "      <td>0.611732</td>\n",
       "      <td>(1, 1)</td>\n",
       "      <td>Stop Words List with English Words</td>\n",
       "    </tr>\n",
       "    <tr>\n",
       "      <th>46</th>\n",
       "      <td>knn</td>\n",
       "      <td>cvec</td>\n",
       "      <td>0.761137</td>\n",
       "      <td>0.630964</td>\n",
       "      <td>0.630964</td>\n",
       "      <td>0.442568</td>\n",
       "      <td>0.716829</td>\n",
       "      <td>0.592153</td>\n",
       "      <td>(1, 2)</td>\n",
       "      <td>Stop Words List with English Words</td>\n",
       "    </tr>\n",
       "    <tr>\n",
       "      <th>43</th>\n",
       "      <td>knn</td>\n",
       "      <td>cvec</td>\n",
       "      <td>0.760787</td>\n",
       "      <td>0.630800</td>\n",
       "      <td>0.630800</td>\n",
       "      <td>0.469451</td>\n",
       "      <td>0.712271</td>\n",
       "      <td>0.597560</td>\n",
       "      <td>(1, 1)</td>\n",
       "      <td>Stop Words List with Common Words</td>\n",
       "    </tr>\n",
       "    <tr>\n",
       "      <th>48</th>\n",
       "      <td>knn</td>\n",
       "      <td>cvec</td>\n",
       "      <td>0.754967</td>\n",
       "      <td>0.623643</td>\n",
       "      <td>0.623643</td>\n",
       "      <td>0.430793</td>\n",
       "      <td>0.711520</td>\n",
       "      <td>0.583914</td>\n",
       "      <td>(1, 3)</td>\n",
       "      <td>Stop Words List with English Words</td>\n",
       "    </tr>\n",
       "    <tr>\n",
       "      <th>45</th>\n",
       "      <td>knn</td>\n",
       "      <td>cvec</td>\n",
       "      <td>0.757126</td>\n",
       "      <td>0.617966</td>\n",
       "      <td>0.617966</td>\n",
       "      <td>0.455010</td>\n",
       "      <td>0.701772</td>\n",
       "      <td>0.584396</td>\n",
       "      <td>(1, 2)</td>\n",
       "      <td>Stop Words List with Common Words</td>\n",
       "    </tr>\n",
       "    <tr>\n",
       "      <th>47</th>\n",
       "      <td>knn</td>\n",
       "      <td>cvec</td>\n",
       "      <td>0.751902</td>\n",
       "      <td>0.610069</td>\n",
       "      <td>0.610069</td>\n",
       "      <td>0.452788</td>\n",
       "      <td>0.694115</td>\n",
       "      <td>0.577668</td>\n",
       "      <td>(1, 3)</td>\n",
       "      <td>Stop Words List with Common Words</td>\n",
       "    </tr>\n",
       "  </tbody>\n",
       "</table>\n",
       "</div>"
      ],
      "text/plain": [
       "      Model Vectorizer  Train Score  Test Score  Accuracy  Specificity  \\\n",
       "10       nb       cvec     0.943729    0.743172  0.743172     0.449900   \n",
       "24  log_reg       tvec     0.862243    0.749095  0.749095     0.502777   \n",
       "32       nb       cvec     0.969211    0.730503  0.730503     0.359920   \n",
       "26  log_reg       tvec     0.872074    0.746956  0.746956     0.503666   \n",
       "20  log_reg       cvec     0.982457    0.750823  0.750823     0.550989   \n",
       "31       nb       cvec     0.966270    0.727295  0.727295     0.352810   \n",
       "29       nb       cvec     0.946197    0.735768  0.735768     0.427016   \n",
       "22  log_reg       tvec     0.797026    0.747532  0.747532     0.528994   \n",
       "3   log_reg       cvec     0.978364    0.750329  0.750329     0.560320   \n",
       "17  log_reg       cvec     0.974168    0.745146  0.745146     0.537880   \n",
       "42       rf       cvec     0.990334    0.733054  0.733054     0.441235   \n",
       "19  log_reg       cvec     0.978446    0.742103  0.742103     0.521440   \n",
       "23  log_reg       tvec     0.847189    0.736262  0.736262     0.473673   \n",
       "25  log_reg       tvec     0.853832    0.736180  0.736180     0.482337   \n",
       "21  log_reg       tvec     0.787133    0.737578  0.737578     0.498112   \n",
       "6   log_reg       cvec     0.842129    0.739882  0.739882     0.547878   \n",
       "14       nb       tvec     0.749476    0.704014  0.704014     0.261275   \n",
       "40       rf       cvec     0.990251    0.736180  0.736180     0.531437   \n",
       "33       nb       tvec     0.747995    0.702534  0.702534     0.259498   \n",
       "0   log_reg       cvec     0.834005    0.731491  0.731491     0.518996   \n",
       "41       rf       cvec     0.988544    0.722688  0.722688     0.451900   \n",
       "28       nb       cvec     0.785694    0.737002  0.737002     0.600311   \n",
       "27       nb       cvec     0.783822    0.731408  0.731408     0.574317   \n",
       "39       rf       cvec     0.988441    0.720796  0.720796     0.518107   \n",
       "35       nb       tvec     0.771503    0.666749  0.666749     0.113975   \n",
       "36       nb       tvec     0.763626    0.665679  0.665679     0.110864   \n",
       "37       nb       tvec     0.816585    0.660744  0.660744     0.093757   \n",
       "38       nb       tvec     0.805129    0.658523  0.658523     0.086425   \n",
       "49      knn       tvec     0.686479    0.648075  0.648075     0.119085   \n",
       "50      knn       tvec     0.685369    0.648404  0.648404     0.121751   \n",
       "52      knn       tvec     0.642795    0.635900  0.635900     0.033548   \n",
       "54      knn       tvec     0.638456    0.634255  0.634255     0.027105   \n",
       "51      knn       tvec     0.643022    0.633103  0.633103     0.026439   \n",
       "53      knn       tvec     0.638456    0.632280  0.632280     0.025328   \n",
       "44      knn       cvec     0.771071    0.643633  0.643633     0.488780   \n",
       "46      knn       cvec     0.761137    0.630964  0.630964     0.442568   \n",
       "43      knn       cvec     0.760787    0.630800  0.630800     0.469451   \n",
       "48      knn       cvec     0.754967    0.623643  0.623643     0.430793   \n",
       "45      knn       cvec     0.757126    0.617966  0.617966     0.455010   \n",
       "47      knn       cvec     0.751902    0.610069  0.610069     0.452788   \n",
       "\n",
       "     f_score   ROC_AUC Ngram Range                       Stopword List  \n",
       "10  0.817853  0.682755      (1, 2)  Stop Words List with English Words  \n",
       "24  0.817758  0.698351      (1, 2)  Stop Words List with English Words  \n",
       "32  0.815914  0.654160      (1, 3)  Stop Words List with English Words  \n",
       "26  0.815830  0.696836      (1, 3)  Stop Words List with English Words  \n",
       "20  0.814434  0.709655      (1, 3)  Stop Words List with English Words  \n",
       "31  0.813984  0.650148      (1, 3)   Stop Words List with Common Words  \n",
       "29  0.813862  0.672163      (1, 2)   Stop Words List with Common Words  \n",
       "22  0.813786  0.702511      (1, 1)  Stop Words List with English Words  \n",
       "3   0.813035  0.711185      (1, 2)  Stop Words List with English Words  \n",
       "17  0.810774  0.702448      (1, 2)   Stop Words List with Common Words  \n",
       "42  0.810178  0.672936      (1, 2)  Stop Words List with English Words  \n",
       "19  0.809804  0.696644      (1, 3)   Stop Words List with Common Words  \n",
       "23  0.809643  0.682166      (1, 2)   Stop Words List with Common Words  \n",
       "25  0.808686  0.683886      (1, 3)   Stop Words List with Common Words  \n",
       "21  0.808270  0.688246      (1, 1)   Stop Words List with Common Words  \n",
       "6   0.805031  0.700327      (1, 1)  Stop Words List with English Words  \n",
       "14  0.804052  0.612806      (1, 1)  Stop Words List with English Words  \n",
       "40  0.803505  0.694001      (1, 1)  Stop Words List with English Words  \n",
       "33  0.803050  0.611264      (1, 1)   Stop Words List with Common Words  \n",
       "0   0.800684  0.687715      (1, 1)   Stop Words List with Common Words  \n",
       "41  0.800213  0.666903      (1, 2)   Stop Words List with Common Words  \n",
       "28  0.796512  0.708843      (1, 1)  Stop Words List with English Words  \n",
       "27  0.794357  0.699046      (1, 1)   Stop Words List with Common Words  \n",
       "39  0.791190  0.679040      (1, 1)   Stop Words List with Common Words  \n",
       "35  0.789394  0.552872      (1, 2)   Stop Words List with Common Words  \n",
       "36  0.788883  0.551382      (1, 2)  Stop Words List with English Words  \n",
       "37  0.786807  0.543939      (1, 3)   Stop Words List with Common Words  \n",
       "38  0.785843  0.540665      (1, 3)  Stop Words List with English Words  \n",
       "49  0.774391  0.539098      (1, 1)   Stop Words List with Common Words  \n",
       "50  0.774364  0.539909      (1, 1)  Stop Words List with English Words  \n",
       "52  0.773999  0.511810      (1, 2)  Stop Words List with English Words  \n",
       "54  0.773418  0.509176      (1, 3)  Stop Words List with English Words  \n",
       "51  0.772611  0.508125      (1, 2)   Stop Words List with Common Words  \n",
       "53  0.772102  0.507243      (1, 3)   Stop Words List with Common Words  \n",
       "44  0.721951  0.611732      (1, 1)  Stop Words List with English Words  \n",
       "46  0.716829  0.592153      (1, 2)  Stop Words List with English Words  \n",
       "43  0.712271  0.597560      (1, 1)   Stop Words List with Common Words  \n",
       "48  0.711520  0.583914      (1, 3)  Stop Words List with English Words  \n",
       "45  0.701772  0.584396      (1, 2)   Stop Words List with Common Words  \n",
       "47  0.694115  0.577668      (1, 3)   Stop Words List with Common Words  "
      ]
     },
     "execution_count": 65,
     "metadata": {},
     "output_type": "execute_result"
    }
   ],
   "source": [
    "df_results_sorted = pd.DataFrame(df_results).sort_values(by='f_score', ascending=False)\n",
    "df_results_sorted = df_results_sorted.drop_duplicates()\n",
    "df_results_sorted"
   ]
  },
  {
   "cell_type": "markdown",
   "metadata": {},
   "source": [
    "#### 2.2 Hyperparameter Tuning of Models"
   ]
  },
  {
   "cell_type": "markdown",
   "metadata": {},
   "source": [
    "To train a robust machine learning model, we need to select the optimal combination of hyperparameters. Depending on the type of vectorizer and classification model, there will be a different set of hyperparameters. It is not practical to perform hyperparameter tuning on all combination of models and vectorizers due to the complexity and hence time taken. Hence, I will select the best models from Section 2.1 and perform HalvingGridSearchCV.\n",
    "GridsearchCV searches all combinations of parameters in for a model that will give the best performance score, while HalvingGridSearchCV will be used on the Random Forest model to reduce run time. I have opted for the latter as it is time and computationally efficient.\n",
    "\n",
    "From the above results table in 2.1, we can see that the best performing models based on F1 score* are:\n",
    "- Multinomial Naive Bayes Model (CVEC, bigram)\n",
    "- Logistic Regression (CVEC and TVEC, bigrams and trigrams) \n",
    "- Random Forest perform (CVEC and TVEC)\n",
    "\n",
    "It also seems that the best performing models are those that use the standard English common stopwords in the nltk package, instead of those with the common words in both datasets.\n",
    "\n",
    "*F1 score was selected as the evaluation metric of model performance as it helps to balance between mnimising false positives (precision) and false negatives (recall). <br>\n",
    "I will proceed to tune these models' hyperparameters to get the best combination. From there, we can determine which model performs the best at this classification task.\n",
    "\n"
   ]
  },
  {
   "cell_type": "markdown",
   "metadata": {},
   "source": [
    "First, to easily generate and compare the results, I will create a function that performs the HalvingGridSearch, with inputs being the model parameters and choice of model."
   ]
  },
  {
   "cell_type": "code",
   "execution_count": 66,
   "metadata": {},
   "outputs": [],
   "source": [
    "# Initialize Parameters \n",
    "\n",
    "tuning_results = []\n",
    "\n",
    "\n",
    "# CVEC and Logistic Regression\n",
    "cvec_logr_params = {'cvec__max_features': [5000, 6000, 7000, None],\n",
    "                    'cvec__max_df': [0.5, 0.75, 0.9, 1],\n",
    "                    'cvec__min_df': [1, 2, 3],\n",
    "                    'cvec__ngram_range': [(1,2), (1,3)],   # from earlier results table, bigrams and trigram perform better\n",
    "                    'log_reg__penalty': ['l1', 'l2', 'elasticnet'],\n",
    "                    'log_reg__C': [1, 0.5, 0.1] }\n",
    "\n",
    "# TFIFD and Logistic Regression\n",
    "\n",
    "tvec_logr_params = {'tvec__max_features': [5000, 6000, 7000, None],\n",
    "                    'tvec__max_df': [0.5, 0.75, 0.9, 1],\n",
    "                    'tvec__min_df': [1, 2, 3],\n",
    "                    'tvec__ngram_range': [(1,2), (1,3)],   # from earlier results table, bigrams and trigram perform better\n",
    "                    'log_reg__penalty': ['l1', 'l2', 'elasticnet'],\n",
    "                    'log_reg__C': [1, 0.5, 0.1] }\n",
    "\n",
    "\n",
    "\n",
    "# CVEC and Random Forest\n",
    "\n",
    "rf_cvec_params = {\n",
    "    'cvec__max_features':  [5000, 6000, 7000, None],\n",
    "    'cvec__max_df':[0.5, 0.75, 0.9, 1],\n",
    "    'cvec__min_df': [1, 2, 3],\n",
    "    'cvec__ngram_range': [(1,1), (1,2)],\n",
    "    'rf__n_estimators': [50,75,100]}\n",
    "\n",
    "# TFIFD and Random Forest\n",
    "\n",
    "rf_tvec_params = {\n",
    "    'tvec__max_features':  [5000, 6000, 7000, None],\n",
    "    'tvec__max_df': [0.5, 0.75, 0.9, 1],\n",
    "    'tvec__min_df': [1, 2, 3],\n",
    "    'tvec__ngram_range': [(1,1), (1,2)],\n",
    "    'rf__n_estimators': [50,75,100]}\n",
    "\n",
    "# TFIFD and NB\n",
    "\n",
    "nb_tvec_params = {\n",
    "    'tvec__max_features':  [5000, 6000, 7000, None],\n",
    "    'tvec__max_df': [0.5, 0.75, 0.9, 1],\n",
    "    'tvec__min_df': [1, 2, 3],\n",
    "    'tvec__ngram_range': [(1,2), (1,3)],\n",
    "    'nb__alpha': np.linspace(0, 1, 5),\n",
    "    'nb__fit_prior': [True, False]\n",
    "    }\n",
    "\n",
    "# CVEC and NB\n",
    "\n",
    "nb_cvec_params = {\n",
    "    'cvec__max_features': [5000, 6000, 7000, None],\n",
    "    'cvec__min_df':[0.5, 0.75, 0.9, 1],\n",
    "    'cvec__max_df': [0.3, 0.4, 0.5, 0.6, 0.7],\n",
    "    'cvec__ngram_range':[(1,2), (1,3)],\n",
    "    'nb__alpha': np.linspace(0, 1, 5),\n",
    "    'nb__fit_prior': [True, False]\n",
    "    }\n",
    "\n",
    "\n"
   ]
  },
  {
   "cell_type": "code",
   "execution_count": 27,
   "metadata": {},
   "outputs": [],
   "source": [
    "\n",
    "df_tuning_results = []\n",
    "\n",
    "def perform_grid_search(X_train, y_train, vec, mod, param_grid, cv=10):\n",
    " \n",
    "    if vec == 'cvec':\n",
    "        vectorizer = CountVectorizer(stop_words=stopwords_list)\n",
    "    elif vec == 'tvec':\n",
    "        vectorizer = TfidfVectorizer(stop_words=stopwords_list)\n",
    "    else:\n",
    "        raise ValueError(\"Invalid 'vec' parameter. Supported values are 'cvec' and 'tvec'.\")\n",
    "    \n",
    "    pipe = Pipeline([\n",
    "        (vec, vectorizer),\n",
    "        (mod, models[mod])\n",
    "    ])\n",
    "\n",
    "    # Perform HalvingGridSearch\n",
    "\n",
    "    gs = HalvingGridSearchCV(pipe, param_grid=param_grid, cv=cv, n_jobs=-1, verbose=1)\n",
    "    gs.fit(X_train, y_train)\n",
    "  \n",
    "    # Get the best model and best parameters\n",
    "    best_estimator = gs.best_estimator_\n",
    "    best_params = gs.best_params_\n",
    "\n",
    "    # Predict on test set\n",
    "    preds = best_estimator.predict(X_test)\n",
    "\n",
    "    # Confusion Matrix\n",
    "    tn, fp, fn, tp = confusion_matrix(y_test, preds).ravel()\n",
    "    cm = confusion_matrix(y_test, preds)\n",
    "    tn, fp, fn, tp = cm[0, 0], cm[0, 1], cm[1, 0], cm[1, 1]\n",
    "    acc = (tp + tn)/ (tp+tn+fp+fn)\n",
    "    spec = tn / (tn + fp)\n",
    "\n",
    "    # Calculate evaluation metrics\n",
    "    train_score = best_estimator.score(X_train, y_train)\n",
    "    test_score = best_estimator.score(X_test, y_test)\n",
    "    f_score = f1_score(y_test, preds)\n",
    "    roc_auc = roc_auc_score(y_test, preds)\n",
    "\n",
    "    # Append the results to df_tuning_results list\n",
    "    result_dict = {\n",
    "        'Vectorizer': vec,\n",
    "        'Model': mod,\n",
    "        'Best_Estimator': best_estimator,\n",
    "        'Best_Params': best_params,\n",
    "        'Train Score': train_score,\n",
    "        'Test Score': test_score,\n",
    "        'Accuracy': acc,\n",
    "        'Specificity': spec,\n",
    "        'f_score': f_score,\n",
    "        'ROC_AUC': roc_auc,\n",
    "        \n",
    "    }\n",
    "    \n",
    "    df_tuning_results.append(result_dict)\n"
   ]
  },
  {
   "cell_type": "code",
   "execution_count": 28,
   "metadata": {},
   "outputs": [
    {
     "name": "stdout",
     "output_type": "stream",
     "text": [
      "n_iterations: 7\n",
      "n_required_iterations: 7\n",
      "n_possible_iterations: 7\n",
      "min_resources_: 66\n",
      "max_resources_: 48622\n",
      "aggressive_elimination: False\n",
      "factor: 3\n",
      "----------\n",
      "iter: 0\n",
      "n_candidates: 864\n",
      "n_resources: 66\n",
      "Fitting 10 folds for each of 864 candidates, totalling 8640 fits\n"
     ]
    },
    {
     "name": "stdout",
     "output_type": "stream",
     "text": [
      "----------\n",
      "iter: 1\n",
      "n_candidates: 288\n",
      "n_resources: 198\n",
      "Fitting 10 folds for each of 288 candidates, totalling 2880 fits\n",
      "----------\n",
      "iter: 2\n",
      "n_candidates: 96\n",
      "n_resources: 594\n",
      "Fitting 10 folds for each of 96 candidates, totalling 960 fits\n",
      "----------\n",
      "iter: 3\n",
      "n_candidates: 32\n",
      "n_resources: 1782\n",
      "Fitting 10 folds for each of 32 candidates, totalling 320 fits\n",
      "----------\n",
      "iter: 4\n",
      "n_candidates: 11\n",
      "n_resources: 5346\n",
      "Fitting 10 folds for each of 11 candidates, totalling 110 fits\n",
      "----------\n",
      "iter: 5\n",
      "n_candidates: 4\n",
      "n_resources: 16038\n",
      "Fitting 10 folds for each of 4 candidates, totalling 40 fits\n",
      "----------\n",
      "iter: 6\n",
      "n_candidates: 2\n",
      "n_resources: 48114\n",
      "Fitting 10 folds for each of 2 candidates, totalling 20 fits\n",
      "n_iterations: 7\n",
      "n_required_iterations: 7\n",
      "n_possible_iterations: 7\n",
      "min_resources_: 66\n",
      "max_resources_: 48622\n",
      "aggressive_elimination: False\n",
      "factor: 3\n",
      "----------\n",
      "iter: 0\n",
      "n_candidates: 864\n",
      "n_resources: 66\n",
      "Fitting 10 folds for each of 864 candidates, totalling 8640 fits\n",
      "----------\n",
      "iter: 1\n",
      "n_candidates: 288\n",
      "n_resources: 198\n",
      "Fitting 10 folds for each of 288 candidates, totalling 2880 fits\n",
      "----------\n",
      "iter: 2\n",
      "n_candidates: 96\n",
      "n_resources: 594\n",
      "Fitting 10 folds for each of 96 candidates, totalling 960 fits\n",
      "----------\n",
      "iter: 3\n",
      "n_candidates: 32\n",
      "n_resources: 1782\n",
      "Fitting 10 folds for each of 32 candidates, totalling 320 fits\n",
      "----------\n",
      "iter: 4\n",
      "n_candidates: 11\n",
      "n_resources: 5346\n",
      "Fitting 10 folds for each of 11 candidates, totalling 110 fits\n",
      "----------\n",
      "iter: 5\n",
      "n_candidates: 4\n",
      "n_resources: 16038\n",
      "Fitting 10 folds for each of 4 candidates, totalling 40 fits\n",
      "----------\n",
      "iter: 6\n",
      "n_candidates: 2\n",
      "n_resources: 48114\n",
      "Fitting 10 folds for each of 2 candidates, totalling 20 fits\n"
     ]
    }
   ],
   "source": [
    "\n",
    "# Logistic Regression\n",
    "perform_grid_search(X_train, y_train, 'cvec', 'log_reg', cvec_logr_params)\n",
    "perform_grid_search(X_train, y_train, 'tvec', 'log_reg', tvec_logr_params)\n",
    "\n"
   ]
  },
  {
   "cell_type": "code",
   "execution_count": 29,
   "metadata": {},
   "outputs": [
    {
     "name": "stdout",
     "output_type": "stream",
     "text": [
      "n_iterations: 5\n",
      "n_required_iterations: 6\n",
      "n_possible_iterations: 5\n",
      "min_resources_: 200\n",
      "max_resources_: 48622\n",
      "aggressive_elimination: False\n",
      "factor: 3\n",
      "----------\n",
      "iter: 0\n",
      "n_candidates: 288\n",
      "n_resources: 200\n",
      "Fitting 10 folds for each of 288 candidates, totalling 2880 fits\n"
     ]
    },
    {
     "name": "stdout",
     "output_type": "stream",
     "text": [
      "----------\n",
      "iter: 1\n",
      "n_candidates: 96\n",
      "n_resources: 600\n",
      "Fitting 10 folds for each of 96 candidates, totalling 960 fits\n",
      "----------\n",
      "iter: 2\n",
      "n_candidates: 32\n",
      "n_resources: 1800\n",
      "Fitting 10 folds for each of 32 candidates, totalling 320 fits\n",
      "----------\n",
      "iter: 3\n",
      "n_candidates: 11\n",
      "n_resources: 5400\n",
      "Fitting 10 folds for each of 11 candidates, totalling 110 fits\n",
      "----------\n",
      "iter: 4\n",
      "n_candidates: 4\n",
      "n_resources: 16200\n",
      "Fitting 10 folds for each of 4 candidates, totalling 40 fits\n",
      "n_iterations: 5\n",
      "n_required_iterations: 6\n",
      "n_possible_iterations: 5\n",
      "min_resources_: 200\n",
      "max_resources_: 48622\n",
      "aggressive_elimination: False\n",
      "factor: 3\n",
      "----------\n",
      "iter: 0\n",
      "n_candidates: 288\n",
      "n_resources: 200\n",
      "Fitting 10 folds for each of 288 candidates, totalling 2880 fits\n",
      "----------\n",
      "iter: 1\n",
      "n_candidates: 96\n",
      "n_resources: 600\n",
      "Fitting 10 folds for each of 96 candidates, totalling 960 fits\n",
      "----------\n",
      "iter: 2\n",
      "n_candidates: 32\n",
      "n_resources: 1800\n",
      "Fitting 10 folds for each of 32 candidates, totalling 320 fits\n",
      "----------\n",
      "iter: 3\n",
      "n_candidates: 11\n",
      "n_resources: 5400\n",
      "Fitting 10 folds for each of 11 candidates, totalling 110 fits\n",
      "----------\n",
      "iter: 4\n",
      "n_candidates: 4\n",
      "n_resources: 16200\n",
      "Fitting 10 folds for each of 4 candidates, totalling 40 fits\n"
     ]
    }
   ],
   "source": [
    "# Random Forest\n",
    "\n",
    "perform_grid_search(X_train, y_train, 'cvec', 'rf', rf_cvec_params)\n",
    "perform_grid_search(X_train, y_train, 'tvec', 'rf', rf_tvec_params)\n"
   ]
  },
  {
   "cell_type": "code",
   "execution_count": 30,
   "metadata": {},
   "outputs": [
    {
     "name": "stdout",
     "output_type": "stream",
     "text": [
      "n_iterations: 7\n",
      "n_required_iterations: 7\n",
      "n_possible_iterations: 7\n",
      "min_resources_: 66\n",
      "max_resources_: 48622\n",
      "aggressive_elimination: False\n",
      "factor: 3\n",
      "----------\n",
      "iter: 0\n",
      "n_candidates: 1600\n",
      "n_resources: 66\n",
      "Fitting 10 folds for each of 1600 candidates, totalling 16000 fits\n",
      "----------\n",
      "iter: 1\n",
      "n_candidates: 534\n",
      "n_resources: 198\n",
      "Fitting 10 folds for each of 534 candidates, totalling 5340 fits\n",
      "----------\n",
      "iter: 2\n",
      "n_candidates: 178\n",
      "n_resources: 594\n",
      "Fitting 10 folds for each of 178 candidates, totalling 1780 fits\n",
      "----------\n",
      "iter: 3\n",
      "n_candidates: 60\n",
      "n_resources: 1782\n",
      "Fitting 10 folds for each of 60 candidates, totalling 600 fits\n",
      "----------\n",
      "iter: 4\n",
      "n_candidates: 20\n",
      "n_resources: 5346\n",
      "Fitting 10 folds for each of 20 candidates, totalling 200 fits\n",
      "----------\n",
      "iter: 5\n",
      "n_candidates: 7\n",
      "n_resources: 16038\n",
      "Fitting 10 folds for each of 7 candidates, totalling 70 fits\n",
      "----------\n",
      "iter: 6\n",
      "n_candidates: 3\n",
      "n_resources: 48114\n",
      "Fitting 10 folds for each of 3 candidates, totalling 30 fits\n",
      "n_iterations: 7\n",
      "n_required_iterations: 7\n",
      "n_possible_iterations: 7\n",
      "min_resources_: 66\n",
      "max_resources_: 48622\n",
      "aggressive_elimination: False\n",
      "factor: 3\n",
      "----------\n",
      "iter: 0\n",
      "n_candidates: 960\n",
      "n_resources: 66\n",
      "Fitting 10 folds for each of 960 candidates, totalling 9600 fits\n",
      "----------\n",
      "iter: 1\n",
      "n_candidates: 320\n",
      "n_resources: 198\n",
      "Fitting 10 folds for each of 320 candidates, totalling 3200 fits\n",
      "----------\n",
      "iter: 2\n",
      "n_candidates: 107\n",
      "n_resources: 594\n",
      "Fitting 10 folds for each of 107 candidates, totalling 1070 fits\n",
      "----------\n",
      "iter: 3\n",
      "n_candidates: 36\n",
      "n_resources: 1782\n",
      "Fitting 10 folds for each of 36 candidates, totalling 360 fits\n",
      "----------\n",
      "iter: 4\n",
      "n_candidates: 12\n",
      "n_resources: 5346\n",
      "Fitting 10 folds for each of 12 candidates, totalling 120 fits\n",
      "----------\n",
      "iter: 5\n",
      "n_candidates: 4\n",
      "n_resources: 16038\n",
      "Fitting 10 folds for each of 4 candidates, totalling 40 fits\n",
      "----------\n",
      "iter: 6\n",
      "n_candidates: 2\n",
      "n_resources: 48114\n",
      "Fitting 10 folds for each of 2 candidates, totalling 20 fits\n"
     ]
    }
   ],
   "source": [
    "# Multinominal Naive Bayes\n",
    "\n",
    "perform_grid_search(X_train, y_train, 'cvec', 'nb', nb_cvec_params)\n",
    "perform_grid_search(X_train, y_train, 'tvec', 'nb', nb_tvec_params)"
   ]
  },
  {
   "cell_type": "code",
   "execution_count": 31,
   "metadata": {},
   "outputs": [
    {
     "data": {
      "text/html": [
       "<div>\n",
       "<style scoped>\n",
       "    .dataframe tbody tr th:only-of-type {\n",
       "        vertical-align: middle;\n",
       "    }\n",
       "\n",
       "    .dataframe tbody tr th {\n",
       "        vertical-align: top;\n",
       "    }\n",
       "\n",
       "    .dataframe thead th {\n",
       "        text-align: right;\n",
       "    }\n",
       "</style>\n",
       "<table border=\"1\" class=\"dataframe\">\n",
       "  <thead>\n",
       "    <tr style=\"text-align: right;\">\n",
       "      <th></th>\n",
       "      <th>Vectorizer</th>\n",
       "      <th>Model</th>\n",
       "      <th>Best_Estimator</th>\n",
       "      <th>Best_Params</th>\n",
       "      <th>Train Score</th>\n",
       "      <th>Test Score</th>\n",
       "      <th>Accuracy</th>\n",
       "      <th>Specificity</th>\n",
       "      <th>f_score</th>\n",
       "      <th>ROC_AUC</th>\n",
       "    </tr>\n",
       "  </thead>\n",
       "  <tbody>\n",
       "    <tr>\n",
       "      <th>0</th>\n",
       "      <td>cvec</td>\n",
       "      <td>log_reg</td>\n",
       "      <td>(CountVectorizer(max_df=0.75, ngram_range=(1, ...</td>\n",
       "      <td>{'cvec__max_df': 0.75, 'cvec__max_features': N...</td>\n",
       "      <td>0.974662</td>\n",
       "      <td>0.751645</td>\n",
       "      <td>0.751645</td>\n",
       "      <td>0.538325</td>\n",
       "      <td>0.816441</td>\n",
       "      <td>0.707699</td>\n",
       "    </tr>\n",
       "    <tr>\n",
       "      <th>1</th>\n",
       "      <td>tvec</td>\n",
       "      <td>log_reg</td>\n",
       "      <td>(TfidfVectorizer(max_df=0.75, min_df=2, ngram_...</td>\n",
       "      <td>{'log_reg__C': 1, 'log_reg__penalty': 'l2', 't...</td>\n",
       "      <td>0.845296</td>\n",
       "      <td>0.751563</td>\n",
       "      <td>0.751563</td>\n",
       "      <td>0.511442</td>\n",
       "      <td>0.819032</td>\n",
       "      <td>0.702096</td>\n",
       "    </tr>\n",
       "    <tr>\n",
       "      <th>2</th>\n",
       "      <td>cvec</td>\n",
       "      <td>rf</td>\n",
       "      <td>(CountVectorizer(max_df=0.9, ngram_range=(1, 2...</td>\n",
       "      <td>{'cvec__max_df': 0.9, 'cvec__max_features': No...</td>\n",
       "      <td>0.990334</td>\n",
       "      <td>0.733054</td>\n",
       "      <td>0.733054</td>\n",
       "      <td>0.441235</td>\n",
       "      <td>0.810178</td>\n",
       "      <td>0.672936</td>\n",
       "    </tr>\n",
       "    <tr>\n",
       "      <th>3</th>\n",
       "      <td>tvec</td>\n",
       "      <td>rf</td>\n",
       "      <td>(TfidfVectorizer(max_df=0.75, min_df=2,\\n     ...</td>\n",
       "      <td>{'rf__n_estimators': 50, 'tvec__max_df': 0.75,...</td>\n",
       "      <td>0.988832</td>\n",
       "      <td>0.732478</td>\n",
       "      <td>0.732478</td>\n",
       "      <td>0.487447</td>\n",
       "      <td>0.804942</td>\n",
       "      <td>0.681999</td>\n",
       "    </tr>\n",
       "    <tr>\n",
       "      <th>4</th>\n",
       "      <td>cvec</td>\n",
       "      <td>nb</td>\n",
       "      <td>(CountVectorizer(max_df=0.7, max_features=7000...</td>\n",
       "      <td>{'cvec__max_df': 0.7, 'cvec__max_features': 70...</td>\n",
       "      <td>0.747234</td>\n",
       "      <td>0.726143</td>\n",
       "      <td>0.726143</td>\n",
       "      <td>0.643413</td>\n",
       "      <td>0.780857</td>\n",
       "      <td>0.709100</td>\n",
       "    </tr>\n",
       "    <tr>\n",
       "      <th>5</th>\n",
       "      <td>tvec</td>\n",
       "      <td>nb</td>\n",
       "      <td>(TfidfVectorizer(max_df=0.75, max_features=600...</td>\n",
       "      <td>{'nb__alpha': 0.75, 'nb__fit_prior': True, 'tv...</td>\n",
       "      <td>0.751758</td>\n",
       "      <td>0.729681</td>\n",
       "      <td>0.729681</td>\n",
       "      <td>0.409909</td>\n",
       "      <td>0.810452</td>\n",
       "      <td>0.663805</td>\n",
       "    </tr>\n",
       "  </tbody>\n",
       "</table>\n",
       "</div>"
      ],
      "text/plain": [
       "  Vectorizer    Model                                     Best_Estimator  \\\n",
       "0       cvec  log_reg  (CountVectorizer(max_df=0.75, ngram_range=(1, ...   \n",
       "1       tvec  log_reg  (TfidfVectorizer(max_df=0.75, min_df=2, ngram_...   \n",
       "2       cvec       rf  (CountVectorizer(max_df=0.9, ngram_range=(1, 2...   \n",
       "3       tvec       rf  (TfidfVectorizer(max_df=0.75, min_df=2,\\n     ...   \n",
       "4       cvec       nb  (CountVectorizer(max_df=0.7, max_features=7000...   \n",
       "5       tvec       nb  (TfidfVectorizer(max_df=0.75, max_features=600...   \n",
       "\n",
       "                                         Best_Params  Train Score  Test Score  \\\n",
       "0  {'cvec__max_df': 0.75, 'cvec__max_features': N...     0.974662    0.751645   \n",
       "1  {'log_reg__C': 1, 'log_reg__penalty': 'l2', 't...     0.845296    0.751563   \n",
       "2  {'cvec__max_df': 0.9, 'cvec__max_features': No...     0.990334    0.733054   \n",
       "3  {'rf__n_estimators': 50, 'tvec__max_df': 0.75,...     0.988832    0.732478   \n",
       "4  {'cvec__max_df': 0.7, 'cvec__max_features': 70...     0.747234    0.726143   \n",
       "5  {'nb__alpha': 0.75, 'nb__fit_prior': True, 'tv...     0.751758    0.729681   \n",
       "\n",
       "   Accuracy  Specificity   f_score   ROC_AUC  \n",
       "0  0.751645     0.538325  0.816441  0.707699  \n",
       "1  0.751563     0.511442  0.819032  0.702096  \n",
       "2  0.733054     0.441235  0.810178  0.672936  \n",
       "3  0.732478     0.487447  0.804942  0.681999  \n",
       "4  0.726143     0.643413  0.780857  0.709100  \n",
       "5  0.729681     0.409909  0.810452  0.663805  "
      ]
     },
     "execution_count": 31,
     "metadata": {},
     "output_type": "execute_result"
    }
   ],
   "source": [
    "pd.DataFrame(df_tuning_results)"
   ]
  },
  {
   "cell_type": "markdown",
   "metadata": {},
   "source": [
    "#### 3. Choosing Best Model and Final Tuning\n",
    "\n",
    "After tuning the hyperparameters using HalvingGridSearch, the **Logistic Regression model with TFIFD Vectorizer** transformer achieved the best F1 score of **0.819**. It also had the **ROC_AUC score of 0.702 and Accuracy of 75%**, meaning the model is able to predict 75% of the test data correctly.\n",
    "I will now re-run the model a final time to see if scores can be improved."
   ]
  },
  {
   "cell_type": "code",
   "execution_count": 68,
   "metadata": {},
   "outputs": [],
   "source": [
    "# Re-run best model\n",
    "# Setting up pipeline with NB and CountVec\n",
    "\n",
    "pipe = Pipeline([\n",
    "    ('tvec', TfidfVectorizer()),\n",
    "    ('log_reg', LogisticRegression())\n",
    "])\n",
    "\n",
    "# TFIFD and Logistic Regression\n",
    "\n",
    "tvec_logr_params = {'tvec__max_features': [8000, 9000, 10000, None],\n",
    "                    'tvec__max_df': [0.5, 0.75, 0.9, 1],\n",
    "                    'tvec__min_df': [1, 2, 3],\n",
    "                    'tvec__ngram_range': [(1,2), (1,3)],   \n",
    "                    'log_reg__penalty': ['l1', 'l2', 'elasticnet'],\n",
    "                    'log_reg__C': [1, 0.5, 0.1] }\n",
    "\n"
   ]
  },
  {
   "cell_type": "code",
   "execution_count": 70,
   "metadata": {},
   "outputs": [
    {
     "name": "stdout",
     "output_type": "stream",
     "text": [
      "n_iterations: 7\n",
      "n_required_iterations: 7\n",
      "n_possible_iterations: 7\n",
      "min_resources_: 66\n",
      "max_resources_: 48622\n",
      "aggressive_elimination: False\n",
      "factor: 3\n",
      "----------\n",
      "iter: 0\n",
      "n_candidates: 864\n",
      "n_resources: 66\n",
      "Fitting 5 folds for each of 864 candidates, totalling 4320 fits\n",
      "----------\n",
      "iter: 1\n",
      "n_candidates: 288\n",
      "n_resources: 198\n",
      "Fitting 5 folds for each of 288 candidates, totalling 1440 fits\n",
      "----------\n",
      "iter: 2\n",
      "n_candidates: 96\n",
      "n_resources: 594\n",
      "Fitting 5 folds for each of 96 candidates, totalling 480 fits\n",
      "----------\n",
      "iter: 3\n",
      "n_candidates: 32\n",
      "n_resources: 1782\n",
      "Fitting 5 folds for each of 32 candidates, totalling 160 fits\n",
      "----------\n",
      "iter: 4\n",
      "n_candidates: 11\n",
      "n_resources: 5346\n",
      "Fitting 5 folds for each of 11 candidates, totalling 55 fits\n",
      "----------\n",
      "iter: 5\n",
      "n_candidates: 4\n",
      "n_resources: 16038\n",
      "Fitting 5 folds for each of 4 candidates, totalling 20 fits\n",
      "----------\n",
      "iter: 6\n",
      "n_candidates: 2\n",
      "n_resources: 48114\n",
      "Fitting 5 folds for each of 2 candidates, totalling 10 fits\n"
     ]
    },
    {
     "data": {
      "text/html": [
       "<style>#sk-container-id-2 {color: black;background-color: white;}#sk-container-id-2 pre{padding: 0;}#sk-container-id-2 div.sk-toggleable {background-color: white;}#sk-container-id-2 label.sk-toggleable__label {cursor: pointer;display: block;width: 100%;margin-bottom: 0;padding: 0.3em;box-sizing: border-box;text-align: center;}#sk-container-id-2 label.sk-toggleable__label-arrow:before {content: \"▸\";float: left;margin-right: 0.25em;color: #696969;}#sk-container-id-2 label.sk-toggleable__label-arrow:hover:before {color: black;}#sk-container-id-2 div.sk-estimator:hover label.sk-toggleable__label-arrow:before {color: black;}#sk-container-id-2 div.sk-toggleable__content {max-height: 0;max-width: 0;overflow: hidden;text-align: left;background-color: #f0f8ff;}#sk-container-id-2 div.sk-toggleable__content pre {margin: 0.2em;color: black;border-radius: 0.25em;background-color: #f0f8ff;}#sk-container-id-2 input.sk-toggleable__control:checked~div.sk-toggleable__content {max-height: 200px;max-width: 100%;overflow: auto;}#sk-container-id-2 input.sk-toggleable__control:checked~label.sk-toggleable__label-arrow:before {content: \"▾\";}#sk-container-id-2 div.sk-estimator input.sk-toggleable__control:checked~label.sk-toggleable__label {background-color: #d4ebff;}#sk-container-id-2 div.sk-label input.sk-toggleable__control:checked~label.sk-toggleable__label {background-color: #d4ebff;}#sk-container-id-2 input.sk-hidden--visually {border: 0;clip: rect(1px 1px 1px 1px);clip: rect(1px, 1px, 1px, 1px);height: 1px;margin: -1px;overflow: hidden;padding: 0;position: absolute;width: 1px;}#sk-container-id-2 div.sk-estimator {font-family: monospace;background-color: #f0f8ff;border: 1px dotted black;border-radius: 0.25em;box-sizing: border-box;margin-bottom: 0.5em;}#sk-container-id-2 div.sk-estimator:hover {background-color: #d4ebff;}#sk-container-id-2 div.sk-parallel-item::after {content: \"\";width: 100%;border-bottom: 1px solid gray;flex-grow: 1;}#sk-container-id-2 div.sk-label:hover label.sk-toggleable__label {background-color: #d4ebff;}#sk-container-id-2 div.sk-serial::before {content: \"\";position: absolute;border-left: 1px solid gray;box-sizing: border-box;top: 0;bottom: 0;left: 50%;z-index: 0;}#sk-container-id-2 div.sk-serial {display: flex;flex-direction: column;align-items: center;background-color: white;padding-right: 0.2em;padding-left: 0.2em;position: relative;}#sk-container-id-2 div.sk-item {position: relative;z-index: 1;}#sk-container-id-2 div.sk-parallel {display: flex;align-items: stretch;justify-content: center;background-color: white;position: relative;}#sk-container-id-2 div.sk-item::before, #sk-container-id-2 div.sk-parallel-item::before {content: \"\";position: absolute;border-left: 1px solid gray;box-sizing: border-box;top: 0;bottom: 0;left: 50%;z-index: -1;}#sk-container-id-2 div.sk-parallel-item {display: flex;flex-direction: column;z-index: 1;position: relative;background-color: white;}#sk-container-id-2 div.sk-parallel-item:first-child::after {align-self: flex-end;width: 50%;}#sk-container-id-2 div.sk-parallel-item:last-child::after {align-self: flex-start;width: 50%;}#sk-container-id-2 div.sk-parallel-item:only-child::after {width: 0;}#sk-container-id-2 div.sk-dashed-wrapped {border: 1px dashed gray;margin: 0 0.4em 0.5em 0.4em;box-sizing: border-box;padding-bottom: 0.4em;background-color: white;}#sk-container-id-2 div.sk-label label {font-family: monospace;font-weight: bold;display: inline-block;line-height: 1.2em;}#sk-container-id-2 div.sk-label-container {text-align: center;}#sk-container-id-2 div.sk-container {/* jupyter's `normalize.less` sets `[hidden] { display: none; }` but bootstrap.min.css set `[hidden] { display: none !important; }` so we also need the `!important` here to be able to override the default hidden behavior on the sphinx rendered scikit-learn.org. See: https://github.com/scikit-learn/scikit-learn/issues/21755 */display: inline-block !important;position: relative;}#sk-container-id-2 div.sk-text-repr-fallback {display: none;}</style><div id=\"sk-container-id-2\" class=\"sk-top-container\"><div class=\"sk-text-repr-fallback\"><pre>HalvingGridSearchCV(estimator=Pipeline(steps=[(&#x27;tvec&#x27;, TfidfVectorizer()),\n",
       "                                              (&#x27;log_reg&#x27;,\n",
       "                                               LogisticRegression())]),\n",
       "                    n_jobs=-1,\n",
       "                    param_grid={&#x27;log_reg__C&#x27;: [1, 0.5, 0.1],\n",
       "                                &#x27;log_reg__penalty&#x27;: [&#x27;l1&#x27;, &#x27;l2&#x27;, &#x27;elasticnet&#x27;],\n",
       "                                &#x27;tvec__max_df&#x27;: [0.5, 0.75, 0.9, 1],\n",
       "                                &#x27;tvec__max_features&#x27;: [8000, 9000, 10000, None],\n",
       "                                &#x27;tvec__min_df&#x27;: [1, 2, 3],\n",
       "                                &#x27;tvec__ngram_range&#x27;: [(1, 2), (1, 3)]},\n",
       "                    scoring=&#x27;f1&#x27;, verbose=1)</pre><b>In a Jupyter environment, please rerun this cell to show the HTML representation or trust the notebook. <br />On GitHub, the HTML representation is unable to render, please try loading this page with nbviewer.org.</b></div><div class=\"sk-container\" hidden><div class=\"sk-item sk-dashed-wrapped\"><div class=\"sk-label-container\"><div class=\"sk-label sk-toggleable\"><input class=\"sk-toggleable__control sk-hidden--visually\" id=\"sk-estimator-id-5\" type=\"checkbox\" ><label for=\"sk-estimator-id-5\" class=\"sk-toggleable__label sk-toggleable__label-arrow\">HalvingGridSearchCV</label><div class=\"sk-toggleable__content\"><pre>HalvingGridSearchCV(estimator=Pipeline(steps=[(&#x27;tvec&#x27;, TfidfVectorizer()),\n",
       "                                              (&#x27;log_reg&#x27;,\n",
       "                                               LogisticRegression())]),\n",
       "                    n_jobs=-1,\n",
       "                    param_grid={&#x27;log_reg__C&#x27;: [1, 0.5, 0.1],\n",
       "                                &#x27;log_reg__penalty&#x27;: [&#x27;l1&#x27;, &#x27;l2&#x27;, &#x27;elasticnet&#x27;],\n",
       "                                &#x27;tvec__max_df&#x27;: [0.5, 0.75, 0.9, 1],\n",
       "                                &#x27;tvec__max_features&#x27;: [8000, 9000, 10000, None],\n",
       "                                &#x27;tvec__min_df&#x27;: [1, 2, 3],\n",
       "                                &#x27;tvec__ngram_range&#x27;: [(1, 2), (1, 3)]},\n",
       "                    scoring=&#x27;f1&#x27;, verbose=1)</pre></div></div></div><div class=\"sk-parallel\"><div class=\"sk-parallel-item\"><div class=\"sk-item\"><div class=\"sk-label-container\"><div class=\"sk-label sk-toggleable\"><input class=\"sk-toggleable__control sk-hidden--visually\" id=\"sk-estimator-id-6\" type=\"checkbox\" ><label for=\"sk-estimator-id-6\" class=\"sk-toggleable__label sk-toggleable__label-arrow\">estimator: Pipeline</label><div class=\"sk-toggleable__content\"><pre>Pipeline(steps=[(&#x27;tvec&#x27;, TfidfVectorizer()), (&#x27;log_reg&#x27;, LogisticRegression())])</pre></div></div></div><div class=\"sk-serial\"><div class=\"sk-item\"><div class=\"sk-serial\"><div class=\"sk-item\"><div class=\"sk-estimator sk-toggleable\"><input class=\"sk-toggleable__control sk-hidden--visually\" id=\"sk-estimator-id-7\" type=\"checkbox\" ><label for=\"sk-estimator-id-7\" class=\"sk-toggleable__label sk-toggleable__label-arrow\">TfidfVectorizer</label><div class=\"sk-toggleable__content\"><pre>TfidfVectorizer()</pre></div></div></div><div class=\"sk-item\"><div class=\"sk-estimator sk-toggleable\"><input class=\"sk-toggleable__control sk-hidden--visually\" id=\"sk-estimator-id-8\" type=\"checkbox\" ><label for=\"sk-estimator-id-8\" class=\"sk-toggleable__label sk-toggleable__label-arrow\">LogisticRegression</label><div class=\"sk-toggleable__content\"><pre>LogisticRegression()</pre></div></div></div></div></div></div></div></div></div></div></div></div>"
      ],
      "text/plain": [
       "HalvingGridSearchCV(estimator=Pipeline(steps=[('tvec', TfidfVectorizer()),\n",
       "                                              ('log_reg',\n",
       "                                               LogisticRegression())]),\n",
       "                    n_jobs=-1,\n",
       "                    param_grid={'log_reg__C': [1, 0.5, 0.1],\n",
       "                                'log_reg__penalty': ['l1', 'l2', 'elasticnet'],\n",
       "                                'tvec__max_df': [0.5, 0.75, 0.9, 1],\n",
       "                                'tvec__max_features': [8000, 9000, 10000, None],\n",
       "                                'tvec__min_df': [1, 2, 3],\n",
       "                                'tvec__ngram_range': [(1, 2), (1, 3)]},\n",
       "                    scoring='f1', verbose=1)"
      ]
     },
     "execution_count": 70,
     "metadata": {},
     "output_type": "execute_result"
    }
   ],
   "source": [
    "# Instantiate GridSearchCV\n",
    "gs_final = HalvingGridSearchCV(pipe, tvec_logr_params, cv=5, verbose=1, n_jobs=-1, scoring='f1')\n",
    "\n",
    "\n",
    "#fit GridSearchCV\n",
    "gs_final.fit(X_train, y_train)"
   ]
  },
  {
   "cell_type": "code",
   "execution_count": 71,
   "metadata": {},
   "outputs": [
    {
     "name": "stdout",
     "output_type": "stream",
     "text": [
      "Pipeline(steps=[('tvec',\n",
      "                 TfidfVectorizer(max_df=0.75, min_df=2, ngram_range=(1, 2))),\n",
      "                ('log_reg', LogisticRegression(C=1))])\n",
      "{'log_reg__C': 1, 'log_reg__penalty': 'l2', 'tvec__max_df': 0.75, 'tvec__max_features': None, 'tvec__min_df': 2, 'tvec__ngram_range': (1, 2)}\n"
     ]
    }
   ],
   "source": [
    "best_params = gs_final.best_params_\n",
    "best_estimator = gs_final.best_estimator_\n",
    "print(best_estimator)\n",
    "print(best_params)"
   ]
  },
  {
   "cell_type": "code",
   "execution_count": 72,
   "metadata": {},
   "outputs": [],
   "source": [
    "preds = best_estimator.predict(X_test)\n",
    "\n",
    " # Calculate evaluation metrics\n",
    "train_score = best_estimator.score(X_train, y_train)\n",
    "test_score = best_estimator.score(X_test, y_test)\n",
    "f_score = f1_score(y_test, preds)\n",
    "roc_auc = roc_auc_score(y_test, preds)\n",
    "\n"
   ]
  },
  {
   "cell_type": "code",
   "execution_count": 76,
   "metadata": {},
   "outputs": [
    {
     "name": "stdout",
     "output_type": "stream",
     "text": [
      "Final Scores for Logistic Regression TFIFD Vectorizer Model\n",
      "f1 score: 0.8194344596213755\n",
      "roc-auc score: 0.7025335396111264\n",
      "train_score: 0.8451935337912879\n",
      "test_score: 0.7520565975649884\n"
     ]
    }
   ],
   "source": [
    "print(f\"Final Scores for Logistic Regression TFIFD Vectorizer Model\")\n",
    "print(f\"f1 score: {f_score}\")\n",
    "print(f\"roc-auc score: {roc_auc}\")\n",
    "print(f\"train_score: {train_score}\")\n",
    "print(f\"test_score: {test_score}\")"
   ]
  },
  {
   "cell_type": "markdown",
   "metadata": {},
   "source": [
    "##### 3.1 Confusion Matrix\n",
    "It helps to categorize predictions into true positives, true negatives, false positives, and false negatives, and helps to compare the number of Type I and II errors."
   ]
  },
  {
   "cell_type": "code",
   "execution_count": 74,
   "metadata": {},
   "outputs": [],
   "source": [
    "\n",
    "# Generate confusion matrix.\n",
    "cm = confusion_matrix(y_test, preds)\n",
    "\n",
    "# Create modified labels for Confusion Matrix\n",
    "modified_cm = []\n",
    "for index,value in enumerate(cm):\n",
    "    if index == 0:\n",
    "        modified_cm.append(['TN = ' + str(value[0]), 'FP = ' + str(value[1])])\n",
    "    if index == 1:\n",
    "        modified_cm.append(['FN = ' + str(value[0]), 'TP = ' + str(value[1])])   \n",
    "\n",
    "score = gs_final.score(X_test, y_test)\n",
    "recall = recall_score(y_test, preds)\n",
    "prec = precision_score(y_test, preds)\n",
    "        "
   ]
  },
  {
   "cell_type": "code",
   "execution_count": 75,
   "metadata": {},
   "outputs": [
    {
     "data": {
      "image/png": "[encoded data removed]",
      "text/plain": [
       "<Figure size 800x800 with 2 Axes>"
      ]
     },
     "metadata": {},
     "output_type": "display_data"
    }
   ],
   "source": [
    "plt.figure(figsize=(8,8))\n",
    "sns.heatmap(cm, annot=np.array(modified_cm),\n",
    "            fmt=\"\",\n",
    "            annot_kws={\"size\": 12},\n",
    "            linewidths=.5,\n",
    "            square = True,\n",
    "            cmap = 'Blues',\n",
    "            xticklabels = ['Nvidia', 'AMD'],   #is_amd = 1\n",
    "            yticklabels = ['Nvidia', 'AMD'],\n",
    "            );\n",
    "\n",
    "plt.ylabel('Actual label', fontsize = 14);\n",
    "plt.xlabel('Predicted label', fontsize = 14);\n",
    "plt.title('Accuracy: {:.1f}'.format(score)+'\\n'\n",
    "          +'Precision: {:.1f}'.format(prec)+'\\n'\n",
    "          +'Recall: {:.1f}'.format(recall)+'\\n', size = 12);\n",
    "plt.tick_params(labelsize= 12)"
   ]
  },
  {
   "cell_type": "markdown",
   "metadata": {},
   "source": [
    "#### 3.2 AUC ROC Curve\n",
    "ROC is a probability curve and AUC represents the degree or measure of separability - hence telling us how capable the model is in distinguishing between the two classes - in our case, whether it is from AMD or Nvidia subreddit. A value of 1 represents a perfect separation of the population, while 0.5 is the worst score, meaning the populations pefectly overlap."
   ]
  },
  {
   "cell_type": "code",
   "execution_count": 39,
   "metadata": {},
   "outputs": [
    {
     "data": {
      "text/plain": [
       "<matplotlib.legend.Legend at 0x1b575ada210>"
      ]
     },
     "execution_count": 39,
     "metadata": {},
     "output_type": "execute_result"
    },
    {
     "data": {
      "image/png": "[encoded data removed]",
      "text/plain": [
       "<Figure size 640x480 with 1 Axes>"
      ]
     },
     "metadata": {},
     "output_type": "display_data"
    }
   ],
   "source": [
    "roc_display = RocCurveDisplay.from_estimator(best_estimator, X_test, y_test)\n",
    "plt.plot([0, 1], [0, 1], label='baseline (random guess)', linestyle='--')\n",
    "plt.legend()\n"
   ]
  },
  {
   "cell_type": "markdown",
   "metadata": {},
   "source": [
    "In this case, we have an ROC AUC of 0.81 which is relatively close to 1 and thus I am satisfied with the model. It can separate positive and negative population relatively well."
   ]
  },
  {
   "cell_type": "markdown",
   "metadata": {},
   "source": [
    "### 4. Final Summary\n",
    "\n",
    "#### Modelling\n",
    "\n",
    "**Conclusion**: <br>\n",
    "Logistic Regression with TFIFD Vectorizer is the best model, with **f1-score of 82%**, **ROC AUC score of 71%** and **test data accuracy of 75**%. It is good enough to classify whether a post belongs to r/AMD or r/Nvidia. Train data accuracy was observed to be 85%, hence only slight overfitting. <br>\n",
    "In summary, the best parameters are:\n",
    "- Model: Logistic Regression\n",
    "- Transformer: TFIFD Vectorizer\n",
    "- Max Features: None\n",
    "- Max_df = 0.75: ignore terms that appear in more than 75% of the documents\n",
    "- Min_df = 2: term must appear in at least 2 documents \n",
    "- Bigrams\n",
    "\n",
    "\n",
    "\n",
    "#### Sentiment Analysis *(ref Notebook 2)*\n",
    "\n",
    "**Conclusion**: The proportion of negative posts in r/AMD (27%), is **35%** higher than in r/Nvidia (20%) using VADER. Popular negative n-grams in AMD such as \"high, idle, power\" and \"power, consumption\", while positive n-grams in Nvidia like \"better, image, quality\" and \"high, refresh, rate\" clearly show that there is a clear difference in quality of AMD vs Nvidia products. There is likely a genuine issue with AMD products.<br><br>\n",
    "\n",
    "**Recommendations**:\n",
    "\n",
    "1. Allocation of more Engineering Resources:  Based on the sentiment analysis findings, the recommendation is made to allocate more engineering resources to improve the technical quality of AMD products. Particular attention is suggested for areas like image quality and power consumption.\n",
    "2. Sentiment Monitoring:  Conduct comprehensive testing methods or soft launches to gather sentiments before launching new products. This proactive approach can help AMD address issues early in the development process.\n",
    "3. Benchmarking:  AMD can consider benchmarking their products against Nvidia's products to gain insights and competitive advantages.\n",
    "\n",
    "#### Future Steps\n",
    "1. Collect More Data: Gather additional Reddit post data / data from other sources to increase the size and diversity of dataset. This can help improve the performance of your classification models and sentiment analysis.\n",
    "2. Market Research: Conducting market research in addiition to the findings will give more contextual knowledge and increase awareness of certain terminology, or machine learning techniques that might be more targeted.\n",
    "3. Advanced NLP techniques: Pre-trained models like BERT, or Convolutional Neural Networks (CNNs), which is a deep learning algorithm and will be useful to capture local patterns or n-grams in the text. CNNs are commonly used for tasks like sentiment analysis or text categorization.\n"
   ]
  },
  {
   "cell_type": "markdown",
   "metadata": {},
   "source": []
  }
 ],
 "metadata": {
  "kernelspec": {
   "display_name": "Python 3",
   "language": "python",
   "name": "python3"
  },
  "language_info": {
   "codemirror_mode": {
    "name": "ipython",
    "version": 3
   },
   "file_extension": ".py",
   "mimetype": "text/x-python",
   "name": "python",
   "nbconvert_exporter": "python",
   "pygments_lexer": "ipython3",
   "version": "3.11.4"
  },
  "orig_nbformat": 4
 },
 "nbformat": 4,
 "nbformat_minor": 2
}
